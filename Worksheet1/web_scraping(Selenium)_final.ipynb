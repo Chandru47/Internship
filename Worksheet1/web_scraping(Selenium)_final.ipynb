{
 "cells": [
  {
   "cell_type": "code",
   "execution_count": 1,
   "id": "260855d7",
   "metadata": {},
   "outputs": [
    {
     "name": "stdout",
     "output_type": "stream",
     "text": [
      "Requirement already satisfied: selenium in c:\\programdata\\anaconda3\\lib\\site-packages (4.1.0)\n",
      "Requirement already satisfied: trio~=0.17 in c:\\programdata\\anaconda3\\lib\\site-packages (from selenium) (0.19.0)\n",
      "Requirement already satisfied: trio-websocket~=0.9 in c:\\programdata\\anaconda3\\lib\\site-packages (from selenium) (0.9.2)\n",
      "Requirement already satisfied: urllib3[secure]~=1.26 in c:\\programdata\\anaconda3\\lib\\site-packages (from selenium) (1.26.4)\n",
      "Requirement already satisfied: attrs>=19.2.0 in c:\\programdata\\anaconda3\\lib\\site-packages (from trio~=0.17->selenium) (20.3.0)\n",
      "Requirement already satisfied: idna in c:\\programdata\\anaconda3\\lib\\site-packages (from trio~=0.17->selenium) (2.10)\n",
      "Requirement already satisfied: cffi>=1.14 in c:\\programdata\\anaconda3\\lib\\site-packages (from trio~=0.17->selenium) (1.14.5)\n",
      "Requirement already satisfied: async-generator>=1.9 in c:\\programdata\\anaconda3\\lib\\site-packages (from trio~=0.17->selenium) (1.10)\n",
      "Requirement already satisfied: sniffio in c:\\programdata\\anaconda3\\lib\\site-packages (from trio~=0.17->selenium) (1.2.0)\n",
      "Requirement already satisfied: outcome in c:\\programdata\\anaconda3\\lib\\site-packages (from trio~=0.17->selenium) (1.1.0)\n",
      "Requirement already satisfied: sortedcontainers in c:\\programdata\\anaconda3\\lib\\site-packages (from trio~=0.17->selenium) (2.3.0)\n",
      "Requirement already satisfied: pycparser in c:\\programdata\\anaconda3\\lib\\site-packages (from cffi>=1.14->trio~=0.17->selenium) (2.20)\n",
      "Requirement already satisfied: wsproto>=0.14 in c:\\programdata\\anaconda3\\lib\\site-packages (from trio-websocket~=0.9->selenium) (1.0.0)\n",
      "Requirement already satisfied: certifi in c:\\programdata\\anaconda3\\lib\\site-packages (from urllib3[secure]~=1.26->selenium) (2020.12.5)\n",
      "Requirement already satisfied: cryptography>=1.3.4 in c:\\programdata\\anaconda3\\lib\\site-packages (from urllib3[secure]~=1.26->selenium) (3.4.7)\n",
      "Requirement already satisfied: pyOpenSSL>=0.14 in c:\\programdata\\anaconda3\\lib\\site-packages (from urllib3[secure]~=1.26->selenium) (20.0.1)\n",
      "Requirement already satisfied: six>=1.5.2 in c:\\programdata\\anaconda3\\lib\\site-packages (from pyOpenSSL>=0.14->urllib3[secure]~=1.26->selenium) (1.15.0)\n",
      "Requirement already satisfied: h11<1,>=0.9.0 in c:\\programdata\\anaconda3\\lib\\site-packages (from wsproto>=0.14->trio-websocket~=0.9->selenium) (0.12.0)\n"
     ]
    }
   ],
   "source": [
    "!pip install selenium"
   ]
  },
  {
   "cell_type": "markdown",
   "id": "73b52096",
   "metadata": {},
   "source": [
    "# Q1: Write a python program to scrape data for “Data Analyst” Job position in “Bangalore” location. You\n",
    "have to scrape the job-title, job-location, company_name, experience_required. You have to scrape first 10\n",
    "jobs data.\n",
    "This task will be done in following steps:\n",
    "1. First get the webpage https://www.naukri.com/\n",
    "2. Enter “Data Analyst” in “Skill, Designations, Companies” field and enter “Bangalore” in “enter the\n",
    "location” field.\n",
    "3. Then click the search button.\n",
    "4. Then scrape the data for the first 10 jobs results you get.\n",
    "5. Finally create a dataframe of the scraped data"
   ]
  },
  {
   "cell_type": "code",
   "execution_count": 36,
   "id": "4a60e397",
   "metadata": {},
   "outputs": [],
   "source": [
    "import selenium\n",
    "from selenium import webdriver\n",
    "import pandas as pd\n",
    "import warnings\n",
    "warnings.filterwarnings('ignore')\n",
    "import time\n",
    "from selenium.common.exceptions import StaleElementReferenceException\n",
    "from selenium.common.exceptions import NoSuchElementException\n",
    "from selenium.webdriver.support.ui import WebDriverWait"
   ]
  },
  {
   "cell_type": "code",
   "execution_count": 12,
   "id": "6ae5e65f",
   "metadata": {},
   "outputs": [],
   "source": [
    "driver=webdriver.Chrome(r'C:\\Users\\Chandru\\Downloads\\chromedriver_win32\\chromedriver.exe')"
   ]
  },
  {
   "cell_type": "code",
   "execution_count": 76,
   "id": "046bcc14",
   "metadata": {},
   "outputs": [],
   "source": [
    "driver=webdriver.Chrome('chromedriver.exe')"
   ]
  },
  {
   "cell_type": "code",
   "execution_count": 77,
   "id": "7fc94c2c",
   "metadata": {},
   "outputs": [],
   "source": [
    "url='https://www.naukri.com/'\n",
    "driver.get(url)"
   ]
  },
  {
   "cell_type": "markdown",
   "id": "33065ced",
   "metadata": {},
   "source": [
    "Runing the url and getting the chrome browser automatically."
   ]
  },
  {
   "cell_type": "code",
   "execution_count": 78,
   "id": "0f9c27a4",
   "metadata": {},
   "outputs": [
    {
     "data": {
      "text/plain": [
       "<selenium.webdriver.remote.webelement.WebElement (session=\"2f68c6bbab9dca99759340bba6d9e30d\", element=\"ea9a88e9-f54e-44d3-a97a-ebb0ec538592\")>"
      ]
     },
     "execution_count": 78,
     "metadata": {},
     "output_type": "execute_result"
    }
   ],
   "source": [
    " #finding web element for job search bar using id\n",
    "search_job=driver.find_element_by_id(\"qsb-keyword-sugg\")\n",
    "search_job"
   ]
  },
  {
   "cell_type": "markdown",
   "id": "74ab644c",
   "metadata": {},
   "source": [
    "Got the web page to search job using xpath."
   ]
  },
  {
   "cell_type": "code",
   "execution_count": 79,
   "id": "51c5ceb9",
   "metadata": {},
   "outputs": [],
   "source": [
    "search_job.send_keys(\"Data Analyst\")"
   ]
  },
  {
   "cell_type": "markdown",
   "id": "e36c8f92",
   "metadata": {},
   "source": [
    "Sending the key word Data Analyst to search job."
   ]
  },
  {
   "cell_type": "code",
   "execution_count": 80,
   "id": "a6293d25",
   "metadata": {},
   "outputs": [
    {
     "data": {
      "text/plain": [
       "<selenium.webdriver.remote.webelement.WebElement (session=\"2f68c6bbab9dca99759340bba6d9e30d\", element=\"3b1cdabf-52a4-4fbc-a9e9-d9e48f13a597\")>"
      ]
     },
     "execution_count": 80,
     "metadata": {},
     "output_type": "execute_result"
    }
   ],
   "source": [
    "#finding the web element for search location bar using absolute path\n",
    "search_locn=driver.find_element_by_xpath(\"/html/body/div[1]/div[3]/div[2]/section/div/form/div[2]/div/div/div/div[1]/div[2]/input\")\n",
    "search_locn"
   ]
  },
  {
   "cell_type": "code",
   "execution_count": 81,
   "id": "b2c8229d",
   "metadata": {},
   "outputs": [],
   "source": [
    "#finding web element for job location bar\n",
    "search_locn.send_keys(\"Bangalore\")"
   ]
  },
  {
   "cell_type": "code",
   "execution_count": 82,
   "id": "f1de728f",
   "metadata": {},
   "outputs": [
    {
     "data": {
      "text/plain": [
       "<selenium.webdriver.remote.webelement.WebElement (session=\"2f68c6bbab9dca99759340bba6d9e30d\", element=\"30d1d541-50d0-48be-a2b0-7e19ffb99b40\")>"
      ]
     },
     "execution_count": 82,
     "metadata": {},
     "output_type": "execute_result"
    }
   ],
   "source": [
    "#clicking using absolute xpath function\n",
    "search_btn=driver.find_element_by_xpath('/html/body/div[1]/div[3]/div[2]/section/div/form/div[3]/button')\n",
    "search_btn"
   ]
  },
  {
   "cell_type": "code",
   "execution_count": 84,
   "id": "57f9376a",
   "metadata": {},
   "outputs": [],
   "source": [
    "search_btn.click()"
   ]
  },
  {
   "cell_type": "markdown",
   "id": "a8939575",
   "metadata": {},
   "source": [
    "Now lets first create the 4 empty lists. In these lists the data will be stored while scraping"
   ]
  },
  {
   "cell_type": "markdown",
   "id": "d0fa8835",
   "metadata": {},
   "source": [
    "# Extracting job titles"
   ]
  },
  {
   "cell_type": "code",
   "execution_count": 20,
   "id": "67b0ad71",
   "metadata": {},
   "outputs": [
    {
     "data": {
      "text/plain": [
       "[<selenium.webdriver.remote.webelement.WebElement (session=\"f85f82e79022d55e147eb10a9905e85b\", element=\"3bb0dba8-8254-4b3b-9c84-938fa67d991e\")>,\n",
       " <selenium.webdriver.remote.webelement.WebElement (session=\"f85f82e79022d55e147eb10a9905e85b\", element=\"f312285f-9b44-48fe-8c1d-adfcb49ce55d\")>,\n",
       " <selenium.webdriver.remote.webelement.WebElement (session=\"f85f82e79022d55e147eb10a9905e85b\", element=\"dda40ae0-bfa4-45fb-ad8f-dc90be0479f8\")>,\n",
       " <selenium.webdriver.remote.webelement.WebElement (session=\"f85f82e79022d55e147eb10a9905e85b\", element=\"986df333-9c71-42a0-95ae-776a865da0e3\")>,\n",
       " <selenium.webdriver.remote.webelement.WebElement (session=\"f85f82e79022d55e147eb10a9905e85b\", element=\"b945dea2-ea92-4767-b097-7988b83c1428\")>,\n",
       " <selenium.webdriver.remote.webelement.WebElement (session=\"f85f82e79022d55e147eb10a9905e85b\", element=\"aec95a59-1296-4444-9b04-80682f5592cf\")>,\n",
       " <selenium.webdriver.remote.webelement.WebElement (session=\"f85f82e79022d55e147eb10a9905e85b\", element=\"513baed7-0280-44a5-9bfe-ba4ca05b1d8c\")>,\n",
       " <selenium.webdriver.remote.webelement.WebElement (session=\"f85f82e79022d55e147eb10a9905e85b\", element=\"9fda2dc8-520a-4135-be10-8b81bc999bdf\")>,\n",
       " <selenium.webdriver.remote.webelement.WebElement (session=\"f85f82e79022d55e147eb10a9905e85b\", element=\"08ec780a-1f0c-4d1d-9822-a8506b53c7ea\")>,\n",
       " <selenium.webdriver.remote.webelement.WebElement (session=\"f85f82e79022d55e147eb10a9905e85b\", element=\"93b976dd-88f2-4f70-a96e-3d7613fa695d\")>]"
      ]
     },
     "execution_count": 20,
     "metadata": {},
     "output_type": "execute_result"
    }
   ],
   "source": [
    "title_tags=driver.find_elements_by_xpath('//a[@class=\"title fw500 ellipsis\"]')\n",
    "title_tags[:10]"
   ]
  },
  {
   "cell_type": "code",
   "execution_count": 59,
   "id": "577152d0",
   "metadata": {},
   "outputs": [
    {
     "data": {
      "text/plain": [
       "['Senior Data Analyst',\n",
       " 'Financial Data Analyst',\n",
       " 'Data Analyst',\n",
       " 'Business Data Analyst - Database Design/Mining',\n",
       " 'Financial Data Analyst',\n",
       " 'Senior Data Analyst',\n",
       " 'Senior Data Analyst',\n",
       " 'Senior Data Analyst II',\n",
       " 'Senior Data Analyst II',\n",
       " 'Tcs Hiring For Data Analyst / Engineers']"
      ]
     },
     "execution_count": 59,
     "metadata": {},
     "output_type": "execute_result"
    }
   ],
   "source": [
    "job_titles=[]\n",
    "for i in title_tags:\n",
    "    job_titles.append(i.text)\n",
    "job_titles=job_titles[:10]\n",
    "job_titles"
   ]
  },
  {
   "cell_type": "markdown",
   "id": "8d6a6bda",
   "metadata": {},
   "source": [
    "# Extracting Company Names"
   ]
  },
  {
   "cell_type": "code",
   "execution_count": 30,
   "id": "63f96145",
   "metadata": {},
   "outputs": [
    {
     "data": {
      "text/plain": [
       "[<selenium.webdriver.remote.webelement.WebElement (session=\"f85f82e79022d55e147eb10a9905e85b\", element=\"2acf6e42-9f16-4620-8d3d-263e2f7decc9\")>,\n",
       " <selenium.webdriver.remote.webelement.WebElement (session=\"f85f82e79022d55e147eb10a9905e85b\", element=\"3ff2eed1-7511-4953-b534-348f7d89c724\")>,\n",
       " <selenium.webdriver.remote.webelement.WebElement (session=\"f85f82e79022d55e147eb10a9905e85b\", element=\"d69f16d8-c8cd-4c39-9c9f-493f27ee3b81\")>,\n",
       " <selenium.webdriver.remote.webelement.WebElement (session=\"f85f82e79022d55e147eb10a9905e85b\", element=\"8022d035-530f-4f18-aefe-c9cb61b8cd5d\")>,\n",
       " <selenium.webdriver.remote.webelement.WebElement (session=\"f85f82e79022d55e147eb10a9905e85b\", element=\"b1a5a538-96c6-4a5c-a244-e34088d07385\")>,\n",
       " <selenium.webdriver.remote.webelement.WebElement (session=\"f85f82e79022d55e147eb10a9905e85b\", element=\"8e384baf-d559-4e8a-acd5-898c50f764d1\")>,\n",
       " <selenium.webdriver.remote.webelement.WebElement (session=\"f85f82e79022d55e147eb10a9905e85b\", element=\"2cb4e1a6-ed5c-4570-b0d3-d5ea13c293e1\")>,\n",
       " <selenium.webdriver.remote.webelement.WebElement (session=\"f85f82e79022d55e147eb10a9905e85b\", element=\"0dd24d00-6354-4be4-bad3-04072d56f387\")>,\n",
       " <selenium.webdriver.remote.webelement.WebElement (session=\"f85f82e79022d55e147eb10a9905e85b\", element=\"349abef5-23e7-4603-8913-9104052c5fdb\")>,\n",
       " <selenium.webdriver.remote.webelement.WebElement (session=\"f85f82e79022d55e147eb10a9905e85b\", element=\"cf240465-9968-487e-b9eb-42b4bbc8fa7c\")>]"
      ]
     },
     "execution_count": 30,
     "metadata": {},
     "output_type": "execute_result"
    }
   ],
   "source": [
    "company_tags=driver.find_elements_by_xpath('//a[@class=\"subTitle ellipsis fleft\"]')\n",
    "company_tags[:10]"
   ]
  },
  {
   "cell_type": "code",
   "execution_count": 57,
   "id": "ef899215",
   "metadata": {},
   "outputs": [
    {
     "data": {
      "text/plain": [
       "['Schneider Electric',\n",
       " \"Moody's\",\n",
       " 'WEIWO Communication Pvt. Ltd.',\n",
       " 'AugmatrixGo',\n",
       " \"Moody's\",\n",
       " 'Spectraforce Technologies',\n",
       " 'Flipkart',\n",
       " 'Flipkart',\n",
       " 'Flipkart',\n",
       " 'Tata Consultancy Services Ltd.']"
      ]
     },
     "execution_count": 57,
     "metadata": {},
     "output_type": "execute_result"
    }
   ],
   "source": [
    "company_names=[]\n",
    "for i in company_tags:\n",
    "    company_names.append(i.text)\n",
    "company_names=company_names[:10]\n",
    "company_names"
   ]
  },
  {
   "cell_type": "markdown",
   "id": "d0013cb2",
   "metadata": {},
   "source": [
    "# Extracting the Locations"
   ]
  },
  {
   "cell_type": "code",
   "execution_count": 34,
   "id": "1b1ea392",
   "metadata": {},
   "outputs": [
    {
     "data": {
      "text/plain": [
       "[<selenium.webdriver.remote.webelement.WebElement (session=\"f85f82e79022d55e147eb10a9905e85b\", element=\"6a32abd5-109e-4c19-8710-e55fc24b7ee0\")>,\n",
       " <selenium.webdriver.remote.webelement.WebElement (session=\"f85f82e79022d55e147eb10a9905e85b\", element=\"ac33c17d-b134-4528-b2f9-c05d101f3103\")>,\n",
       " <selenium.webdriver.remote.webelement.WebElement (session=\"f85f82e79022d55e147eb10a9905e85b\", element=\"2864504d-000b-4317-aa1a-43e0b5ba55b4\")>,\n",
       " <selenium.webdriver.remote.webelement.WebElement (session=\"f85f82e79022d55e147eb10a9905e85b\", element=\"ebd43c26-607f-494e-a65b-80502511c38b\")>,\n",
       " <selenium.webdriver.remote.webelement.WebElement (session=\"f85f82e79022d55e147eb10a9905e85b\", element=\"25306147-7af9-438a-a880-0d2b035f13f8\")>,\n",
       " <selenium.webdriver.remote.webelement.WebElement (session=\"f85f82e79022d55e147eb10a9905e85b\", element=\"3997697c-464f-4616-a11b-15833a89f7c9\")>,\n",
       " <selenium.webdriver.remote.webelement.WebElement (session=\"f85f82e79022d55e147eb10a9905e85b\", element=\"79bbc752-b245-420a-8b1a-f586852617df\")>,\n",
       " <selenium.webdriver.remote.webelement.WebElement (session=\"f85f82e79022d55e147eb10a9905e85b\", element=\"e245c326-56fc-4d67-8cc6-5bd16a7e623d\")>,\n",
       " <selenium.webdriver.remote.webelement.WebElement (session=\"f85f82e79022d55e147eb10a9905e85b\", element=\"b5db1919-e5a8-4d38-a372-a060f4ebce12\")>,\n",
       " <selenium.webdriver.remote.webelement.WebElement (session=\"f85f82e79022d55e147eb10a9905e85b\", element=\"af428f28-5051-48fa-82b7-9202abb73a9e\")>]"
      ]
     },
     "execution_count": 34,
     "metadata": {},
     "output_type": "execute_result"
    }
   ],
   "source": [
    "locn_tags=driver.find_elements_by_xpath('//li[@class=\"fleft grey-text br2 placeHolderLi location\"]')\n",
    "locn_tags[:10]"
   ]
  },
  {
   "cell_type": "code",
   "execution_count": 58,
   "id": "7be0eabd",
   "metadata": {},
   "outputs": [
    {
     "data": {
      "text/plain": [
       "['Bangalore/Bengaluru',\n",
       " 'Bangalore/Bengaluru',\n",
       " 'Bangalore/Bengaluru(Ulsoor)',\n",
       " 'Bangalore/Bengaluru',\n",
       " 'Bangalore/Bengaluru',\n",
       " 'Bangalore/Bengaluru',\n",
       " 'Bengaluru/Bangalore',\n",
       " 'Bengaluru/Bangalore',\n",
       " 'Bangalore/Bengaluru',\n",
       " 'Pune, Bangalore/Bengaluru, Delhi / NCR']"
      ]
     },
     "execution_count": 58,
     "metadata": {},
     "output_type": "execute_result"
    }
   ],
   "source": [
    "location=[]\n",
    "for i in locn_tags:\n",
    "    location.append(i.text)\n",
    "location=location[:10]\n",
    "location"
   ]
  },
  {
   "cell_type": "markdown",
   "id": "0073f41c",
   "metadata": {},
   "source": [
    "# Extracting the work experience"
   ]
  },
  {
   "cell_type": "code",
   "execution_count": 43,
   "id": "edae53b9",
   "metadata": {},
   "outputs": [
    {
     "data": {
      "text/plain": [
       "[<selenium.webdriver.remote.webelement.WebElement (session=\"f85f82e79022d55e147eb10a9905e85b\", element=\"54453a1f-5521-4295-98a5-65e0f7cee2ba\")>,\n",
       " <selenium.webdriver.remote.webelement.WebElement (session=\"f85f82e79022d55e147eb10a9905e85b\", element=\"987929ca-6124-493f-af40-52e8b6dcaf45\")>,\n",
       " <selenium.webdriver.remote.webelement.WebElement (session=\"f85f82e79022d55e147eb10a9905e85b\", element=\"a5d61f5a-fbb0-47fb-a266-5a7d9ab4b73b\")>,\n",
       " <selenium.webdriver.remote.webelement.WebElement (session=\"f85f82e79022d55e147eb10a9905e85b\", element=\"b2805e96-6129-4508-9504-3a7fc48bf713\")>,\n",
       " <selenium.webdriver.remote.webelement.WebElement (session=\"f85f82e79022d55e147eb10a9905e85b\", element=\"f264cd8e-63db-4ecb-b4cc-e9e0e4c58841\")>,\n",
       " <selenium.webdriver.remote.webelement.WebElement (session=\"f85f82e79022d55e147eb10a9905e85b\", element=\"093e077f-f9b0-4c81-922a-748bc23d35f9\")>,\n",
       " <selenium.webdriver.remote.webelement.WebElement (session=\"f85f82e79022d55e147eb10a9905e85b\", element=\"98436402-88b4-487b-a588-59273a06607d\")>,\n",
       " <selenium.webdriver.remote.webelement.WebElement (session=\"f85f82e79022d55e147eb10a9905e85b\", element=\"8fdc442b-132d-4148-b454-63b0a6760ef5\")>,\n",
       " <selenium.webdriver.remote.webelement.WebElement (session=\"f85f82e79022d55e147eb10a9905e85b\", element=\"48572db4-c696-4d67-aa2b-16ed5fba6152\")>,\n",
       " <selenium.webdriver.remote.webelement.WebElement (session=\"f85f82e79022d55e147eb10a9905e85b\", element=\"cdcddc49-e987-4d04-beb1-acbe1631711a\")>]"
      ]
     },
     "execution_count": 43,
     "metadata": {},
     "output_type": "execute_result"
    }
   ],
   "source": [
    "exp=driver.find_elements_by_xpath('//li[@class=\"fleft grey-text br2 placeHolderLi experience\"]')\n",
    "exp[:10]"
   ]
  },
  {
   "cell_type": "code",
   "execution_count": 53,
   "id": "da8b5638",
   "metadata": {},
   "outputs": [
    {
     "data": {
      "text/plain": [
       "['0-2 Yrs',\n",
       " '0-2 Yrs',\n",
       " '2-7 Yrs',\n",
       " '2-5 Yrs',\n",
       " '0-2 Yrs',\n",
       " '5-10 Yrs',\n",
       " '2-3 Yrs',\n",
       " '3-7 Yrs',\n",
       " '5-7 Yrs',\n",
       " '4-9 Yrs']"
      ]
     },
     "execution_count": 53,
     "metadata": {},
     "output_type": "execute_result"
    }
   ],
   "source": [
    "experience=[]\n",
    "for i in exp:\n",
    "    experience.append(i.text)\n",
    "len(location)\n",
    "experience=experience[:10]\n",
    "experience"
   ]
  },
  {
   "cell_type": "code",
   "execution_count": 60,
   "id": "2c7633cb",
   "metadata": {},
   "outputs": [
    {
     "name": "stdout",
     "output_type": "stream",
     "text": [
      "10 10 10 10\n"
     ]
    }
   ],
   "source": [
    "print(len(job_titles),len(company_names),len(location),len(experience))"
   ]
  },
  {
   "cell_type": "markdown",
   "id": "b5bd8a54",
   "metadata": {},
   "source": [
    "# Data Framing"
   ]
  },
  {
   "cell_type": "code",
   "execution_count": 61,
   "id": "165b36bc",
   "metadata": {},
   "outputs": [
    {
     "data": {
      "text/html": [
       "<div>\n",
       "<style scoped>\n",
       "    .dataframe tbody tr th:only-of-type {\n",
       "        vertical-align: middle;\n",
       "    }\n",
       "\n",
       "    .dataframe tbody tr th {\n",
       "        vertical-align: top;\n",
       "    }\n",
       "\n",
       "    .dataframe thead th {\n",
       "        text-align: right;\n",
       "    }\n",
       "</style>\n",
       "<table border=\"1\" class=\"dataframe\">\n",
       "  <thead>\n",
       "    <tr style=\"text-align: right;\">\n",
       "      <th></th>\n",
       "      <th>Job-Title</th>\n",
       "      <th>Job-Location</th>\n",
       "      <th>Company-Name</th>\n",
       "      <th>Work-Experience</th>\n",
       "    </tr>\n",
       "  </thead>\n",
       "  <tbody>\n",
       "    <tr>\n",
       "      <th>0</th>\n",
       "      <td>Senior Data Analyst</td>\n",
       "      <td>Bangalore/Bengaluru</td>\n",
       "      <td>Schneider Electric</td>\n",
       "      <td>0-2 Yrs</td>\n",
       "    </tr>\n",
       "    <tr>\n",
       "      <th>1</th>\n",
       "      <td>Financial Data Analyst</td>\n",
       "      <td>Bangalore/Bengaluru</td>\n",
       "      <td>Moody's</td>\n",
       "      <td>0-2 Yrs</td>\n",
       "    </tr>\n",
       "    <tr>\n",
       "      <th>2</th>\n",
       "      <td>Data Analyst</td>\n",
       "      <td>Bangalore/Bengaluru(Ulsoor)</td>\n",
       "      <td>WEIWO Communication Pvt. Ltd.</td>\n",
       "      <td>2-7 Yrs</td>\n",
       "    </tr>\n",
       "    <tr>\n",
       "      <th>3</th>\n",
       "      <td>Business Data Analyst - Database Design/Mining</td>\n",
       "      <td>Bangalore/Bengaluru</td>\n",
       "      <td>AugmatrixGo</td>\n",
       "      <td>2-5 Yrs</td>\n",
       "    </tr>\n",
       "    <tr>\n",
       "      <th>4</th>\n",
       "      <td>Financial Data Analyst</td>\n",
       "      <td>Bangalore/Bengaluru</td>\n",
       "      <td>Moody's</td>\n",
       "      <td>0-2 Yrs</td>\n",
       "    </tr>\n",
       "    <tr>\n",
       "      <th>5</th>\n",
       "      <td>Senior Data Analyst</td>\n",
       "      <td>Bangalore/Bengaluru</td>\n",
       "      <td>Spectraforce Technologies</td>\n",
       "      <td>5-10 Yrs</td>\n",
       "    </tr>\n",
       "    <tr>\n",
       "      <th>6</th>\n",
       "      <td>Senior Data Analyst</td>\n",
       "      <td>Bengaluru/Bangalore</td>\n",
       "      <td>Flipkart</td>\n",
       "      <td>2-3 Yrs</td>\n",
       "    </tr>\n",
       "    <tr>\n",
       "      <th>7</th>\n",
       "      <td>Senior Data Analyst II</td>\n",
       "      <td>Bengaluru/Bangalore</td>\n",
       "      <td>Flipkart</td>\n",
       "      <td>3-7 Yrs</td>\n",
       "    </tr>\n",
       "    <tr>\n",
       "      <th>8</th>\n",
       "      <td>Senior Data Analyst II</td>\n",
       "      <td>Bangalore/Bengaluru</td>\n",
       "      <td>Flipkart</td>\n",
       "      <td>5-7 Yrs</td>\n",
       "    </tr>\n",
       "    <tr>\n",
       "      <th>9</th>\n",
       "      <td>Tcs Hiring For Data Analyst / Engineers</td>\n",
       "      <td>Pune, Bangalore/Bengaluru, Delhi / NCR</td>\n",
       "      <td>Tata Consultancy Services Ltd.</td>\n",
       "      <td>4-9 Yrs</td>\n",
       "    </tr>\n",
       "  </tbody>\n",
       "</table>\n",
       "</div>"
      ],
      "text/plain": [
       "                                        Job-Title  \\\n",
       "0                             Senior Data Analyst   \n",
       "1                          Financial Data Analyst   \n",
       "2                                    Data Analyst   \n",
       "3  Business Data Analyst - Database Design/Mining   \n",
       "4                          Financial Data Analyst   \n",
       "5                             Senior Data Analyst   \n",
       "6                             Senior Data Analyst   \n",
       "7                          Senior Data Analyst II   \n",
       "8                          Senior Data Analyst II   \n",
       "9         Tcs Hiring For Data Analyst / Engineers   \n",
       "\n",
       "                             Job-Location                    Company-Name  \\\n",
       "0                     Bangalore/Bengaluru              Schneider Electric   \n",
       "1                     Bangalore/Bengaluru                         Moody's   \n",
       "2             Bangalore/Bengaluru(Ulsoor)   WEIWO Communication Pvt. Ltd.   \n",
       "3                     Bangalore/Bengaluru                     AugmatrixGo   \n",
       "4                     Bangalore/Bengaluru                         Moody's   \n",
       "5                     Bangalore/Bengaluru       Spectraforce Technologies   \n",
       "6                     Bengaluru/Bangalore                        Flipkart   \n",
       "7                     Bengaluru/Bangalore                        Flipkart   \n",
       "8                     Bangalore/Bengaluru                        Flipkart   \n",
       "9  Pune, Bangalore/Bengaluru, Delhi / NCR  Tata Consultancy Services Ltd.   \n",
       "\n",
       "  Work-Experience  \n",
       "0         0-2 Yrs  \n",
       "1         0-2 Yrs  \n",
       "2         2-7 Yrs  \n",
       "3         2-5 Yrs  \n",
       "4         0-2 Yrs  \n",
       "5        5-10 Yrs  \n",
       "6         2-3 Yrs  \n",
       "7         3-7 Yrs  \n",
       "8         5-7 Yrs  \n",
       "9         4-9 Yrs  "
      ]
     },
     "execution_count": 61,
     "metadata": {},
     "output_type": "execute_result"
    }
   ],
   "source": [
    "#creating DataFrame for scraped data\n",
    "jobs=pd.DataFrame()\n",
    "jobs['Job-Title']=job_titles\n",
    "jobs['Job-Location']=location\n",
    "jobs['Company-Name']=company_names\n",
    "jobs['Work-Experience']=experience\n",
    "jobs"
   ]
  },
  {
   "cell_type": "markdown",
   "id": "fe60833b",
   "metadata": {},
   "source": [
    "# Q2: Write a python program to scrape data for “Data Scientist” Job position in “Bangalore” location. You\n",
    "have to scrape the job-title, job-location, company_name. You have to scrape first 10 jobs data.\n",
    "This task will be done in following steps:\n",
    "1. First get the webpage https://www.naukri.com/\n",
    "2. Enter “Data Scientist” in “Skill, Designations, Companies” field and enter “Bangalore” in “enter the\n",
    "location” field.\n",
    "3. Then click the search button.\n",
    "4. Then scrape the data for the first 10 jobs results you get.\n",
    "5. Finally create a dataframe of the scraped data"
   ]
  },
  {
   "cell_type": "code",
   "execution_count": 100,
   "id": "a6a59d46",
   "metadata": {},
   "outputs": [],
   "source": [
    "driver=webdriver.Chrome('chromedriver.exe')"
   ]
  },
  {
   "cell_type": "code",
   "execution_count": 101,
   "id": "829bf732",
   "metadata": {},
   "outputs": [],
   "source": [
    "url='https://www.naukri.com/'\n",
    "driver.get(url)"
   ]
  },
  {
   "cell_type": "markdown",
   "id": "378a8834",
   "metadata": {},
   "source": [
    "Runing the url and getting the chrome browser automatically."
   ]
  },
  {
   "cell_type": "code",
   "execution_count": 102,
   "id": "cfd083be",
   "metadata": {},
   "outputs": [
    {
     "data": {
      "text/plain": [
       "<selenium.webdriver.remote.webelement.WebElement (session=\"a43e694cf68a9c9e3465892e895c77fc\", element=\"45cc7f2c-451a-4b8a-8264-c7cb27dd8fc6\")>"
      ]
     },
     "execution_count": 102,
     "metadata": {},
     "output_type": "execute_result"
    }
   ],
   "source": [
    "#searching job type\n",
    "search_job=driver.find_element_by_xpath('/html/body/div[1]/div[3]/div[2]/section/div/form/div[1]/div/div/div/div[1]/div[2]/input')\n",
    "search_job"
   ]
  },
  {
   "cell_type": "markdown",
   "id": "8d33b0fb",
   "metadata": {},
   "source": [
    "Got the web page to search job using xpath."
   ]
  },
  {
   "cell_type": "code",
   "execution_count": 103,
   "id": "78d3d1d3",
   "metadata": {},
   "outputs": [],
   "source": [
    "search_job.send_keys(\"Data Scientist\")"
   ]
  },
  {
   "cell_type": "markdown",
   "id": "8155ff59",
   "metadata": {},
   "source": [
    "Sending the key word Data Scientist to search job."
   ]
  },
  {
   "cell_type": "code",
   "execution_count": 104,
   "id": "2f12a4a4",
   "metadata": {},
   "outputs": [
    {
     "data": {
      "text/plain": [
       "<selenium.webdriver.remote.webelement.WebElement (session=\"a43e694cf68a9c9e3465892e895c77fc\", element=\"fcbc7612-2ff2-4108-a0a5-2311e7b25f81\")>"
      ]
     },
     "execution_count": 104,
     "metadata": {},
     "output_type": "execute_result"
    }
   ],
   "source": [
    "#finding web element for search location bar using absolute xpath\n",
    "search_locn=driver.find_element_by_xpath('/html/body/div[1]/div[3]/div[2]/section/div/form/div[2]/div/div/div/div[1]/div[2]/input')\n",
    "search_locn"
   ]
  },
  {
   "cell_type": "markdown",
   "id": "1f21a7ea",
   "metadata": {},
   "source": [
    "Got the web element for searching location using xpath."
   ]
  },
  {
   "cell_type": "code",
   "execution_count": 105,
   "id": "441e50d1",
   "metadata": {},
   "outputs": [],
   "source": [
    "search_locn.send_keys(\"Bangalore\")"
   ]
  },
  {
   "cell_type": "markdown",
   "id": "3c8315e6",
   "metadata": {},
   "source": [
    "Sending the key word Bangalore to search location."
   ]
  },
  {
   "cell_type": "code",
   "execution_count": 106,
   "id": "6074d765",
   "metadata": {},
   "outputs": [
    {
     "data": {
      "text/plain": [
       "<selenium.webdriver.remote.webelement.WebElement (session=\"a43e694cf68a9c9e3465892e895c77fc\", element=\"467a0fe9-adaf-4183-a8f3-b0d701a1c614\")>"
      ]
     },
     "execution_count": 106,
     "metadata": {},
     "output_type": "execute_result"
    }
   ],
   "source": [
    "#clicking using absolute xpath function\n",
    "search_btn=driver.find_element_by_xpath('/html/body/div[1]/div[3]/div[2]/section/div/form/div[3]/button')\n",
    "search_btn"
   ]
  },
  {
   "cell_type": "markdown",
   "id": "ec997273",
   "metadata": {},
   "source": [
    "Got the web element for search button using xpath."
   ]
  },
  {
   "cell_type": "code",
   "execution_count": 107,
   "id": "26168e59",
   "metadata": {},
   "outputs": [],
   "source": [
    "search_btn.click()"
   ]
  },
  {
   "cell_type": "markdown",
   "id": "a3db5df8",
   "metadata": {},
   "source": [
    "# Extracting Job Titles"
   ]
  },
  {
   "cell_type": "code",
   "execution_count": 112,
   "id": "5dc914f5",
   "metadata": {},
   "outputs": [
    {
     "data": {
      "text/plain": [
       "[<selenium.webdriver.remote.webelement.WebElement (session=\"a43e694cf68a9c9e3465892e895c77fc\", element=\"4d6838e4-c1a8-4066-a9aa-92d52dbbd2c3\")>,\n",
       " <selenium.webdriver.remote.webelement.WebElement (session=\"a43e694cf68a9c9e3465892e895c77fc\", element=\"76faec96-2fd6-41ee-8e02-a0e8eae020e1\")>,\n",
       " <selenium.webdriver.remote.webelement.WebElement (session=\"a43e694cf68a9c9e3465892e895c77fc\", element=\"9529467c-8dd9-4546-8311-9ecf1e587599\")>,\n",
       " <selenium.webdriver.remote.webelement.WebElement (session=\"a43e694cf68a9c9e3465892e895c77fc\", element=\"355e3329-c6b3-4756-a5d2-9e0a2d766b47\")>,\n",
       " <selenium.webdriver.remote.webelement.WebElement (session=\"a43e694cf68a9c9e3465892e895c77fc\", element=\"08eb2494-dae7-4596-8421-e4ee6916e58f\")>,\n",
       " <selenium.webdriver.remote.webelement.WebElement (session=\"a43e694cf68a9c9e3465892e895c77fc\", element=\"deb25a25-1b66-4f4c-a5ad-8a50a8b5eedd\")>,\n",
       " <selenium.webdriver.remote.webelement.WebElement (session=\"a43e694cf68a9c9e3465892e895c77fc\", element=\"9ce30a7d-dfd7-4fa4-8d7b-dc33973efa20\")>,\n",
       " <selenium.webdriver.remote.webelement.WebElement (session=\"a43e694cf68a9c9e3465892e895c77fc\", element=\"871facd6-a14d-4849-88ac-73927015051a\")>,\n",
       " <selenium.webdriver.remote.webelement.WebElement (session=\"a43e694cf68a9c9e3465892e895c77fc\", element=\"5d55e303-ad11-4bbd-a8b5-5fbb90327f13\")>,\n",
       " <selenium.webdriver.remote.webelement.WebElement (session=\"a43e694cf68a9c9e3465892e895c77fc\", element=\"cecb9520-3533-400f-8442-ec2961c06017\")>]"
      ]
     },
     "execution_count": 112,
     "metadata": {},
     "output_type": "execute_result"
    }
   ],
   "source": [
    "title_tags=driver.find_elements_by_xpath('//a[@class=\"title fw500 ellipsis\"]')\n",
    "title_tags[:10]"
   ]
  },
  {
   "cell_type": "code",
   "execution_count": 114,
   "id": "ee75a02a",
   "metadata": {},
   "outputs": [
    {
     "data": {
      "text/plain": [
       "['Global Tax Automation & Operations | Data Scientist Senior Analyst',\n",
       " 'Lead Data Scientist',\n",
       " 'Sr Applied Data Scientist',\n",
       " 'Senior Risk Data Scientist',\n",
       " 'Senior Risk Data Scientist',\n",
       " 'Conducting virtual drive on 8th Jan For Data Scientists',\n",
       " 'Principal Data Scientist',\n",
       " 'Data Scientist',\n",
       " 'Data Scientist',\n",
       " 'Senior Associate - Data Scientist']"
      ]
     },
     "execution_count": 114,
     "metadata": {},
     "output_type": "execute_result"
    }
   ],
   "source": [
    "job_titles=[]\n",
    "for i in title_tags:\n",
    "    job_titles.append(i.text)\n",
    "job_titles=job_titles[:10]\n",
    "job_titles"
   ]
  },
  {
   "cell_type": "markdown",
   "id": "996813be",
   "metadata": {},
   "source": [
    "# Extracting the Location"
   ]
  },
  {
   "cell_type": "code",
   "execution_count": 121,
   "id": "f1854a07",
   "metadata": {},
   "outputs": [
    {
     "data": {
      "text/plain": [
       "[<selenium.webdriver.remote.webelement.WebElement (session=\"a43e694cf68a9c9e3465892e895c77fc\", element=\"2f1665e8-4bbe-4103-aaf2-7881b4e0ec19\")>,\n",
       " <selenium.webdriver.remote.webelement.WebElement (session=\"a43e694cf68a9c9e3465892e895c77fc\", element=\"4fe2a540-9188-40ae-a1a8-74337d196756\")>,\n",
       " <selenium.webdriver.remote.webelement.WebElement (session=\"a43e694cf68a9c9e3465892e895c77fc\", element=\"833fc8aa-b3df-489e-b123-528e53acf27a\")>,\n",
       " <selenium.webdriver.remote.webelement.WebElement (session=\"a43e694cf68a9c9e3465892e895c77fc\", element=\"fc3b539d-686f-4fe1-80b6-5d8b467dac76\")>,\n",
       " <selenium.webdriver.remote.webelement.WebElement (session=\"a43e694cf68a9c9e3465892e895c77fc\", element=\"f049f938-fa9e-46e2-909a-a4e11a090833\")>,\n",
       " <selenium.webdriver.remote.webelement.WebElement (session=\"a43e694cf68a9c9e3465892e895c77fc\", element=\"46b5cbc4-daf2-495d-a65a-69f50aabd1d6\")>,\n",
       " <selenium.webdriver.remote.webelement.WebElement (session=\"a43e694cf68a9c9e3465892e895c77fc\", element=\"48cf5ff0-1416-4aff-8209-50f13dc7b543\")>,\n",
       " <selenium.webdriver.remote.webelement.WebElement (session=\"a43e694cf68a9c9e3465892e895c77fc\", element=\"744f7391-0ceb-49d5-bc0f-34943ff521b6\")>,\n",
       " <selenium.webdriver.remote.webelement.WebElement (session=\"a43e694cf68a9c9e3465892e895c77fc\", element=\"9097f2bc-6cc1-451e-83b5-470b79a36394\")>,\n",
       " <selenium.webdriver.remote.webelement.WebElement (session=\"a43e694cf68a9c9e3465892e895c77fc\", element=\"939fb17f-7b42-4f8f-bc39-fa9619011e11\")>]"
      ]
     },
     "execution_count": 121,
     "metadata": {},
     "output_type": "execute_result"
    }
   ],
   "source": [
    "locn_tags=driver.find_elements_by_xpath('//li[@class=\"fleft grey-text br2 placeHolderLi location\"]')\n",
    "locn_tags[:10]"
   ]
  },
  {
   "cell_type": "code",
   "execution_count": 122,
   "id": "b5924682",
   "metadata": {},
   "outputs": [
    {
     "data": {
      "text/plain": [
       "['Bangalore/Bengaluru',\n",
       " 'Bangalore/Bengaluru',\n",
       " 'Bangalore/Bengaluru',\n",
       " 'Bangalore/Bengaluru',\n",
       " 'Bangalore/Bengaluru',\n",
       " 'Kolkata, Hyderabad/Secunderabad, Pune, Ahmedabad, Chennai, Bangalore/Bengaluru, Delhi / NCR, Mumbai (All Areas)\\n(WFH during Covid)',\n",
       " 'Bangalore/Bengaluru',\n",
       " 'Bangalore/Bengaluru',\n",
       " 'Bangalore/Bengaluru',\n",
       " 'Hyderabad/Secunderabad, Bangalore/Bengaluru\\n(WFH during Covid)']"
      ]
     },
     "execution_count": 122,
     "metadata": {},
     "output_type": "execute_result"
    }
   ],
   "source": [
    "location=[]\n",
    "for i in locn_tags:\n",
    "    location.append(i.text)\n",
    "location=location[:10]\n",
    "location"
   ]
  },
  {
   "cell_type": "markdown",
   "id": "cb133734",
   "metadata": {},
   "source": [
    "# Extracting Company Names"
   ]
  },
  {
   "cell_type": "code",
   "execution_count": 124,
   "id": "676f3106",
   "metadata": {},
   "outputs": [
    {
     "data": {
      "text/plain": [
       "[<selenium.webdriver.remote.webelement.WebElement (session=\"a43e694cf68a9c9e3465892e895c77fc\", element=\"61182ffb-b47f-4baa-9fe0-773723e570c6\")>,\n",
       " <selenium.webdriver.remote.webelement.WebElement (session=\"a43e694cf68a9c9e3465892e895c77fc\", element=\"d5fa601d-b354-43e6-98e1-cad9990a2f18\")>,\n",
       " <selenium.webdriver.remote.webelement.WebElement (session=\"a43e694cf68a9c9e3465892e895c77fc\", element=\"5c6d0af9-c52b-4ef4-8198-8307d03fb738\")>,\n",
       " <selenium.webdriver.remote.webelement.WebElement (session=\"a43e694cf68a9c9e3465892e895c77fc\", element=\"4199a02f-606a-4b66-b521-a562f5581eaa\")>,\n",
       " <selenium.webdriver.remote.webelement.WebElement (session=\"a43e694cf68a9c9e3465892e895c77fc\", element=\"f0c8fa18-b274-4787-b214-ae204b334534\")>,\n",
       " <selenium.webdriver.remote.webelement.WebElement (session=\"a43e694cf68a9c9e3465892e895c77fc\", element=\"4fd0ed98-0ff2-4ae4-ac81-2da26f437c34\")>,\n",
       " <selenium.webdriver.remote.webelement.WebElement (session=\"a43e694cf68a9c9e3465892e895c77fc\", element=\"f2fc475f-221b-4b20-85a9-5258552ef220\")>,\n",
       " <selenium.webdriver.remote.webelement.WebElement (session=\"a43e694cf68a9c9e3465892e895c77fc\", element=\"e3b5d2fe-c9c5-43fd-8f83-ce9918e3d1af\")>,\n",
       " <selenium.webdriver.remote.webelement.WebElement (session=\"a43e694cf68a9c9e3465892e895c77fc\", element=\"84fba75b-9f6e-4d60-9dfb-53bad7d09654\")>,\n",
       " <selenium.webdriver.remote.webelement.WebElement (session=\"a43e694cf68a9c9e3465892e895c77fc\", element=\"a98b4255-34c8-4a73-a842-e1d75343f161\")>]"
      ]
     },
     "execution_count": 124,
     "metadata": {},
     "output_type": "execute_result"
    }
   ],
   "source": [
    "company_tags=driver.find_elements_by_xpath('//a[@class=\"subTitle ellipsis fleft\"]')\n",
    "company_tags[:10]"
   ]
  },
  {
   "cell_type": "code",
   "execution_count": 126,
   "id": "94ab8534",
   "metadata": {},
   "outputs": [
    {
     "data": {
      "text/plain": [
       "['Dell International Services India Private Limited',\n",
       " 'First American Corporation',\n",
       " 'Tesco Bengaluru',\n",
       " 'GSK India',\n",
       " 'GSK India',\n",
       " 'Pluto seven business solutions (p) limited',\n",
       " 'Narayana Heath',\n",
       " 'ELPIS IT SOLUTIONS PVT LTD',\n",
       " 'Narayana Health',\n",
       " 'Paonta Valley LLP']"
      ]
     },
     "execution_count": 126,
     "metadata": {},
     "output_type": "execute_result"
    }
   ],
   "source": [
    "company_name=[]\n",
    "for i in company_tags:\n",
    "    company_name.append(i.text)\n",
    "company_name=company_name[:10]\n",
    "company_name"
   ]
  },
  {
   "cell_type": "code",
   "execution_count": 127,
   "id": "d1606dd3",
   "metadata": {},
   "outputs": [
    {
     "data": {
      "text/plain": [
       "(10, 10, 10)"
      ]
     },
     "execution_count": 127,
     "metadata": {},
     "output_type": "execute_result"
    }
   ],
   "source": [
    "len(job_titles),len(location),len(company_name)"
   ]
  },
  {
   "cell_type": "markdown",
   "id": "6cfc2ec3",
   "metadata": {},
   "source": [
    "# Data Framing"
   ]
  },
  {
   "cell_type": "code",
   "execution_count": 128,
   "id": "c7b6df65",
   "metadata": {},
   "outputs": [
    {
     "data": {
      "text/html": [
       "<div>\n",
       "<style scoped>\n",
       "    .dataframe tbody tr th:only-of-type {\n",
       "        vertical-align: middle;\n",
       "    }\n",
       "\n",
       "    .dataframe tbody tr th {\n",
       "        vertical-align: top;\n",
       "    }\n",
       "\n",
       "    .dataframe thead th {\n",
       "        text-align: right;\n",
       "    }\n",
       "</style>\n",
       "<table border=\"1\" class=\"dataframe\">\n",
       "  <thead>\n",
       "    <tr style=\"text-align: right;\">\n",
       "      <th></th>\n",
       "      <th>Job-Title</th>\n",
       "      <th>Job-Location</th>\n",
       "      <th>Company-Name</th>\n",
       "    </tr>\n",
       "  </thead>\n",
       "  <tbody>\n",
       "    <tr>\n",
       "      <th>0</th>\n",
       "      <td>Global Tax Automation &amp; Operations | Data Scie...</td>\n",
       "      <td>Bangalore/Bengaluru</td>\n",
       "      <td>Dell International Services India Private Limited</td>\n",
       "    </tr>\n",
       "    <tr>\n",
       "      <th>1</th>\n",
       "      <td>Lead Data Scientist</td>\n",
       "      <td>Bangalore/Bengaluru</td>\n",
       "      <td>First American Corporation</td>\n",
       "    </tr>\n",
       "    <tr>\n",
       "      <th>2</th>\n",
       "      <td>Sr Applied Data Scientist</td>\n",
       "      <td>Bangalore/Bengaluru</td>\n",
       "      <td>Tesco Bengaluru</td>\n",
       "    </tr>\n",
       "    <tr>\n",
       "      <th>3</th>\n",
       "      <td>Senior Risk Data Scientist</td>\n",
       "      <td>Bangalore/Bengaluru</td>\n",
       "      <td>GSK India</td>\n",
       "    </tr>\n",
       "    <tr>\n",
       "      <th>4</th>\n",
       "      <td>Senior Risk Data Scientist</td>\n",
       "      <td>Bangalore/Bengaluru</td>\n",
       "      <td>GSK India</td>\n",
       "    </tr>\n",
       "    <tr>\n",
       "      <th>5</th>\n",
       "      <td>Conducting virtual drive on 8th Jan For Data S...</td>\n",
       "      <td>Kolkata, Hyderabad/Secunderabad, Pune, Ahmedab...</td>\n",
       "      <td>Pluto seven business solutions (p) limited</td>\n",
       "    </tr>\n",
       "    <tr>\n",
       "      <th>6</th>\n",
       "      <td>Principal Data Scientist</td>\n",
       "      <td>Bangalore/Bengaluru</td>\n",
       "      <td>Narayana Heath</td>\n",
       "    </tr>\n",
       "    <tr>\n",
       "      <th>7</th>\n",
       "      <td>Data Scientist</td>\n",
       "      <td>Bangalore/Bengaluru</td>\n",
       "      <td>ELPIS IT SOLUTIONS PVT LTD</td>\n",
       "    </tr>\n",
       "    <tr>\n",
       "      <th>8</th>\n",
       "      <td>Data Scientist</td>\n",
       "      <td>Bangalore/Bengaluru</td>\n",
       "      <td>Narayana Health</td>\n",
       "    </tr>\n",
       "    <tr>\n",
       "      <th>9</th>\n",
       "      <td>Senior Associate - Data Scientist</td>\n",
       "      <td>Hyderabad/Secunderabad, Bangalore/Bengaluru\\n(...</td>\n",
       "      <td>Paonta Valley LLP</td>\n",
       "    </tr>\n",
       "  </tbody>\n",
       "</table>\n",
       "</div>"
      ],
      "text/plain": [
       "                                           Job-Title  \\\n",
       "0  Global Tax Automation & Operations | Data Scie...   \n",
       "1                                Lead Data Scientist   \n",
       "2                          Sr Applied Data Scientist   \n",
       "3                         Senior Risk Data Scientist   \n",
       "4                         Senior Risk Data Scientist   \n",
       "5  Conducting virtual drive on 8th Jan For Data S...   \n",
       "6                           Principal Data Scientist   \n",
       "7                                     Data Scientist   \n",
       "8                                     Data Scientist   \n",
       "9                  Senior Associate - Data Scientist   \n",
       "\n",
       "                                        Job-Location  \\\n",
       "0                                Bangalore/Bengaluru   \n",
       "1                                Bangalore/Bengaluru   \n",
       "2                                Bangalore/Bengaluru   \n",
       "3                                Bangalore/Bengaluru   \n",
       "4                                Bangalore/Bengaluru   \n",
       "5  Kolkata, Hyderabad/Secunderabad, Pune, Ahmedab...   \n",
       "6                                Bangalore/Bengaluru   \n",
       "7                                Bangalore/Bengaluru   \n",
       "8                                Bangalore/Bengaluru   \n",
       "9  Hyderabad/Secunderabad, Bangalore/Bengaluru\\n(...   \n",
       "\n",
       "                                        Company-Name  \n",
       "0  Dell International Services India Private Limited  \n",
       "1                         First American Corporation  \n",
       "2                                    Tesco Bengaluru  \n",
       "3                                          GSK India  \n",
       "4                                          GSK India  \n",
       "5         Pluto seven business solutions (p) limited  \n",
       "6                                     Narayana Heath  \n",
       "7                         ELPIS IT SOLUTIONS PVT LTD  \n",
       "8                                    Narayana Health  \n",
       "9                                  Paonta Valley LLP  "
      ]
     },
     "execution_count": 128,
     "metadata": {},
     "output_type": "execute_result"
    }
   ],
   "source": [
    "jobs=pd.DataFrame()\n",
    "jobs['Job-Title']=job_titles\n",
    "jobs['Job-Location']=location\n",
    "jobs['Company-Name']=company_name\n",
    "jobs"
   ]
  },
  {
   "cell_type": "markdown",
   "id": "5af56dcb",
   "metadata": {},
   "source": [
    "# Q3: In this question you have to scrape data using the filters available on the webpage as shown below\n",
    "You have to use the location and salary filter.\n",
    "You have to scrape data for “Data Scientist” designation for first 10 job results.\n",
    "You have to scrape the job-title, job-location, company name, experience required.\n",
    "The location filter to be used is “Delhi/NCR”. The salary filter to be used is “3-6” lakhs\n",
    "The task will be done as shown in the below steps:\n",
    "1. first get the webpage https://www.naukri.com/\n",
    "2. Enter “Data Scientist” in “Skill, Designations, and Companies” field.\n",
    "3. Then click the search button.\n",
    "4. Then apply the location filter and salary filter by checking the respective boxes\n",
    "5. Then scrape the data for the first 10 jobs results you get.\n",
    "6. Finally create a dataframe of the scraped data"
   ]
  },
  {
   "cell_type": "code",
   "execution_count": 135,
   "id": "dd970a19",
   "metadata": {},
   "outputs": [],
   "source": [
    "driver=webdriver.Chrome('chromedriver.exe')"
   ]
  },
  {
   "cell_type": "code",
   "execution_count": 136,
   "id": "79b0a57f",
   "metadata": {},
   "outputs": [],
   "source": [
    "url='https://www.naukri.com/'\n",
    "driver.get(url)"
   ]
  },
  {
   "cell_type": "markdown",
   "id": "be7f0515",
   "metadata": {},
   "source": [
    "Runing the url and getting the chrome browser automatically."
   ]
  },
  {
   "cell_type": "code",
   "execution_count": 137,
   "id": "472fdc74",
   "metadata": {},
   "outputs": [
    {
     "data": {
      "text/plain": [
       "<selenium.webdriver.remote.webelement.WebElement (session=\"bc1f35b704551a34c0c121cffdb9c356\", element=\"dad0abec-b24a-4f52-81e2-aece05f35d62\")>"
      ]
     },
     "execution_count": 137,
     "metadata": {},
     "output_type": "execute_result"
    }
   ],
   "source": [
    "#finding web element for search job bar using id\n",
    "search_job=driver.find_element_by_id(\"qsb-keyword-sugg\")\n",
    "search_job"
   ]
  },
  {
   "cell_type": "code",
   "execution_count": 138,
   "id": "0085de8c",
   "metadata": {},
   "outputs": [],
   "source": [
    "#searchng job type\n",
    "search_job.send_keys(\"Data Scientist\")"
   ]
  },
  {
   "cell_type": "markdown",
   "id": "4bb87d76",
   "metadata": {},
   "source": [
    "Sending the key word Data Scientist to search job."
   ]
  },
  {
   "cell_type": "code",
   "execution_count": 139,
   "id": "88e9f323",
   "metadata": {},
   "outputs": [
    {
     "data": {
      "text/plain": [
       "<selenium.webdriver.remote.webelement.WebElement (session=\"bc1f35b704551a34c0c121cffdb9c356\", element=\"f2945433-8a43-4771-b4f1-f906c3df50f7\")>"
      ]
     },
     "execution_count": 139,
     "metadata": {},
     "output_type": "execute_result"
    }
   ],
   "source": [
    "#clicking search button using absolute xpath function\n",
    "search_btn=driver.find_element_by_xpath('/html/body/div[1]/div[3]/div[2]/section/div/form/div[2]/div/div/div/div[1]/div[2]/input')\n",
    "search_btn"
   ]
  },
  {
   "cell_type": "code",
   "execution_count": 140,
   "id": "7bea13a6",
   "metadata": {},
   "outputs": [],
   "source": [
    "search_btn.click()"
   ]
  },
  {
   "cell_type": "markdown",
   "id": "1d2a4cc6",
   "metadata": {},
   "source": [
    "# Extracting Job titles"
   ]
  },
  {
   "cell_type": "code",
   "execution_count": 142,
   "id": "f0b63830",
   "metadata": {},
   "outputs": [
    {
     "data": {
      "text/plain": [
       "[<selenium.webdriver.remote.webelement.WebElement (session=\"bc1f35b704551a34c0c121cffdb9c356\", element=\"35d066bc-61c1-4bb6-ba3e-1438c75fdd3c\")>,\n",
       " <selenium.webdriver.remote.webelement.WebElement (session=\"bc1f35b704551a34c0c121cffdb9c356\", element=\"dc1fba09-049d-413b-b2cd-6e1c2e3996b3\")>,\n",
       " <selenium.webdriver.remote.webelement.WebElement (session=\"bc1f35b704551a34c0c121cffdb9c356\", element=\"159c72db-2a79-4df0-a72d-99efb8f7cd10\")>,\n",
       " <selenium.webdriver.remote.webelement.WebElement (session=\"bc1f35b704551a34c0c121cffdb9c356\", element=\"6142627e-d5e2-40f1-9897-2eb1ff05a0ac\")>,\n",
       " <selenium.webdriver.remote.webelement.WebElement (session=\"bc1f35b704551a34c0c121cffdb9c356\", element=\"c6fb6f49-f54d-414b-b025-37e8928e7e76\")>,\n",
       " <selenium.webdriver.remote.webelement.WebElement (session=\"bc1f35b704551a34c0c121cffdb9c356\", element=\"9e6ff1ab-a06a-4107-b2b5-a97c4ea5e4b7\")>,\n",
       " <selenium.webdriver.remote.webelement.WebElement (session=\"bc1f35b704551a34c0c121cffdb9c356\", element=\"fa408f94-5754-47e4-837c-3f89124ecc2f\")>,\n",
       " <selenium.webdriver.remote.webelement.WebElement (session=\"bc1f35b704551a34c0c121cffdb9c356\", element=\"94a856a2-2579-43b9-b9e7-662e0dd888a8\")>,\n",
       " <selenium.webdriver.remote.webelement.WebElement (session=\"bc1f35b704551a34c0c121cffdb9c356\", element=\"bb91559b-f235-4d5a-944f-66f2008810fa\")>,\n",
       " <selenium.webdriver.remote.webelement.WebElement (session=\"bc1f35b704551a34c0c121cffdb9c356\", element=\"af0aa640-4c49-4760-8fb8-3e4ea18a92e2\")>]"
      ]
     },
     "execution_count": 142,
     "metadata": {},
     "output_type": "execute_result"
    }
   ],
   "source": [
    "#Let's extract all web elements having job titles\n",
    "title_tags=driver.find_elements_by_xpath('//a[@class=\"title fw500 ellipsis\"]')\n",
    "title_tags[:10]"
   ]
  },
  {
   "cell_type": "code",
   "execution_count": 143,
   "id": "1bbcd6ec",
   "metadata": {},
   "outputs": [
    {
     "data": {
      "text/plain": [
       "['Openings For Jr/mid/Sr level data Scientists',\n",
       " 'Urgent Hiring For Data Scientist',\n",
       " 'Urgent Hiring For Data Scientist',\n",
       " 'DATA SCIENTIST',\n",
       " 'Data Scientist',\n",
       " 'Data Analyst / Data Scientist / Business Analytics / Fresher - MNC',\n",
       " 'Data Scientist',\n",
       " 'Data Scientist',\n",
       " 'Data Scientist - DARPG, New Delhi',\n",
       " 'Data Scientist']"
      ]
     },
     "execution_count": 143,
     "metadata": {},
     "output_type": "execute_result"
    }
   ],
   "source": [
    "job_titles=[]\n",
    "for i in title_tags:\n",
    "    job_titles.append(i.text)\n",
    "job_titles=job_titles[:10]\n",
    "job_titles"
   ]
  },
  {
   "cell_type": "markdown",
   "id": "6428a26e",
   "metadata": {},
   "source": [
    "# Extracting Location"
   ]
  },
  {
   "cell_type": "code",
   "execution_count": 150,
   "id": "26000ac1",
   "metadata": {},
   "outputs": [
    {
     "data": {
      "text/plain": [
       "[<selenium.webdriver.remote.webelement.WebElement (session=\"bc1f35b704551a34c0c121cffdb9c356\", element=\"4f837b1b-2d1e-4ce9-ba1d-8a2e84314422\")>,\n",
       " <selenium.webdriver.remote.webelement.WebElement (session=\"bc1f35b704551a34c0c121cffdb9c356\", element=\"51ffd8af-ca58-4b64-abaa-b7d94c1b47a0\")>,\n",
       " <selenium.webdriver.remote.webelement.WebElement (session=\"bc1f35b704551a34c0c121cffdb9c356\", element=\"eaf02838-3f62-4cd4-b3ea-271b536ed982\")>,\n",
       " <selenium.webdriver.remote.webelement.WebElement (session=\"bc1f35b704551a34c0c121cffdb9c356\", element=\"609d3bd4-aaaf-4854-982a-a8eb02486ace\")>,\n",
       " <selenium.webdriver.remote.webelement.WebElement (session=\"bc1f35b704551a34c0c121cffdb9c356\", element=\"52548ba0-dc26-4792-bba8-84e8cf36019d\")>,\n",
       " <selenium.webdriver.remote.webelement.WebElement (session=\"bc1f35b704551a34c0c121cffdb9c356\", element=\"5dff40f8-e5da-428e-a898-e7b62d5d565e\")>,\n",
       " <selenium.webdriver.remote.webelement.WebElement (session=\"bc1f35b704551a34c0c121cffdb9c356\", element=\"e803ccda-7e34-4a1f-b836-c22c05731c18\")>,\n",
       " <selenium.webdriver.remote.webelement.WebElement (session=\"bc1f35b704551a34c0c121cffdb9c356\", element=\"105d593b-0d25-4682-b3dd-e843af358a11\")>,\n",
       " <selenium.webdriver.remote.webelement.WebElement (session=\"bc1f35b704551a34c0c121cffdb9c356\", element=\"b683714c-c983-4827-a2d0-b1683b52aaa1\")>,\n",
       " <selenium.webdriver.remote.webelement.WebElement (session=\"bc1f35b704551a34c0c121cffdb9c356\", element=\"18e84a66-68ff-40d1-9757-aa47c5afde5c\")>]"
      ]
     },
     "execution_count": 150,
     "metadata": {},
     "output_type": "execute_result"
    }
   ],
   "source": [
    "locn_tags=driver.find_elements_by_xpath('//li[@class=\"fleft grey-text br2 placeHolderLi location\"]')\n",
    "locn_tags[:10]"
   ]
  },
  {
   "cell_type": "code",
   "execution_count": 152,
   "id": "fdf98514",
   "metadata": {},
   "outputs": [
    {
     "data": {
      "text/plain": [
       "['Kolkata, Hyderabad/Secunderabad, Pune, Ahmedabad, Chennai, Bangalore/Bengaluru, Delhi / NCR, Mumbai (All Areas)\\n(WFH during Covid)',\n",
       " 'Gurgaon/Gurugram, Bangalore/Bengaluru',\n",
       " 'Gurgaon/Gurugram, Bangalore/Bengaluru',\n",
       " 'Noida',\n",
       " 'Gurgaon/Gurugram, Chennai',\n",
       " 'Noida, New Delhi, Delhi / NCR',\n",
       " 'Gurgaon/Gurugram',\n",
       " 'Gurgaon/Gurugram',\n",
       " 'Delhi / NCR',\n",
       " 'Gurgaon, Bengaluru']"
      ]
     },
     "execution_count": 152,
     "metadata": {},
     "output_type": "execute_result"
    }
   ],
   "source": [
    "location=[]\n",
    "for i in locn_tags:\n",
    "    location.append(i.text)\n",
    "location=location[:10]\n",
    "location"
   ]
  },
  {
   "cell_type": "markdown",
   "id": "a2d760f5",
   "metadata": {},
   "source": [
    "# Extracting Company name"
   ]
  },
  {
   "cell_type": "code",
   "execution_count": 155,
   "id": "7898dbdb",
   "metadata": {},
   "outputs": [
    {
     "data": {
      "text/plain": [
       "[<selenium.webdriver.remote.webelement.WebElement (session=\"bc1f35b704551a34c0c121cffdb9c356\", element=\"84cae704-a499-4f44-9108-80e589f72596\")>,\n",
       " <selenium.webdriver.remote.webelement.WebElement (session=\"bc1f35b704551a34c0c121cffdb9c356\", element=\"eb0f1400-bc7b-4833-9085-50b4a09bbb06\")>,\n",
       " <selenium.webdriver.remote.webelement.WebElement (session=\"bc1f35b704551a34c0c121cffdb9c356\", element=\"66a1dbca-e392-47fc-a9a9-b555493ae0b0\")>,\n",
       " <selenium.webdriver.remote.webelement.WebElement (session=\"bc1f35b704551a34c0c121cffdb9c356\", element=\"c9981f41-4a5f-498a-9733-3b5d41774f43\")>,\n",
       " <selenium.webdriver.remote.webelement.WebElement (session=\"bc1f35b704551a34c0c121cffdb9c356\", element=\"e27c12b2-385f-48ef-aeb5-82cdf2d34839\")>,\n",
       " <selenium.webdriver.remote.webelement.WebElement (session=\"bc1f35b704551a34c0c121cffdb9c356\", element=\"937d7cd8-4e8c-437b-9b09-26389bb76ada\")>,\n",
       " <selenium.webdriver.remote.webelement.WebElement (session=\"bc1f35b704551a34c0c121cffdb9c356\", element=\"63f58dc3-7c10-4b43-a061-de84de215f19\")>,\n",
       " <selenium.webdriver.remote.webelement.WebElement (session=\"bc1f35b704551a34c0c121cffdb9c356\", element=\"07d3f9de-e49d-4970-b17c-f7407ee5ea58\")>,\n",
       " <selenium.webdriver.remote.webelement.WebElement (session=\"bc1f35b704551a34c0c121cffdb9c356\", element=\"1ee86f2a-0568-4c03-a47f-64df2bdc1d00\")>,\n",
       " <selenium.webdriver.remote.webelement.WebElement (session=\"bc1f35b704551a34c0c121cffdb9c356\", element=\"4a33f181-859c-418d-b0b4-f67023a08753\")>]"
      ]
     },
     "execution_count": 155,
     "metadata": {},
     "output_type": "execute_result"
    }
   ],
   "source": [
    "company_tags=driver.find_elements_by_xpath('//a[@class=\"subTitle ellipsis fleft\"]')\n",
    "company_tags[:10]"
   ]
  },
  {
   "cell_type": "code",
   "execution_count": 158,
   "id": "3d491ecd",
   "metadata": {},
   "outputs": [
    {
     "data": {
      "text/plain": [
       "['Pluto seven business solutions (p) limited',\n",
       " 'Mount Talent Consulting Private Limited',\n",
       " 'Mount Talent Consulting Private Limited',\n",
       " 'I Tech Analytic Solutions',\n",
       " 'Teleperformance',\n",
       " 'GABA Consultancy services',\n",
       " 'WNS India',\n",
       " 'WNS India',\n",
       " 'NISG (National Institute for Smart Government)',\n",
       " 'BlackBuck']"
      ]
     },
     "execution_count": 158,
     "metadata": {},
     "output_type": "execute_result"
    }
   ],
   "source": [
    "company_names=[]\n",
    "for i in company_tags:\n",
    "    company_names.append(i.text)\n",
    "company_names=company_names[:10]\n",
    "company_names"
   ]
  },
  {
   "cell_type": "markdown",
   "id": "23f8692c",
   "metadata": {},
   "source": [
    "# Extracting the Experience_required"
   ]
  },
  {
   "cell_type": "code",
   "execution_count": 159,
   "id": "dfc9386e",
   "metadata": {},
   "outputs": [
    {
     "data": {
      "text/plain": [
       "[<selenium.webdriver.remote.webelement.WebElement (session=\"bc1f35b704551a34c0c121cffdb9c356\", element=\"3209b791-8e55-4b98-b965-bb3c6a5a6475\")>,\n",
       " <selenium.webdriver.remote.webelement.WebElement (session=\"bc1f35b704551a34c0c121cffdb9c356\", element=\"56c7d8f4-6b17-4b07-8646-aa67a7d187b1\")>,\n",
       " <selenium.webdriver.remote.webelement.WebElement (session=\"bc1f35b704551a34c0c121cffdb9c356\", element=\"a60e753a-5411-4e16-9bf0-966864b88fdc\")>,\n",
       " <selenium.webdriver.remote.webelement.WebElement (session=\"bc1f35b704551a34c0c121cffdb9c356\", element=\"a3917e1d-a58f-4bb6-b4a7-2b96eb03ba94\")>,\n",
       " <selenium.webdriver.remote.webelement.WebElement (session=\"bc1f35b704551a34c0c121cffdb9c356\", element=\"2fea4874-61bb-4f8f-a06f-c25e4db27769\")>,\n",
       " <selenium.webdriver.remote.webelement.WebElement (session=\"bc1f35b704551a34c0c121cffdb9c356\", element=\"d6e6aa74-38bb-480f-a074-6b890efad5cf\")>,\n",
       " <selenium.webdriver.remote.webelement.WebElement (session=\"bc1f35b704551a34c0c121cffdb9c356\", element=\"fb3d0b6b-c591-4043-99f6-b9c4b2bb4640\")>,\n",
       " <selenium.webdriver.remote.webelement.WebElement (session=\"bc1f35b704551a34c0c121cffdb9c356\", element=\"76487bbb-26fb-458e-bd6e-cb0451f1e7c6\")>,\n",
       " <selenium.webdriver.remote.webelement.WebElement (session=\"bc1f35b704551a34c0c121cffdb9c356\", element=\"8878a038-2ffd-4d33-9eea-20fba6cc9461\")>,\n",
       " <selenium.webdriver.remote.webelement.WebElement (session=\"bc1f35b704551a34c0c121cffdb9c356\", element=\"9a652f25-fc67-4cfa-aefa-d2c878e5a6fc\")>]"
      ]
     },
     "execution_count": 159,
     "metadata": {},
     "output_type": "execute_result"
    }
   ],
   "source": [
    "exp=driver.find_elements_by_xpath('//li[@class=\"fleft grey-text br2 placeHolderLi experience\"]')\n",
    "exp[:10]"
   ]
  },
  {
   "cell_type": "code",
   "execution_count": 161,
   "id": "b5054037",
   "metadata": {},
   "outputs": [
    {
     "data": {
      "text/plain": [
       "['2-6 Yrs',\n",
       " '1-6 Yrs',\n",
       " '1-6 Yrs',\n",
       " '2-5 Yrs',\n",
       " '4-9 Yrs',\n",
       " '0-0 Yrs',\n",
       " '3-6 Yrs',\n",
       " '3-7 Yrs',\n",
       " '3-8 Yrs',\n",
       " '3-7 Yrs']"
      ]
     },
     "execution_count": 161,
     "metadata": {},
     "output_type": "execute_result"
    }
   ],
   "source": [
    "experience=[]\n",
    "for i in exp:\n",
    "    experience.append(i.text)\n",
    "experience=experience[:10]\n",
    "experience"
   ]
  },
  {
   "cell_type": "code",
   "execution_count": 162,
   "id": "8ce493ee",
   "metadata": {},
   "outputs": [
    {
     "data": {
      "text/plain": [
       "(10, 10, 10, 10)"
      ]
     },
     "execution_count": 162,
     "metadata": {},
     "output_type": "execute_result"
    }
   ],
   "source": [
    "len(job_titles),len(location),len(company_names),len(experience)"
   ]
  },
  {
   "cell_type": "markdown",
   "id": "3c249f91",
   "metadata": {},
   "source": [
    "# Framing the Dataset"
   ]
  },
  {
   "cell_type": "code",
   "execution_count": 163,
   "id": "c5c9fc19",
   "metadata": {},
   "outputs": [
    {
     "data": {
      "text/html": [
       "<div>\n",
       "<style scoped>\n",
       "    .dataframe tbody tr th:only-of-type {\n",
       "        vertical-align: middle;\n",
       "    }\n",
       "\n",
       "    .dataframe tbody tr th {\n",
       "        vertical-align: top;\n",
       "    }\n",
       "\n",
       "    .dataframe thead th {\n",
       "        text-align: right;\n",
       "    }\n",
       "</style>\n",
       "<table border=\"1\" class=\"dataframe\">\n",
       "  <thead>\n",
       "    <tr style=\"text-align: right;\">\n",
       "      <th></th>\n",
       "      <th>Job-Title</th>\n",
       "      <th>Job-Location</th>\n",
       "      <th>Company-Name</th>\n",
       "      <th>Experience_required</th>\n",
       "    </tr>\n",
       "  </thead>\n",
       "  <tbody>\n",
       "    <tr>\n",
       "      <th>0</th>\n",
       "      <td>Openings For Jr/mid/Sr level data Scientists</td>\n",
       "      <td>Kolkata, Hyderabad/Secunderabad, Pune, Ahmedab...</td>\n",
       "      <td>Pluto seven business solutions (p) limited</td>\n",
       "      <td>2-6 Yrs</td>\n",
       "    </tr>\n",
       "    <tr>\n",
       "      <th>1</th>\n",
       "      <td>Urgent Hiring For Data Scientist</td>\n",
       "      <td>Gurgaon/Gurugram, Bangalore/Bengaluru</td>\n",
       "      <td>Mount Talent Consulting Private Limited</td>\n",
       "      <td>1-6 Yrs</td>\n",
       "    </tr>\n",
       "    <tr>\n",
       "      <th>2</th>\n",
       "      <td>Urgent Hiring For Data Scientist</td>\n",
       "      <td>Gurgaon/Gurugram, Bangalore/Bengaluru</td>\n",
       "      <td>Mount Talent Consulting Private Limited</td>\n",
       "      <td>1-6 Yrs</td>\n",
       "    </tr>\n",
       "    <tr>\n",
       "      <th>3</th>\n",
       "      <td>DATA SCIENTIST</td>\n",
       "      <td>Noida</td>\n",
       "      <td>I Tech Analytic Solutions</td>\n",
       "      <td>2-5 Yrs</td>\n",
       "    </tr>\n",
       "    <tr>\n",
       "      <th>4</th>\n",
       "      <td>Data Scientist</td>\n",
       "      <td>Gurgaon/Gurugram, Chennai</td>\n",
       "      <td>Teleperformance</td>\n",
       "      <td>4-9 Yrs</td>\n",
       "    </tr>\n",
       "    <tr>\n",
       "      <th>5</th>\n",
       "      <td>Data Analyst / Data Scientist / Business Analy...</td>\n",
       "      <td>Noida, New Delhi, Delhi / NCR</td>\n",
       "      <td>GABA Consultancy services</td>\n",
       "      <td>0-0 Yrs</td>\n",
       "    </tr>\n",
       "    <tr>\n",
       "      <th>6</th>\n",
       "      <td>Data Scientist</td>\n",
       "      <td>Gurgaon/Gurugram</td>\n",
       "      <td>WNS India</td>\n",
       "      <td>3-6 Yrs</td>\n",
       "    </tr>\n",
       "    <tr>\n",
       "      <th>7</th>\n",
       "      <td>Data Scientist</td>\n",
       "      <td>Gurgaon/Gurugram</td>\n",
       "      <td>WNS India</td>\n",
       "      <td>3-7 Yrs</td>\n",
       "    </tr>\n",
       "    <tr>\n",
       "      <th>8</th>\n",
       "      <td>Data Scientist - DARPG, New Delhi</td>\n",
       "      <td>Delhi / NCR</td>\n",
       "      <td>NISG (National Institute for Smart Government)</td>\n",
       "      <td>3-8 Yrs</td>\n",
       "    </tr>\n",
       "    <tr>\n",
       "      <th>9</th>\n",
       "      <td>Data Scientist</td>\n",
       "      <td>Gurgaon, Bengaluru</td>\n",
       "      <td>BlackBuck</td>\n",
       "      <td>3-7 Yrs</td>\n",
       "    </tr>\n",
       "  </tbody>\n",
       "</table>\n",
       "</div>"
      ],
      "text/plain": [
       "                                           Job-Title  \\\n",
       "0       Openings For Jr/mid/Sr level data Scientists   \n",
       "1                   Urgent Hiring For Data Scientist   \n",
       "2                   Urgent Hiring For Data Scientist   \n",
       "3                                     DATA SCIENTIST   \n",
       "4                                     Data Scientist   \n",
       "5  Data Analyst / Data Scientist / Business Analy...   \n",
       "6                                     Data Scientist   \n",
       "7                                     Data Scientist   \n",
       "8                  Data Scientist - DARPG, New Delhi   \n",
       "9                                     Data Scientist   \n",
       "\n",
       "                                        Job-Location  \\\n",
       "0  Kolkata, Hyderabad/Secunderabad, Pune, Ahmedab...   \n",
       "1              Gurgaon/Gurugram, Bangalore/Bengaluru   \n",
       "2              Gurgaon/Gurugram, Bangalore/Bengaluru   \n",
       "3                                              Noida   \n",
       "4                          Gurgaon/Gurugram, Chennai   \n",
       "5                      Noida, New Delhi, Delhi / NCR   \n",
       "6                                   Gurgaon/Gurugram   \n",
       "7                                   Gurgaon/Gurugram   \n",
       "8                                        Delhi / NCR   \n",
       "9                                 Gurgaon, Bengaluru   \n",
       "\n",
       "                                     Company-Name Experience_required  \n",
       "0      Pluto seven business solutions (p) limited             2-6 Yrs  \n",
       "1         Mount Talent Consulting Private Limited             1-6 Yrs  \n",
       "2         Mount Talent Consulting Private Limited             1-6 Yrs  \n",
       "3                       I Tech Analytic Solutions             2-5 Yrs  \n",
       "4                                 Teleperformance             4-9 Yrs  \n",
       "5                       GABA Consultancy services             0-0 Yrs  \n",
       "6                                       WNS India             3-6 Yrs  \n",
       "7                                       WNS India             3-7 Yrs  \n",
       "8  NISG (National Institute for Smart Government)             3-8 Yrs  \n",
       "9                                       BlackBuck             3-7 Yrs  "
      ]
     },
     "execution_count": 163,
     "metadata": {},
     "output_type": "execute_result"
    }
   ],
   "source": [
    "jobs=pd.DataFrame()\n",
    "jobs['Job-Title']=job_titles\n",
    "jobs['Job-Location']=location\n",
    "jobs['Company-Name']=company_names\n",
    "jobs['Experience_required']=experience\n",
    "jobs"
   ]
  },
  {
   "cell_type": "markdown",
   "id": "746c79f4",
   "metadata": {},
   "source": [
    "# Q4 : Scrape data of first 100 sunglasses listings on flipkart.com. You have to scrape four attributes:\n",
    "1. Brand\n",
    "2. Product Description\n",
    "3. Price\n",
    "4. Discount\n",
    "\n",
    "To scrape the data you have to go through following steps:\n",
    "1. Go to Flipkart webpage by url : https://www.flipkart.com/\n",
    "2. Enter “sunglasses” in the search field where “search for products, brands andmore” is written and\n",
    "click the search icon\n",
    "3. After that you will reach to the page having a lot of sunglasses. From this pageyou can scrap the\n",
    "required data as usual.\n",
    "4. After scraping data from the first page, go to the “Next” Button at the bottom ofthe page , then\n",
    "click on it.\n",
    "5. Now scrape data from this page as usual\n",
    "6. Repeat this until you get data for 100 sunglasses.\n"
   ]
  },
  {
   "cell_type": "code",
   "execution_count": 4,
   "id": "dc09f888",
   "metadata": {},
   "outputs": [],
   "source": [
    "driver = webdriver.Chrome('chromedriver.exe')"
   ]
  },
  {
   "cell_type": "code",
   "execution_count": 5,
   "id": "e23b863f",
   "metadata": {},
   "outputs": [],
   "source": [
    "url='https://www.flipkart.com/'\n",
    "driver.get(url)"
   ]
  },
  {
   "cell_type": "markdown",
   "id": "5f016c52",
   "metadata": {},
   "source": [
    "This is the required url from which i have to scrap data."
   ]
  },
  {
   "cell_type": "code",
   "execution_count": 6,
   "id": "10281210",
   "metadata": {},
   "outputs": [
    {
     "data": {
      "text/plain": [
       "<selenium.webdriver.remote.webelement.WebElement (session=\"dfebb90d5373f60481fd100e34eb997b\", element=\"d437b730-87e0-4bcc-8bd8-97769b587e41\")>"
      ]
     },
     "execution_count": 6,
     "metadata": {},
     "output_type": "execute_result"
    }
   ],
   "source": [
    "#finding web element for search using xpath\n",
    "search_item=driver.find_element_by_xpath('/html/body/div[1]/div/div[1]/div[1]/div[2]/div[2]/form/div/div/input')\n",
    "search_item"
   ]
  },
  {
   "cell_type": "markdown",
   "id": "ed7b48a5",
   "metadata": {},
   "source": [
    "This is the web element to search item using absolute xpath."
   ]
  },
  {
   "cell_type": "code",
   "execution_count": 7,
   "id": "13fb25aa",
   "metadata": {},
   "outputs": [],
   "source": [
    "search_item.send_keys('Sunglasses')"
   ]
  },
  {
   "cell_type": "code",
   "execution_count": 8,
   "id": "6c1b26c2",
   "metadata": {},
   "outputs": [
    {
     "data": {
      "text/plain": [
       "<selenium.webdriver.remote.webelement.WebElement (session=\"dfebb90d5373f60481fd100e34eb997b\", element=\"3193c048-de19-4fa1-8ca7-7999bbf53d71\")>"
      ]
     },
     "execution_count": 8,
     "metadata": {},
     "output_type": "execute_result"
    }
   ],
   "source": [
    "search_btn=driver.find_element_by_xpath(\"//button[@class='L0Z3Pu']\")\n",
    "search_btn"
   ]
  },
  {
   "cell_type": "code",
   "execution_count": 10,
   "id": "033fbc60",
   "metadata": {},
   "outputs": [],
   "source": [
    "#clicking using absolute xpath function\n",
    "search_btn.click()"
   ]
  },
  {
   "cell_type": "code",
   "execution_count": null,
   "id": "b72e38d5",
   "metadata": {},
   "outputs": [],
   "source": []
  },
  {
   "cell_type": "markdown",
   "id": "68846c16",
   "metadata": {},
   "source": [
    "# Extracting the Brand"
   ]
  },
  {
   "cell_type": "code",
   "execution_count": 16,
   "id": "2d464ac6",
   "metadata": {},
   "outputs": [
    {
     "data": {
      "text/plain": [
       "['https://www.flipkart.com/search?q=Sunglasses&otracker=search&otracker1=search&marketplace=FLIPKART&as-show=on&as=off&page=1',\n",
       " 'https://www.flipkart.com/search?q=Sunglasses&otracker=search&otracker1=search&marketplace=FLIPKART&as-show=on&as=off&page=2',\n",
       " 'https://www.flipkart.com/search?q=Sunglasses&otracker=search&otracker1=search&marketplace=FLIPKART&as-show=on&as=off&page=3',\n",
       " 'https://www.flipkart.com/search?q=Sunglasses&otracker=search&otracker1=search&marketplace=FLIPKART&as-show=on&as=off&page=4',\n",
       " 'https://www.flipkart.com/search?q=Sunglasses&otracker=search&otracker1=search&marketplace=FLIPKART&as-show=on&as=off&page=5',\n",
       " 'https://www.flipkart.com/search?q=Sunglasses&otracker=search&otracker1=search&marketplace=FLIPKART&as-show=on&as=off&page=6',\n",
       " 'https://www.flipkart.com/search?q=Sunglasses&otracker=search&otracker1=search&marketplace=FLIPKART&as-show=on&as=off&page=7',\n",
       " 'https://www.flipkart.com/search?q=Sunglasses&otracker=search&otracker1=search&marketplace=FLIPKART&as-show=on&as=off&page=8',\n",
       " 'https://www.flipkart.com/search?q=Sunglasses&otracker=search&otracker1=search&marketplace=FLIPKART&as-show=on&as=off&page=9',\n",
       " 'https://www.flipkart.com/search?q=Sunglasses&otracker=search&otracker1=search&marketplace=FLIPKART&as-show=on&as=off&page=10',\n",
       " 'https://www.flipkart.com/search?q=Sunglasses&otracker=search&otracker1=search&marketplace=FLIPKART&as-show=on&as=off&page=2']"
      ]
     },
     "execution_count": 16,
     "metadata": {},
     "output_type": "execute_result"
    }
   ],
   "source": [
    "page_url=[] #empty list\n",
    "url=driver.find_elements_by_xpath(\"//nav[@class='yFHi8N']//a\")\n",
    "for i in url:\n",
    "    page_url.append(i.get_attribute(\"href\"))\n",
    "page_url"
   ]
  },
  {
   "cell_type": "code",
   "execution_count": 17,
   "id": "4c40c5eb",
   "metadata": {},
   "outputs": [
    {
     "data": {
      "text/plain": [
       "['SRPM',\n",
       " 'Fastrack',\n",
       " 'kingsunglasses',\n",
       " 'Elligator',\n",
       " 'kingsunglasses',\n",
       " 'PIRASO',\n",
       " 'New Specs',\n",
       " 'SHAAH COLLECTIONS',\n",
       " 'SUNBEE',\n",
       " 'Fastrack',\n",
       " 'PIRASO',\n",
       " 'ROZZETTA CRAFT',\n",
       " 'PHENOMENAL',\n",
       " 'ROZZETTA CRAFT',\n",
       " 'PIRASO',\n",
       " 'ROYAL SON',\n",
       " 'SHAAH COLLECTIONS',\n",
       " 'PIRASO',\n",
       " 'PHENOMENAL',\n",
       " 'Rich Club',\n",
       " 'Rich Club',\n",
       " 'New Specs',\n",
       " 'Johaena',\n",
       " 'Fastrack',\n",
       " 'PIRASO',\n",
       " 'kingsunglasses',\n",
       " 'ROZZETTA CRAFT',\n",
       " 'hipe',\n",
       " 'kingsunglasses',\n",
       " 'maxa',\n",
       " 'PIRASO',\n",
       " 'ROYAL SON',\n",
       " 'ROYAL SON',\n",
       " 'hipe',\n",
       " 'agera',\n",
       " 'Elligator',\n",
       " 'Rich Club',\n",
       " 'Lee Topper',\n",
       " 'ROYAL SON',\n",
       " 'Fastrack',\n",
       " 'GANSTA',\n",
       " 'Silver Kartz',\n",
       " 'ROYAL SON',\n",
       " 'PIRASO',\n",
       " 'SRPM',\n",
       " 'Fastrack',\n",
       " 'SUNBEE',\n",
       " 'New Specs',\n",
       " 'kingsunglasses',\n",
       " 'Singco India',\n",
       " 'Elligator',\n",
       " 'Fastrack',\n",
       " 'PHENOMENAL',\n",
       " 'kingsunglasses',\n",
       " 'Fastrack',\n",
       " 'PIRASO',\n",
       " 'DEIXELS',\n",
       " 'Flizz',\n",
       " 'ROYAL SON',\n",
       " 'PHENOMENAL',\n",
       " 'IDEE',\n",
       " 'ROYAL SON',\n",
       " 'PHENOMENAL',\n",
       " 'DEIXELS',\n",
       " 'Johaena',\n",
       " 'Fastrack',\n",
       " 'ROYAL SON',\n",
       " 'ROZZETTA CRAFT',\n",
       " 'Singco India',\n",
       " 'PIRASO',\n",
       " 'Fastrack',\n",
       " 'ROYAL SON',\n",
       " 'AISLIN',\n",
       " 'kingsunglasses',\n",
       " 'ROYAL SON',\n",
       " 'ROYAL SON',\n",
       " 'HIPPON',\n",
       " 'PIRASO',\n",
       " 'Singco India',\n",
       " 'AISLIN',\n",
       " 'NuVew',\n",
       " 'IDEE',\n",
       " 'ROYAL SON',\n",
       " 'PHENOMENAL',\n",
       " 'Rich Club',\n",
       " 'kingsunglasses',\n",
       " 'Fastrack',\n",
       " 'Urbanic',\n",
       " 'Fastrack',\n",
       " 'kingsunglasses',\n",
       " 'DEIXELS',\n",
       " 'Billion',\n",
       " 'ROZZETTA CRAFT',\n",
       " 'ROYAL SON',\n",
       " 'hipe',\n",
       " 'Urbanic',\n",
       " 'elegante',\n",
       " 'Elligator',\n",
       " 'AISLIN',\n",
       " 'IDEE']"
      ]
     },
     "execution_count": 17,
     "metadata": {},
     "output_type": "execute_result"
    }
   ],
   "source": [
    "#scraping data of sunglass brand\n",
    "sun_brand=[] #empty list\n",
    "for i in page_url:\n",
    "    driver.get(i)\n",
    "    brand_tags=driver.find_elements_by_xpath(\"//div[@class='_2WkVRV']\")\n",
    "    for i in brand_tags:\n",
    "        sun_brand.append(i.text)\n",
    "sun_brand[:100]"
   ]
  },
  {
   "cell_type": "code",
   "execution_count": 18,
   "id": "32d4552f",
   "metadata": {},
   "outputs": [
    {
     "data": {
      "text/plain": [
       "['UV Protection Wayfarer Sunglasses (56)',\n",
       " 'UV Protection Round Sunglasses (54)',\n",
       " 'Gradient, UV Protection Wayfarer Sunglasses (Free Size)',\n",
       " 'Mirrored, UV Protection Wayfarer Sunglasses (53)',\n",
       " 'UV Protection Aviator Sunglasses (54)',\n",
       " 'UV Protection, Polarized, Mirrored Rectangular Sunglass...',\n",
       " 'UV Protection, Polarized, Mirrored Round Sunglasses (Fr...',\n",
       " 'UV Protection Wayfarer Sunglasses (Free Size)',\n",
       " 'UV Protection Retro Square Sunglasses (Free Size)',\n",
       " 'UV Protection Retro Square Sunglasses (Free Size)',\n",
       " 'UV Protection, Gradient Rectangular Sunglasses (Free Si...',\n",
       " 'UV Protection Wayfarer Sunglasses (32)',\n",
       " 'Mirrored Aviator Sunglasses (55)',\n",
       " 'UV Protection Butterfly Sunglasses (65)',\n",
       " 'UV Protection, Polarized, Mirrored Rectangular Sunglass...',\n",
       " 'Polarized Round Sunglasses (48)',\n",
       " 'Mirrored, UV Protection, Riding Glasses, Others Round S...',\n",
       " 'UV Protection Aviator Sunglasses (Free Size)',\n",
       " 'UV Protection Aviator Sunglasses (54)',\n",
       " 'UV Protection, Gradient Retro Square Sunglasses (Free S...',\n",
       " 'UV Protection, Riding Glasses, Mirrored Wayfarer Sungla...',\n",
       " 'UV Protection Aviator Sunglasses (58)',\n",
       " 'UV Protection Rectangular Sunglasses (58)',\n",
       " 'Gradient Aviator Sunglasses (55)',\n",
       " 'Mirrored Aviator Sunglasses (55)',\n",
       " 'UV Protection Round Sunglasses (54)',\n",
       " 'UV Protection Wayfarer Sunglasses (Free Size)',\n",
       " 'Mirrored Aviator Sunglasses (Free Size)',\n",
       " 'Riding Glasses, Night Vision Wrap-around Sunglasses (Fr...',\n",
       " 'UV Protection Round Sunglasses (50)',\n",
       " 'UV Protection Rectangular Sunglasses (Free Size)',\n",
       " 'UV Protection Aviator Sunglasses (58)',\n",
       " 'UV Protection, Riding Glasses Retro Square, Spectacle ...',\n",
       " 'UV Protection, Mirrored Clubmaster Sunglasses (Free Siz...',\n",
       " 'UV Protection Round Sunglasses (55)',\n",
       " 'UV Protection, Mirrored Aviator Sunglasses (Free Size)',\n",
       " 'UV Protection Shield Sunglasses (Free Size)',\n",
       " 'UV Protection Round Sunglasses (Free Size)',\n",
       " 'UV Protection Wayfarer Sunglasses (Free Size)',\n",
       " 'UV Protection Round Sunglasses (Free Size)',\n",
       " 'UV Protection, Riding Glasses Wayfarer Sunglasses (53)',\n",
       " 'UV Protection Wayfarer Sunglasses (Free Size)',\n",
       " 'Mirrored Aviator Sunglasses (55)',\n",
       " 'UV Protection Aviator Sunglasses (Free Size)',\n",
       " 'UV Protection Wayfarer Sunglasses (53)',\n",
       " 'Gradient, UV Protection Wayfarer Sunglasses (Free Size)',\n",
       " 'UV Protection, Polarized, Mirrored Wayfarer Sunglasses ...',\n",
       " 'UV Protection Round Sunglasses (Free Size)',\n",
       " 'UV Protection, Others Round, Round Sunglasses (54)',\n",
       " 'Riding Glasses, UV Protection, Others Aviator Sunglasse...',\n",
       " 'UV Protection Retro Square, Round Sunglasses (54)',\n",
       " 'UV Protection Wrap-around Sunglasses (63)',\n",
       " 'UV Protection Clubmaster Sunglasses (Free Size)',\n",
       " 'UV Protection Rectangular Sunglasses (Free Size)',\n",
       " 'Gradient, UV Protection Wayfarer Sunglasses (Free Size)',\n",
       " 'Mirrored Aviator Sunglasses (32)',\n",
       " 'UV Protection Aviator, Wayfarer Sunglasses (Free Size)',\n",
       " 'UV Protection, Polarized Rectangular Sunglasses (Free S...',\n",
       " 'UV Protection Round Sunglasses (50)',\n",
       " 'UV Protection, Mirrored Retro Square Sunglasses (53)',\n",
       " 'UV Protection Wayfarer Sunglasses (55)',\n",
       " 'UV Protection Round Sunglasses (50)',\n",
       " 'UV Protection Retro Square Sunglasses (Free Size)',\n",
       " 'UV Protection Wayfarer Sunglasses (Free Size)',\n",
       " 'Riding Glasses, UV Protection Oval Sunglasses (52)',\n",
       " 'UV Protection Wayfarer Sunglasses (Free Size)',\n",
       " 'UV Protection Retro Square Sunglasses (88)',\n",
       " 'UV Protection Rectangular Sunglasses (Free Size)',\n",
       " 'UV Protection, Riding Glasses, Others Aviator, Wayfarer...',\n",
       " 'UV Protection Aviator Sunglasses (58)',\n",
       " 'UV Protection Wayfarer Sunglasses (Free Size)',\n",
       " 'UV Protection Retro Square Sunglasses (58)',\n",
       " 'UV Protection, Gradient Butterfly, Retro Square Sunglas...',\n",
       " 'UV Protection Rectangular Sunglasses (55)',\n",
       " 'UV Protection Retro Square Sunglasses (58)',\n",
       " 'UV Protection, Gradient Butterfly Sunglasses (57)',\n",
       " 'UV Protection Wayfarer Sunglasses (55)',\n",
       " 'UV Protection Aviator Sunglasses (54)',\n",
       " 'Mirrored, Riding Glasses, Others Sports Sunglasses (50)',\n",
       " 'UV Protection, Gradient Butterfly, Retro Square Sunglas...',\n",
       " 'UV Protection, Night Vision, Riding Glasses Sports Sung...',\n",
       " 'Mirrored, UV Protection Wayfarer Sunglasses (18)',\n",
       " 'Mirrored Aviator Sunglasses (58)',\n",
       " 'UV Protection, Mirrored Round Sunglasses (Free Size)',\n",
       " 'UV Protection Round Sunglasses (48)',\n",
       " 'UV Protection, Mirrored Round, Round Sunglasses (54)',\n",
       " 'UV Protection Aviator Sunglasses (58)',\n",
       " 'Others Retro Square Sunglasses (Free Size)',\n",
       " 'UV Protection Wayfarer Sunglasses (54)',\n",
       " 'UV Protection, Mirrored Round Sunglasses (54)',\n",
       " 'Polarized, UV Protection, Riding Glasses Wayfarer Sungl...',\n",
       " 'UV Protection Aviator Sunglasses (57)',\n",
       " 'UV Protection, Gradient Rectangular Sunglasses (Free Si...',\n",
       " 'Mirrored Aviator Sunglasses (58)',\n",
       " 'UV Protection, Night Vision, Riding Glasses, Gradient, ...',\n",
       " 'Others Retro Square Sunglasses (Free Size)',\n",
       " 'UV Protection Oval Sunglasses (Free Size)',\n",
       " 'UV Protection Round Sunglasses (53)',\n",
       " 'UV Protection, Gradient Oval Sunglasses (58)',\n",
       " 'UV Protection Cat-eye Sunglasses (20)']"
      ]
     },
     "execution_count": 18,
     "metadata": {},
     "output_type": "execute_result"
    }
   ],
   "source": [
    "#scraping data of sunglass product description\n",
    "sun_prodes=[] #empty list\n",
    "for i in page_url:\n",
    "    driver.get(i)\n",
    "    prodes_tags=driver.find_elements_by_xpath(\"//a[@class='IRpwTa']\")\n",
    "    for i in prodes_tags:\n",
    "        sun_prodes.append(i.text)\n",
    "sun_prodes[:100]"
   ]
  },
  {
   "cell_type": "code",
   "execution_count": 22,
   "id": "c4bfc19b",
   "metadata": {},
   "outputs": [
    {
     "data": {
      "text/plain": [
       "['₹188',\n",
       " '₹248',\n",
       " '₹509',\n",
       " '₹274',\n",
       " '₹200',\n",
       " '₹165',\n",
       " '₹271',\n",
       " '₹759',\n",
       " '₹309',\n",
       " '₹499',\n",
       " '₹399',\n",
       " '₹187',\n",
       " '₹359',\n",
       " '₹349',\n",
       " '₹181',\n",
       " '₹163',\n",
       " '₹262',\n",
       " '₹639',\n",
       " '₹200',\n",
       " '₹349',\n",
       " '₹187',\n",
       " '₹299',\n",
       " '₹449',\n",
       " '₹196',\n",
       " '₹359',\n",
       " '₹265',\n",
       " '₹799',\n",
       " '₹359',\n",
       " '₹276',\n",
       " '₹355',\n",
       " '₹169',\n",
       " '₹1,089',\n",
       " '₹375',\n",
       " '₹289',\n",
       " '₹239',\n",
       " '₹235',\n",
       " '₹809',\n",
       " '₹299',\n",
       " '₹589',\n",
       " '₹449',\n",
       " '₹169',\n",
       " '₹799',\n",
       " '₹266',\n",
       " '₹246',\n",
       " '₹289',\n",
       " '₹375',\n",
       " '₹209',\n",
       " '₹211',\n",
       " '₹589',\n",
       " '₹449',\n",
       " '₹235',\n",
       " '₹809',\n",
       " '₹299',\n",
       " '₹239',\n",
       " '₹187',\n",
       " '₹261',\n",
       " '₹359',\n",
       " '₹619',\n",
       " '₹189',\n",
       " '₹239',\n",
       " '₹192',\n",
       " '₹276',\n",
       " '₹207',\n",
       " '₹244',\n",
       " '₹809',\n",
       " '₹291',\n",
       " '₹289',\n",
       " '₹201',\n",
       " '₹659',\n",
       " '₹259',\n",
       " '₹164',\n",
       " '₹192',\n",
       " '₹299',\n",
       " '₹1,229',\n",
       " '₹258',\n",
       " '₹359',\n",
       " '₹359',\n",
       " '₹244',\n",
       " '₹202',\n",
       " '₹615',\n",
       " '₹360',\n",
       " '₹225',\n",
       " '₹759',\n",
       " '₹449',\n",
       " '₹245',\n",
       " '₹569',\n",
       " '₹156',\n",
       " '₹309',\n",
       " '₹199',\n",
       " '₹296',\n",
       " '₹319',\n",
       " '₹203',\n",
       " '₹319',\n",
       " '₹829',\n",
       " '₹472',\n",
       " '₹299',\n",
       " '₹449',\n",
       " '₹719',\n",
       " '₹479',\n",
       " '₹664']"
      ]
     },
     "execution_count": 22,
     "metadata": {},
     "output_type": "execute_result"
    }
   ],
   "source": [
    "#scraping data of sunglass price\n",
    "sun_price=[] #empty list\n",
    "for i in page_url:\n",
    "    driver.get(i)\n",
    "    pri_tags=driver.find_elements_by_xpath(\"//div[@class='_30jeq3']\")\n",
    "    for i in pri_tags:\n",
    "        sun_price.append(i.text)\n",
    "sun_price[:100]"
   ]
  },
  {
   "cell_type": "markdown",
   "id": "bd798fa5",
   "metadata": {},
   "source": [
    "I got all prices of sunglass from 10 pages."
   ]
  },
  {
   "cell_type": "code",
   "execution_count": 23,
   "id": "92c2e01c",
   "metadata": {},
   "outputs": [
    {
     "data": {
      "text/plain": [
       "['85% off',\n",
       " '90% off',\n",
       " '81% off',\n",
       " '36% off',\n",
       " '87% off',\n",
       " '86% off',\n",
       " '87% off',\n",
       " '90% off',\n",
       " '84% off',\n",
       " '15% off',\n",
       " '87% off',\n",
       " '77% off',\n",
       " '84% off',\n",
       " '80% off',\n",
       " '88% off',\n",
       " '76% off',\n",
       " '81% off',\n",
       " '85% off',\n",
       " '66% off',\n",
       " '67% off',\n",
       " '86% off',\n",
       " '86% off',\n",
       " '20% off',\n",
       " '83% off',\n",
       " '82% off',\n",
       " '84% off',\n",
       " '87% off',\n",
       " '81% off',\n",
       " '83% off',\n",
       " '78% off',\n",
       " '79% off',\n",
       " '76% off',\n",
       " '82% off',\n",
       " '88% off',\n",
       " '70% off',\n",
       " '88% off',\n",
       " '64% off',\n",
       " '76% off',\n",
       " '79% off',\n",
       " '16% off',\n",
       " '89% off',\n",
       " '11% off',\n",
       " '79% off',\n",
       " '83% off',\n",
       " '85% off',\n",
       " '71% off',\n",
       " '88% off',\n",
       " '83% off',\n",
       " '34% off',\n",
       " '83% off',\n",
       " '87% off',\n",
       " '10% off',\n",
       " '81% off',\n",
       " '88% off',\n",
       " '90% off',\n",
       " '83% off',\n",
       " '76% off',\n",
       " '22% off',\n",
       " '86% off',\n",
       " '81% off',\n",
       " '82% off',\n",
       " '78% off',\n",
       " '79% off',\n",
       " '75% off',\n",
       " '10% off',\n",
       " '85% off',\n",
       " '85% off',\n",
       " '86% off',\n",
       " '17% off',\n",
       " '87% off',\n",
       " '89% off',\n",
       " '82% off',\n",
       " '85% off',\n",
       " '49% off',\n",
       " '80% off',\n",
       " '76% off',\n",
       " '76% off',\n",
       " '83% off',\n",
       " '83% off',\n",
       " '23% off',\n",
       " '75% off',\n",
       " '85% off',\n",
       " '15% off',\n",
       " '79% off',\n",
       " '69% off',\n",
       " '71% off',\n",
       " '87% off',\n",
       " '84% off',\n",
       " '60% off',\n",
       " '85% off',\n",
       " '68% off',\n",
       " '70% off',\n",
       " '78% off',\n",
       " '30% off',\n",
       " '69% off',\n",
       " '88% off',\n",
       " '70% off',\n",
       " '10% off',\n",
       " '40% off',\n",
       " '66% off']"
      ]
     },
     "execution_count": 23,
     "metadata": {},
     "output_type": "execute_result"
    }
   ],
   "source": [
    "#scraping data of sunglass discount\n",
    "sun_discount=[] #empty list\n",
    "for i in page_url:\n",
    "    driver.get(i)\n",
    "    dis_tags=driver.find_elements_by_xpath(\"//div[@class='_3Ay6Sb']//span\")\n",
    "    for i in dis_tags:\n",
    "        sun_discount.append(i.text)\n",
    "sun_discount[:100]"
   ]
  },
  {
   "cell_type": "markdown",
   "id": "a566bee9",
   "metadata": {},
   "source": [
    "I got all discounts of sunglass from 10 pages."
   ]
  },
  {
   "cell_type": "code",
   "execution_count": 24,
   "id": "5893dacb",
   "metadata": {},
   "outputs": [
    {
     "data": {
      "text/html": [
       "<div>\n",
       "<style scoped>\n",
       "    .dataframe tbody tr th:only-of-type {\n",
       "        vertical-align: middle;\n",
       "    }\n",
       "\n",
       "    .dataframe tbody tr th {\n",
       "        vertical-align: top;\n",
       "    }\n",
       "\n",
       "    .dataframe thead th {\n",
       "        text-align: right;\n",
       "    }\n",
       "</style>\n",
       "<table border=\"1\" class=\"dataframe\">\n",
       "  <thead>\n",
       "    <tr style=\"text-align: right;\">\n",
       "      <th></th>\n",
       "      <th>Brand</th>\n",
       "      <th>Description</th>\n",
       "      <th>Price</th>\n",
       "      <th>Discount</th>\n",
       "    </tr>\n",
       "  </thead>\n",
       "  <tbody>\n",
       "    <tr>\n",
       "      <th>0</th>\n",
       "      <td>SRPM</td>\n",
       "      <td>UV Protection Wayfarer Sunglasses (56)</td>\n",
       "      <td>₹188</td>\n",
       "      <td>85% off</td>\n",
       "    </tr>\n",
       "    <tr>\n",
       "      <th>1</th>\n",
       "      <td>Fastrack</td>\n",
       "      <td>UV Protection Round Sunglasses (54)</td>\n",
       "      <td>₹248</td>\n",
       "      <td>90% off</td>\n",
       "    </tr>\n",
       "    <tr>\n",
       "      <th>2</th>\n",
       "      <td>kingsunglasses</td>\n",
       "      <td>Gradient, UV Protection Wayfarer Sunglasses (F...</td>\n",
       "      <td>₹509</td>\n",
       "      <td>81% off</td>\n",
       "    </tr>\n",
       "    <tr>\n",
       "      <th>3</th>\n",
       "      <td>Elligator</td>\n",
       "      <td>Mirrored, UV Protection Wayfarer Sunglasses (53)</td>\n",
       "      <td>₹274</td>\n",
       "      <td>36% off</td>\n",
       "    </tr>\n",
       "    <tr>\n",
       "      <th>4</th>\n",
       "      <td>kingsunglasses</td>\n",
       "      <td>UV Protection Aviator Sunglasses (54)</td>\n",
       "      <td>₹200</td>\n",
       "      <td>87% off</td>\n",
       "    </tr>\n",
       "    <tr>\n",
       "      <th>...</th>\n",
       "      <td>...</td>\n",
       "      <td>...</td>\n",
       "      <td>...</td>\n",
       "      <td>...</td>\n",
       "    </tr>\n",
       "    <tr>\n",
       "      <th>95</th>\n",
       "      <td>Urbanic</td>\n",
       "      <td>Others Retro Square Sunglasses (Free Size)</td>\n",
       "      <td>₹299</td>\n",
       "      <td>88% off</td>\n",
       "    </tr>\n",
       "    <tr>\n",
       "      <th>96</th>\n",
       "      <td>elegante</td>\n",
       "      <td>UV Protection Oval Sunglasses (Free Size)</td>\n",
       "      <td>₹449</td>\n",
       "      <td>70% off</td>\n",
       "    </tr>\n",
       "    <tr>\n",
       "      <th>97</th>\n",
       "      <td>Elligator</td>\n",
       "      <td>UV Protection Round Sunglasses (53)</td>\n",
       "      <td>₹719</td>\n",
       "      <td>10% off</td>\n",
       "    </tr>\n",
       "    <tr>\n",
       "      <th>98</th>\n",
       "      <td>AISLIN</td>\n",
       "      <td>UV Protection, Gradient Oval Sunglasses (58)</td>\n",
       "      <td>₹479</td>\n",
       "      <td>40% off</td>\n",
       "    </tr>\n",
       "    <tr>\n",
       "      <th>99</th>\n",
       "      <td>IDEE</td>\n",
       "      <td>UV Protection Cat-eye Sunglasses (20)</td>\n",
       "      <td>₹664</td>\n",
       "      <td>66% off</td>\n",
       "    </tr>\n",
       "  </tbody>\n",
       "</table>\n",
       "<p>100 rows × 4 columns</p>\n",
       "</div>"
      ],
      "text/plain": [
       "             Brand                                        Description Price  \\\n",
       "0             SRPM             UV Protection Wayfarer Sunglasses (56)  ₹188   \n",
       "1         Fastrack                UV Protection Round Sunglasses (54)  ₹248   \n",
       "2   kingsunglasses  Gradient, UV Protection Wayfarer Sunglasses (F...  ₹509   \n",
       "3        Elligator   Mirrored, UV Protection Wayfarer Sunglasses (53)  ₹274   \n",
       "4   kingsunglasses              UV Protection Aviator Sunglasses (54)  ₹200   \n",
       "..             ...                                                ...   ...   \n",
       "95         Urbanic         Others Retro Square Sunglasses (Free Size)  ₹299   \n",
       "96        elegante          UV Protection Oval Sunglasses (Free Size)  ₹449   \n",
       "97       Elligator                UV Protection Round Sunglasses (53)  ₹719   \n",
       "98          AISLIN       UV Protection, Gradient Oval Sunglasses (58)  ₹479   \n",
       "99            IDEE              UV Protection Cat-eye Sunglasses (20)  ₹664   \n",
       "\n",
       "   Discount  \n",
       "0   85% off  \n",
       "1   90% off  \n",
       "2   81% off  \n",
       "3   36% off  \n",
       "4   87% off  \n",
       "..      ...  \n",
       "95  88% off  \n",
       "96  70% off  \n",
       "97  10% off  \n",
       "98  40% off  \n",
       "99  66% off  \n",
       "\n",
       "[100 rows x 4 columns]"
      ]
     },
     "execution_count": 24,
     "metadata": {},
     "output_type": "execute_result"
    }
   ],
   "source": [
    "#Creating data frame for scraped data\n",
    "Sunglass=pd.DataFrame({})\n",
    "Sunglass['Brand']=sun_brand[:100]\n",
    "Sunglass['Description']=sun_prodes[:100]\n",
    "Sunglass['Price']=sun_price[:100]\n",
    "Sunglass['Discount']=sun_discount[:100]\n",
    "Sunglass"
   ]
  },
  {
   "cell_type": "markdown",
   "id": "7805c647",
   "metadata": {},
   "source": [
    "# Q5: Scrape 100 reviews data from flipkart.com for iphone11 phone. You have to go the link:\n",
    "https://www.flipkart.com/apple-iphone-11-black-64-gb-includes- earpods-power\u0002adapter/p/itm0f37c2240b217?pid=MOBFKCTSVZAXUHGR&lid=LSTMOBFKC\n",
    "TSVZAXUHGREPBFGI&marketplace.\n",
    "When you will open the above link you will reach to the below shown webpage \n",
    "As shown in the above page you have to scrape the tick marked attributes.These are:\n",
    "1. Rating\n",
    "2. Review summary\n",
    "3. Full review\n",
    "4. You have to scrape this data for first 100 review"
   ]
  },
  {
   "cell_type": "code",
   "execution_count": 25,
   "id": "12683285",
   "metadata": {},
   "outputs": [],
   "source": [
    "driver=webdriver.Chrome('chromedriver.exe')"
   ]
  },
  {
   "cell_type": "code",
   "execution_count": 26,
   "id": "b83f5a57",
   "metadata": {},
   "outputs": [],
   "source": [
    "url='https://www.flipkart.com/apple-iphone-11-black-64-gb-includes-%20earpods-power%02adapter/p/itm0f37c2240b217?pid=MOBFKCTSVZAXUHGR&lid=LSTMOBFKC%20TSVZAXUHGREPBFGI&marketplace.'\n",
    "driver.get(url)"
   ]
  },
  {
   "cell_type": "markdown",
   "id": "53d9475a",
   "metadata": {},
   "source": [
    "This is the url from which i have to scrap data."
   ]
  },
  {
   "cell_type": "code",
   "execution_count": 27,
   "id": "050418dd",
   "metadata": {},
   "outputs": [],
   "source": [
    "#Clicking on view all\n",
    "view_all=driver.find_element_by_xpath(\"//div[@class='_3UAT2v _16PBlm']//span\")\n",
    "view_all.click()"
   ]
  },
  {
   "cell_type": "markdown",
   "id": "70900078",
   "metadata": {},
   "source": [
    "This is the url from which i have to scrap data."
   ]
  },
  {
   "cell_type": "code",
   "execution_count": 28,
   "id": "3e64ec16",
   "metadata": {},
   "outputs": [
    {
     "data": {
      "text/plain": [
       "['https://www.flipkart.com/apple-iphone-11-black-64-gb-includes-earpods-power-adapter/product-reviews/itm0f37c2240b217?pid=MOBFKCTSVZAXUHGR&lid=LSTMOBFKCTSVZAXUHGR3IXQLM&marketplace=FLIPKART&page=1',\n",
       " 'https://www.flipkart.com/apple-iphone-11-black-64-gb-includes-earpods-power-adapter/product-reviews/itm0f37c2240b217?pid=MOBFKCTSVZAXUHGR&lid=LSTMOBFKCTSVZAXUHGR3IXQLM&marketplace=FLIPKART&page=2',\n",
       " 'https://www.flipkart.com/apple-iphone-11-black-64-gb-includes-earpods-power-adapter/product-reviews/itm0f37c2240b217?pid=MOBFKCTSVZAXUHGR&lid=LSTMOBFKCTSVZAXUHGR3IXQLM&marketplace=FLIPKART&page=3',\n",
       " 'https://www.flipkart.com/apple-iphone-11-black-64-gb-includes-earpods-power-adapter/product-reviews/itm0f37c2240b217?pid=MOBFKCTSVZAXUHGR&lid=LSTMOBFKCTSVZAXUHGR3IXQLM&marketplace=FLIPKART&page=4',\n",
       " 'https://www.flipkart.com/apple-iphone-11-black-64-gb-includes-earpods-power-adapter/product-reviews/itm0f37c2240b217?pid=MOBFKCTSVZAXUHGR&lid=LSTMOBFKCTSVZAXUHGR3IXQLM&marketplace=FLIPKART&page=5',\n",
       " 'https://www.flipkart.com/apple-iphone-11-black-64-gb-includes-earpods-power-adapter/product-reviews/itm0f37c2240b217?pid=MOBFKCTSVZAXUHGR&lid=LSTMOBFKCTSVZAXUHGR3IXQLM&marketplace=FLIPKART&page=6',\n",
       " 'https://www.flipkart.com/apple-iphone-11-black-64-gb-includes-earpods-power-adapter/product-reviews/itm0f37c2240b217?pid=MOBFKCTSVZAXUHGR&lid=LSTMOBFKCTSVZAXUHGR3IXQLM&marketplace=FLIPKART&page=7',\n",
       " 'https://www.flipkart.com/apple-iphone-11-black-64-gb-includes-earpods-power-adapter/product-reviews/itm0f37c2240b217?pid=MOBFKCTSVZAXUHGR&lid=LSTMOBFKCTSVZAXUHGR3IXQLM&marketplace=FLIPKART&page=8',\n",
       " 'https://www.flipkart.com/apple-iphone-11-black-64-gb-includes-earpods-power-adapter/product-reviews/itm0f37c2240b217?pid=MOBFKCTSVZAXUHGR&lid=LSTMOBFKCTSVZAXUHGR3IXQLM&marketplace=FLIPKART&page=9',\n",
       " 'https://www.flipkart.com/apple-iphone-11-black-64-gb-includes-earpods-power-adapter/product-reviews/itm0f37c2240b217?pid=MOBFKCTSVZAXUHGR&lid=LSTMOBFKCTSVZAXUHGR3IXQLM&marketplace=FLIPKART&page=10',\n",
       " 'https://www.flipkart.com/apple-iphone-11-black-64-gb-includes-earpods-power-adapter/product-reviews/itm0f37c2240b217?pid=MOBFKCTSVZAXUHGR&lid=LSTMOBFKCTSVZAXUHGR3IXQLM&marketplace=FLIPKART&page=2']"
      ]
     },
     "execution_count": 28,
     "metadata": {},
     "output_type": "execute_result"
    }
   ],
   "source": [
    "#scraping all urls from flipkart web page.\n",
    "page_url=[] #empty list\n",
    "url=driver.find_elements_by_xpath(\"//nav[@class='yFHi8N']//a\")\n",
    "for i in url:\n",
    "    page_url.append(i.get_attribute(\"href\"))\n",
    "page_url"
   ]
  },
  {
   "cell_type": "code",
   "execution_count": 29,
   "id": "3ff41e99",
   "metadata": {},
   "outputs": [
    {
     "data": {
      "text/plain": [
       "['5',\n",
       " '5',\n",
       " '5',\n",
       " '5',\n",
       " '5',\n",
       " '5',\n",
       " '5',\n",
       " '4',\n",
       " '5',\n",
       " '5',\n",
       " '5',\n",
       " '5',\n",
       " '5',\n",
       " '5',\n",
       " '5',\n",
       " '5',\n",
       " '5',\n",
       " '5',\n",
       " '5',\n",
       " '5',\n",
       " '5',\n",
       " '5',\n",
       " '4',\n",
       " '5',\n",
       " '5',\n",
       " '5',\n",
       " '4',\n",
       " '5',\n",
       " '5',\n",
       " '5',\n",
       " '5',\n",
       " '5',\n",
       " '5',\n",
       " '5',\n",
       " '5',\n",
       " '5',\n",
       " '5',\n",
       " '4',\n",
       " '5',\n",
       " '5',\n",
       " '5',\n",
       " '5',\n",
       " '5',\n",
       " '5',\n",
       " '5',\n",
       " '5',\n",
       " '5',\n",
       " '4',\n",
       " '5',\n",
       " '5',\n",
       " '5',\n",
       " '5',\n",
       " '4',\n",
       " '5',\n",
       " '5',\n",
       " '5',\n",
       " '5',\n",
       " '5',\n",
       " '5',\n",
       " '5',\n",
       " '5',\n",
       " '5',\n",
       " '5',\n",
       " '5',\n",
       " '4',\n",
       " '5',\n",
       " '5',\n",
       " '5',\n",
       " '4',\n",
       " '5',\n",
       " '5',\n",
       " '5',\n",
       " '5',\n",
       " '4',\n",
       " '5',\n",
       " '5',\n",
       " '5',\n",
       " '5',\n",
       " '4',\n",
       " '5',\n",
       " '5',\n",
       " '5',\n",
       " '5',\n",
       " '5',\n",
       " '4',\n",
       " '5',\n",
       " '5',\n",
       " '5',\n",
       " '5',\n",
       " '5',\n",
       " '5',\n",
       " '5',\n",
       " '5',\n",
       " '5',\n",
       " '5',\n",
       " '3',\n",
       " '5',\n",
       " '5',\n",
       " '5',\n",
       " '5']"
      ]
     },
     "execution_count": 29,
     "metadata": {},
     "output_type": "execute_result"
    }
   ],
   "source": [
    "#scraping data of iphone ratings\n",
    "iphone_rating=[] #empty list\n",
    "for i in page_url:\n",
    "    driver.get(i)\n",
    "    rating_tags=driver.find_elements_by_xpath(\"//div[@class='_3LWZlK _1BLPMq']\")\n",
    "    for i in rating_tags:\n",
    "        iphone_rating.append(i.text)\n",
    "iphone_rating[:100]"
   ]
  },
  {
   "cell_type": "code",
   "execution_count": 30,
   "id": "f8373f1d",
   "metadata": {},
   "outputs": [
    {
     "data": {
      "text/plain": [
       "['Brilliant',\n",
       " 'Simply awesome',\n",
       " 'Best in the market!',\n",
       " 'Perfect product!',\n",
       " 'Worth every penny',\n",
       " 'Fabulous!',\n",
       " 'Great product',\n",
       " 'Good choice',\n",
       " 'Highly recommended',\n",
       " 'Worth every penny',\n",
       " 'Highly recommended',\n",
       " 'Perfect product!',\n",
       " 'Perfect product!',\n",
       " 'Classy product',\n",
       " 'Perfect product!',\n",
       " 'Highly recommended',\n",
       " 'Worth every penny',\n",
       " 'Simply awesome',\n",
       " 'Worth every penny',\n",
       " 'Worth every penny',\n",
       " 'Wonderful',\n",
       " 'Terrific',\n",
       " 'Nice product',\n",
       " 'Perfect product!',\n",
       " 'Classy product',\n",
       " 'Brilliant',\n",
       " 'Good choice',\n",
       " 'Must buy!',\n",
       " 'Wonderful',\n",
       " 'Perfect product!',\n",
       " 'Simply awesome',\n",
       " 'Terrific purchase',\n",
       " 'Great product',\n",
       " 'Terrific purchase',\n",
       " 'Mind-blowing purchase',\n",
       " 'Excellent',\n",
       " 'Simply awesome',\n",
       " 'Good quality product',\n",
       " 'Very poor',\n",
       " 'Classy product',\n",
       " 'Perfect product!',\n",
       " 'Must buy!',\n",
       " 'Fabulous!',\n",
       " 'Mind-blowing purchase',\n",
       " 'Mind-blowing purchase',\n",
       " 'Wonderful',\n",
       " 'Must buy!',\n",
       " 'Great product',\n",
       " 'Very Good',\n",
       " 'Classy product',\n",
       " 'Perfect product!',\n",
       " 'Just wow!',\n",
       " 'Awesome',\n",
       " 'Pretty good',\n",
       " 'Terrific purchase',\n",
       " 'Awesome',\n",
       " 'Classy product',\n",
       " 'Brilliant',\n",
       " 'Terrific',\n",
       " 'Perfect product!',\n",
       " 'Awesome',\n",
       " 'Perfect product!',\n",
       " 'Very poor',\n",
       " 'Fabulous!',\n",
       " 'Excellent',\n",
       " 'Must buy!',\n",
       " 'Value-for-money',\n",
       " 'Best in the market!',\n",
       " 'Brilliant',\n",
       " 'Terrific purchase',\n",
       " 'Good quality product',\n",
       " 'Terrific',\n",
       " 'Best in the market!',\n",
       " 'Perfect product!',\n",
       " 'Awesome',\n",
       " 'Value-for-money',\n",
       " 'Just wow!',\n",
       " 'Worthless',\n",
       " 'Super!',\n",
       " 'Excellent',\n",
       " 'Wonderful',\n",
       " 'Nice product',\n",
       " 'Mind-blowing purchase',\n",
       " 'Classy product',\n",
       " 'Terrific',\n",
       " 'Excellent',\n",
       " 'Fabulous!',\n",
       " 'Pretty good',\n",
       " 'Mind-blowing purchase',\n",
       " 'Highly recommended',\n",
       " 'Excellent',\n",
       " 'Worth every penny',\n",
       " 'Fabulous!',\n",
       " 'Brilliant',\n",
       " 'Just wow!',\n",
       " 'Must buy!',\n",
       " 'Terrific purchase',\n",
       " 'Awesome',\n",
       " 'Decent product',\n",
       " 'Wonderful']"
      ]
     },
     "execution_count": 30,
     "metadata": {},
     "output_type": "execute_result"
    }
   ],
   "source": [
    "#scraping data of iphone review summary\n",
    "review_sum=[] #empty list\n",
    "for i in page_url:\n",
    "    driver.get(i)\n",
    "    rev_tags=driver.find_elements_by_xpath(\"//p[@class='_2-N8zT']\")\n",
    "    for i in rev_tags:\n",
    "        review_sum.append(i.text)\n",
    "review_sum[:100]\n"
   ]
  },
  {
   "cell_type": "code",
   "execution_count": 31,
   "id": "d877c34f",
   "metadata": {},
   "outputs": [
    {
     "data": {
      "text/plain": [
       "['The Best Phone for the Money\\n\\nThe iPhone 11 offers superb cameras, a more durable design and excellent battery life for an affordable price.\\n\\nCompelling ultra-wide camera\\nNew Night mode is excellent\\nLong battery life',\n",
       " 'Really satisfied with the Product I received... It’s totally genuine and the packaging was also really good so if ur planning to buy just go for it.',\n",
       " 'Great iPhone very snappy experience as apple kind. Upgraded from iPhone 7.\\nPros\\n-Camera top class\\n- Battery top performed\\n-Chipset no need to say as apple kind\\n-Security as you expect from apple\\n- Display super bright industry leading colour\\naccuracy and super responsive\\n-Build quality as expect from apple sturdy\\npremium durable beautiful stylish.\\n-Os most stable os in smartphone industry\\n\\nCons\\n-No 5G\\n-Display is not based on OLED technology\\n-Charger headphones and 1 apple stic...\\nREAD MORE',\n",
       " 'Amazing phone with great cameras and better battery which gives you the best performance. I just love the camera .',\n",
       " 'Previously I was using one plus 3t it was a great phone\\nAnd then I decided to upgrade I am stuck between Samsung s10 plus or iPhone 11\\nI have seen the specs and everything were good except the display it’s somewhere between 720-1080 and it’s not even an amoled it’s an LCD display\\nBut I decided to go with iPhone because I have never used an IOS device I have Been an android user from the past 9 years I ordered IPhone 11 (128gb) product red\\nMy experience after using 3 weeks\\n1. The delivery ...\\nREAD MORE',\n",
       " 'This is my first iOS phone. I am very happy with this product. Very much satisfied with this. I love this phone.',\n",
       " 'Amazing Powerful and Durable Gadget.\\n\\nI’m am very happy with the camera picture quality, Amazing face id unlocked in dark room, Strong battery with perfect screen size as you can carry easily in pocket. This is my third iPhone.\\n\\nI shifted from android Samsung Note series to iPhone because of the strong build quality and peace of mind for next 3-4 years.\\n\\nDon’t think to much just go for it and I suggest you to go for minimum 128gb variant or more 256gb.\\n\\nI’ve attached my puppy pics and no fi...\\nREAD MORE',\n",
       " 'So far it’s been an AMAZING experience coming back to iOS after nearly a decade but it’s not as versatile as android though phone is sturdy dropped it accidentally a couple of times and nothing happened fortunately camera is awesome',\n",
       " 'What a camera .....just awesome ..you can feel this iPhone just awesome . Good for gaming also ...try pubg in hd it’s just wow',\n",
       " 'i11 is worthy to buy, too much happy with the product. Thank u flipkart I received the item on time..loved it..',\n",
       " 'iphone 11 is a very good phone to buy only if you can compromise for the display. The display on this is device is pretty good but you can get other options with better displays in this price segment.\\nIf you can survive with an HD+ LCD panel with thicker bezels and a notch up top then this is a very good phone for you.\\nCameras are awesome, battery backup excellent, great performance and a decent premium look. Good job Apple !',\n",
       " 'It’s a must buy who is looking for an upgrade from previous generation of iPhones. If you are using XR then still you can hold on for sometime and upgrade to 2020 model else this phone is a must buy . Camera quality is amazing and wide angle is something to count upon. Performance wise it’s amazing and feels premium while holding in hand. So a big YES for this device. Go for 128 GB variant as the 4K videos will occupy lots of space and the storage can get over very quickly. Try to buy it with...\\nREAD MORE',\n",
       " 'Value for money❤️❤️\\nIts awesome mobile phone in the world ...\\nDisplay was very good and bright ..\\nTrust me freinds you r never regret after Buying..\\nJust go for it....\\nI love this phone and i switch to iphone x to 11',\n",
       " 'Totally in love with this ❤ the camera quality is amazing just love it 😘😘😘 itsss dammnnnnnn amazing... Must buy iPhone 11 this is my best experience ever ☀👌👌🧡🧡🧡🧡🧡 thanku apple ❤',\n",
       " \"Iphone is just awesome.. battery backup is very very nice.. continuously for 10 hours we can use it.camera is just awesome.. display is just fab.i love it alot..i had to wait 15 days for it as i pre ordered it..overalll it's worth the price..these all images are clicked by my iPhone..and i love it.\",\n",
       " \"It's my first time to use iOS phone and I am loving my upgradation 😍😍 I love the color, I love the assebility of the phone....I need to learn more about its functionality, but as far as I have seen, it's quite easy and it has a lot of functions to work on, specially if you are a content writer or a blogger you get a lot of content creation platforms and they are really amazing.\\n\\nThis phone not only for good quality photography but a lot of other task too.😍💯\",\n",
       " 'Best budget Iphone till date ❤️ go for it guys without second thought. Let me explain you guys about Camera, Display, battery, and performance.\\n\\nCamera: at this price range there is no comparison of camera, you’ll love the picture quality as well as video quality. I am a Vlogger I wanted an iPhone with 4k video by front camera and I got this phone and I am more than happy 😃\\n\\nBattery: I use this phone roughly as I am active social media person and I have a youtube channel. so the battery ba...\\nREAD MORE',\n",
       " 'Excellent camera, good performance, no lag. The lcd display is also good.. but difference come when we watch movie in prime and Netflix, the colours are not vibrant.. as we see in amoled display.. and the charger in box is of 5 watts.. takes more than 3 hours to charge from 0 to 100.. so guys be prepare to buy 18 watts charger . Finally I am an android user, it was my first Iapple phone, I promise u guys the iOS is so smooth.. overall the phone is damn good.... close eyes to buy it.. thanks t...\\nREAD MORE',\n",
       " 'Smooth like butter, camera like fantabulous, sound is crystal clear & its red color is damn attractive, i am just loving it. Must buy if you love photography.\\n\\nLucky to get it in sale, thank you Flipkart.',\n",
       " 'It’s been almost a month since I have been using this phone. I upgraded from an iPhone 8. The main issue with my 8 was battery and this phone is just awesome when it comes to battery. It lasts a day and a half for me with my regular use , internet connected always with 4g\\nCan’t move forward without saying this. Battery of this phone is a life saver when I am traveling or at work when I don’t get the option to charge\\nCamera is superb. Front cam selfies and back cam photos are just awesome.\\n...\\nREAD MORE',\n",
       " 'This is my first ever I phone. Before this I was using my google nexus 5. But moving from android to iOS is a great experience. It’s worth at this price. I will highly recommend it if you want to move to iOS. The best part of this phone is it’s camera and it’s battery life. This two things have won my heart. I loved it. Happy to have it in my hand. Still exploring its features. And can’t forget to mention Flipkart service. Very prompt service and fast delivery.',\n",
       " 'Really worth of money. i just love it. It is the best phone ever.',\n",
       " 'Awesome Phone. Slightly high price but worth. Better than iPhone XR.\\nCamera is superb and wide angle camera is very clear.\\n12MP selfie camera is also very good.\\nA13 Chip gives a very good and smooth performance.',\n",
       " 'Battery backup is extraordinary, camera is decent & performance offered by A13 bionic is awsome. The display is good in practical usage like the visibility of display is very good in direct sun light compare to pro models. Iam extremely satisfied for the money I spent.',\n",
       " 'Superb Product !!!\\nA big and worthy upgrade from mi 3S to iphone 11 .\\nTotally loved it !',\n",
       " 'I have migrated from OP 7pro... and trust me, iPhone 11 is totally worth it.. following are the reasons:-\\n1)there is ABSOLUTELY NO ISSUE WITH THE DISPLAY... its crisp, sharp and I found it to be much much better than OP7 pro. Netflix, Prime video all run crisply... you won’t miss a thing. True Tone works flawlessly...the display brightness is perfect. OP have not calibrated their screens properly.\\n2) iPhone 11 series have really good cameras... others have spoken in depth about them.\\n3) bat...\\nREAD MORE',\n",
       " 'Looking so good 👍 😍 super 👌 stylish 😎 phone\\nClean box 📦 good 👍 delivery 👌 fast delivery\\nOriginal box Original iphone 📱 👌 😍😍😍',\n",
       " 'It’s an amazing product from apple and the camera is simply superb. Phone is faster.Night shot is simply superb and detailing and colour differentiation from camera is an added advantage\\n\\nThis review I have written from iPhone 11 only and I am glad to say outside.\\n\\nCons wise if we see HD+ display only, no battery percentage indicator as in older iPhone 8.\\nNo assistive touch control button in it\\nNo oleophobic coating on back panel glass and finger prints are visible but since I bought mint gr...\\nREAD MORE',\n",
       " 'I just directly switch from iphone 6s to iphone 11 .The best premium smartphone I recommend to everyone. Excellent quality and colors the iphone have in 11 series.\\nCamera quality is just awesome and the major feel when we hold in our hands. The sound quality and volume is also higher then the previous models.\\nI will recommend to buy iphone 11 instead of pro models , there is nothing much difference as this model contains everything which fulfill our needs.\\n\\nOnly one thing that I dislike abo...\\nREAD MORE',\n",
       " 'After 1 month use I found camera quality best compared to my previous Samsung note 10+.Display not good as note 10 also charging too slow.Apple should add fast charger like 11 plus and pro.Best phone for daily use',\n",
       " \"It's very high performances devise i am like the service of flipkart delevary very fast and packing very nice perfect phone\",\n",
       " 'Upgraded from iphone 6 to 11 best phone for iphone users battery is much better than other iphones camera is awesome love to use it.camera is so clear in night.',\n",
       " 'Well you all know the specifications . One of a kind. Best iPhone till date. Many enhancements to the camera app with many options. Love the glass body with matte finish in the lens area on the back. Lovely colours to choose from. Best battery in an iPhone till date, enough to last more than a day in normal usage. I tested my iPhone 11 battery and lasted for than 24 hours after full charge still with 30% battery charge left. Watched movies for some time. Normal usage on calls, browsing, musi...\\nREAD MORE',\n",
       " 'The built quality is not very premium.\\nThe battery back is great .\\nThe LCD panel is not so sharp but the brightness level is very High .\\nCamera is super duper awesome.\\nThe red colour which people think is bright is actually very soothing and excellent colour to choose from .\\nThe A13 Bionic chip is really a flagship processor and can beat any phone which even has 12 gb ram .\\nCamera module is very great and looks very stylish.',\n",
       " 'This will help you more. See if you are planning to buy iPhone 11. I will say. Yes. But there are some plans I just want to disclose before you buy. 1) If you are an existing iPhone X/XS/XS Max/ XR user, better you guys do not think it to buy. You guys have more or less better gadget. 2) If you are an android user and planning to buy premium phone. I will suggest them to please buy iPhone instead of buying an Android. I bet you will never go back to android after using IOS. Now I want to shar...\\nREAD MORE',\n",
       " 'Amazing camera and feel super machine I am not describe my feeling but this is amazing Phone I am so lucky I have this',\n",
       " 'Really good actually this is my first apple product am using its really awesome performance wise excellent. Am really happy with this iphone11',\n",
       " 'it is very good at performance. Camera is best like before and very smooth response even in water. Don’t buy 12 mini buy iPhone 11 , it is far better than 12 mini believe me ! Have a nice day \\uf8ff ☺️',\n",
       " 'Reviewing again after 5 months. At the beginning the battery and performance was good but it degraded soon. Also I was facing heating issues. The mobile will heat up like a stove sometimes. You cannot even play Pubg even in low settings properly, performance is not a problem but heating is. Also if you play that game for 10 mins the brightness will be automatically down due to over heating even when the auto brightness is set to off. This will not be solved even if u manually increase the bri...\\nREAD MORE',\n",
       " 'We are on apple ecosystem for almost eight years now with couple of iPads and iPhones, including Xr.\\n\\nBought iPhone 11 as a gift to my daughter who loves it. We chose for a purple coloured one. Believe me it is gorgeous and towards the lighter shade. Dazzling and brilliant!\\n\\nThe phone is great and does excellent RAM management like any other Apple device.\\n\\nThe screen, though a LCD and lesser ppi as compared to other flagship phones of competitor brands, is a delight to watch with perfect re...\\nREAD MORE',\n",
       " 'It is just awesome mobile for this price from Apple,\\n\\nAfter 10 days review\\n\\nBattery enough for 1 day even 24*7 Internet will be on and mostly internet usage\\n\\nCamera is just awesome cool , android 64 MP is equal to this just 12 MP\\n\\nA13 Bionic chip will give more high performance without hanging\\n\\nAudio stereo speakers will give Dolby atoms sound with crystal clear\\n\\nVideo recording is like cinematic shots of every sec can be a 4K 60fps. Just awesome this phone\\niPhone 11 loved one',\n",
       " 'Best Apple iPhone that i have bought at a very reasonable price, camera quality is next level just awesome n of superior quality android phones not even close(RIP) to that and also battery is really good but packaging by Flipkart of iPhone was very poor of such a expensive product, firstly im bit worried about the quality of product if i purchased it through online how was the product but i think now this was mine best decision to bought it through Flipkart online because i got genuine Apple...\\nREAD MORE',\n",
       " \"I can say I'm damn impressed with iPhone 11. As they says iPhone 11 have the toughest glass ever in the smartphone which you'll find on the front and back and it's totally smooth. The fit and finish is full apple quality - there's no sense that any cheaping out has happened in the construction. Without saying it's camera features this review won't complete. The iPhone 11 has a dual camera system, consisting of a wide angle len's that's pretty much same as found on the iPhone XR last year, but...\\nREAD MORE\",\n",
       " 'Best Quality Product OF iPhone Series , Sound Quality & Camera quality is very awesome, Battery Life is very Sufficient for 24 hr Backup With Full Internet Access , I love this this Product too much , It is very fast & making me Very fast in all my daily Routine\\nHighlights;\\n1.Camera: 5 STAR\\n2.Video Recording: 5 star\\n3.Night mODE sHOOTING & Camera:4 star\\n4. Audio Quality: Awesome\\n5. Battery : 5 Star\\n6. Touch:5 Star\\n7. Processor: Very Fast\\nThe M...\\nREAD MORE',\n",
       " 'First thanks to Flipkart for this amazing deal and phone is outstanding. I upgraded from iPhone 7 and this is like very big upgrade. But the packaging was very basic I expected a good packaging as they only wrapped one layer of bubble wrap which I don’t think is enough to protect this expensive phone. And I recommend this phone and seller as well.\\n\\nAnd I’m posting this review after using it for 4 days.',\n",
       " 'Superfast delivery by Flipkart. Thanks.\\n\\n1. iPhone 11 is a pretty solid phone for the money you are paying.\\n2. All the bad reviews about the display is confusing. It’s not that bad.\\n3. I switched from a Oneplus 7t. I have no complaints about the display quality of iPhone. Yes, it’s not OLED, so, we are missing on the deep blacks. But that’s it. It is a very colour accurate display. Gets adequately bright and I could not find any pixelation.\\n4. Performance is one of the best, if not best, in ...\\nREAD MORE',\n",
       " 'I rate this product 5* as it has got amazing user experience with the best performing A13 bionic processor. The screen responds and graphics rendering is top notch. With casual gaming and internet browsing, the battery lasts for approx. 1 day. Camera is very good. You will fall in love with the portrait mode. You can call me a loyal Apple customer or whatever but I won’t stop praising the products and overall experience. That user experience matters and is worth every penny you pay.\\n\\nBelow ar...\\nREAD MORE',\n",
       " \"Again back to apple iphone after a gap of 2-3 years. It's pleasure to use iOS and the quality product by Apple. Iphone 11 still works like a beast in 2021 also. It really capable of doing day to day usage as well as hard core gaming. Battery is awesome. I'm really too much satisfied with it. Apart fto the very gorgious IPS LCD (AMOLED will be better) everything is mind boggling. Iphone💕.\",\n",
       " 'impressive super phone and best in class camera ,sound and face unlock is super fast just see and phone is unlock and fast in daily apps use',\n",
       " 'Well while switching from android to iOS the first thing you need to be careful about is that you will loose all your whatsapp chat backups as both are different operating systems. Camera clarity is awesome and though being an lcd screen clarity and resolution is good. Battery backup is also good unlike previous gen iPhone. So far the experience is good will Padre after a few months of usage.\\n\\nP.S the black is more of a dark grey shade and not jet black',\n",
       " 'In love with this iphone great performance,camera ,battery everything. Go for it have a uncompareble battery backup, no doubts in iPhone camera here You can see the picture which is shot on my iPhone In love with this iphone great performance,camera ,battery everything. Go for it have a uncompareble battery backup, no doubts in iPhone camera here You can see the picture which is shot on my iPhone In love with this iphone great performance,camera ,battery everything. Go for it have a uncompare...\\nREAD MORE',\n",
       " 'Best in class. Battery backup is good especially when you play games like Pubg COD. But it is sort of heavy when you hold in hands. Portrait mode is best to click pictures. Stage light effect is awesome. Try to click photos outside in nature because photos inside home or room will not give you the quality in any phone even in DSLR.',\n",
       " 'Very excited to have this phone. This phone has the real power unlike the android phones having SD 855 . The battery life is very good and the camera quality is excellent as comapred to redmi and other phones except google pixel. I M enjoying every single bit of it. Would recommed only if you have the budget.',\n",
       " 'I was using Iphone 6s and also Oneplus 6t. Both mobiles were perfectly alright in Photos, gaming, and smooth interface . My 6s mobile getting battery issue. thought upgrade to 11. Really like this mobile of its Internal storage (compare to 6s) , camera and its touch feeling. Its a worth buying mobile for me.',\n",
       " 'Its Very awesome product working and good camera quality and all about best product and also flipkart is very great deal and offer nice price',\n",
       " 'I am using this phone for 5 days and its one of the best camera out there ❤️ the screen is not oled and i am coming from iphone xs so its little bit not up to the mark i would say\\nBut overall value for money💕😍the battery back up is far better than my iphone xs and its worth in my apple ecosystem💫❤️if u are an apple User and have the eco system then go for it❤️though i will be getting the new iphone but its pretty good💫',\n",
       " 'Best and amazing product.....phone looks so premium.... battary is also good as expected .... Wide angle camera is so addictive ...if you are a IOS lover....then this phone will be the best choice for you all!!💯🔥',\n",
       " 'Excellent camera and display touching very nice and smooth very improvement against iPhone XR and new processor is very fast',\n",
       " \"I got this beast today. And I must say the picture quality of its camera is awesome. Both the cameras works fine.\\n\\nAs for as the processing is concerned, it runs without any lag. You can play and do whatever you want without a glitch.\\n\\nThe battery runs for a day with medium and high workload.\\n\\nThe display is good and the speakers are working fine.\\n\\nThe earphones doesn't have any base and you can use it for calling mostly.\\n\\nThe charging time is approximately for 90 minutes for full charging...\\nREAD MORE\",\n",
       " 'Awesome purchase. Amazing phone with good battery backup. It’s a top notch device. White colour looks amazing. Phone has a few extra feature than iPhone XR. Overall, this is value for money',\n",
       " 'Always love the apple products, upgraded from old iPhone 6S plus to this after having my first baby. I just love to click baby’s photos with it. Overall I just love this phone. Battery back up is okay, sound quality is good. Haven’t tested yet waterproof yet. Only one thing I hate is apple could have given charger & headphones in box.',\n",
       " 'Value for money\\n5 star rating\\nExcellent camera\\nBattery backup full day in single charge.\\n\\nTougher and water resistant design, glossy back.\\nThe screen has excellent brightness and contrast.\\nApple A13 Bionic is the fastest smartphone chip on the planet.\\nExcellent battery life, fast charging support.\\nStereo speakers with great quality.',\n",
       " 'Please DONT buy from here,\\n\\nI purchased Apple iPhone 11. with an exchange of IPhone 7, the exchange did not go well, iPhone 7 had a small scratch out side screen which i could never identify till date, but the FLIPKART person could, so he reduced 50% from exchange rate. I decided not to trade in, but paid money.\\n\\niPhone 11 Detail Below\\n---------------------------------------------\\nIt came with no charging, then i have put for charging, it took lot of time for charging, the phone also showe...\\nREAD MORE',\n",
       " 'awesome phone to have. it has got many smart features apart from mind blowing looks, camera, display, battery and sound. have fallen in love with this phone. must buy phone if you have got enough money. thanks to flipkart and apple of course..',\n",
       " 'Its a fabulous mobile look awesome performance unbeaten camera like dslr battery good i think this is a beast of mobile',\n",
       " 'Dear friends... I want to share my experience with you about this amazing I phone 11....this is my first iPhone and special things about this mobile is it has great camera, battery backup and awesome display.... I mean everything is perfect.loved it 👍👍👍',\n",
       " \"Just got this iphone 11\\nAnd it is most powerful mobile phone I have used ever\\n\\nSo,go for it if you want a phone with best specification like camera,battery backup,display, A13 bionic chip\\n\\nThat's my review about this phone but yours can be differ from me....\",\n",
       " \"The best all rounder iphone. Flipkart is doing a great job. They're delivery services are blazing fast. I got delivery on the same day. Genuine Apple Product. Working great. Talking about review There's no need of review for iphones. They're simply the best.\",\n",
       " 'Amazing phone and on great deal I received with super fast delivery by Flipkart...',\n",
       " 'finally an iPhone with very nice battery backup. update from iPhone 7 and happy to have it. camera is not up to the mark in low light but overall a recommended phone if your budget allows 😀',\n",
       " \"I'm switching this phone to oppo reno 10x zoom\\nIt's really impressive\\nRarely I'm missing smooth display touch response like oppo reno but\\nI really loved it.\\nCamera really impressive\",\n",
       " 'Simply Awesome\\n\\nI have upgraded from iPhone 7 to iPhone 11.\\n\\n3110 mah Battery is good. I am not a heavy gamer. For official purpose, this is better than 12 mini.\\n\\nTotally impressed with battery performance.',\n",
       " 'Damn this phone is a blast . Upgraded from android to ios and is a duperb experience. Battery backup is top notch and display also pretty good',\n",
       " 'Worth the money’ starting first from its performance it beats out all phones , second the smoothness of camera is awesome, contrast ratio is much than expected. Price will not matter if u r a quality person, if not other phones are available with better discount',\n",
       " 'I dreamt about this day from a long time.... Getting an iPhone with my own money.... Super happy and worth spending every penny',\n",
       " \"I'm Really happy with the product\\nDelivery was fast as well\\n..it was a gift for my sister and she loved it so much.\",\n",
       " 'Great iphone.\\nI am writing this review after 2 months of usage.\\nCamera is excellent, especially the nightmode\\nDisplay perfect\\nBattery backup awesome\\nSound quality very good\\nOverall Apple gives you a perfect iphone in this range.\\nReally in love with iPhone 11',\n",
       " \"Phone is awesome no doubt. But Camera & Display is not great. Performance is mind blowing.\\nBut the phone is heating too much when charging or when you regularly used. It's experience after using 1 week. It's heating extrem when I play PUBG for 30 minutes.\\nGo for iPhone 11 pro or 12. Otherwise go for Android phone you will get much better phone in less price.\",\n",
       " 'Did an upgrade from 6s plus to iphone 11.\\nAo far the experience is well and good. Felt smoother than 6s plus. The camera quality is superb. Battery backup is descent. Not a heavy user, and gets power more than a day. Go for it if you need an alrounder iphone in a competitve price.',\n",
       " \"It was amazing experience for me. Honestly i am using iPhone first time so I don't have that much past experience about that. But after using 7 days this mobile i want to give some honest feedback.\\n1- Display 9 out of 10\\n2- Camera 9.5 out of 10\\n3- Battery 7 out of 10\\n4- Performance 9.5 out of 10\\n5- Features & Functions 10 out of 10\\n6- Outer looks and colour 10 out of 10\\nRest i think i will understand after using this for few months.\\nI will highly recommend you guys if you have budget then you...\\nREAD MORE\",\n",
       " 'Super and marvellous phone look very cute and nice sound. I love this phone i think white is good colur.Excellent camer 5*😍😘♥️♥️',\n",
       " \"If you are looking for a premium phone under 55k, this is the one for you.Got the iPhone 11 during the Republic day sale. Performance is top notch in this price range. Camera's do a perfect job in taking good quality photos and videos. Battery backup too is satisfactory. Writing this review after using for a week. Any further observations would be updated.\",\n",
       " 'awesome Phone Smooth Touch Too good Sexyy looks one word Awesome',\n",
       " 'Gifted my man on his 30th birthday 🎂 He loves it.. Him happy so i am more than happy 😍😘❤️🥰',\n",
       " 'I bought iPhone 11 On March 2021, And I am Writing this review after using the phone for 4 Months. I would Say Everything is fine, Top Performance, Nice Camera as Anyone would Expect from any series of iPhone but when the Question comes to Battery it is complicated. The Battery is fully optimised and it comes 3110 mAh capacity but the problem is with the charger. Honestly Apple Removed charger from in Box items in the name of Environment and they are also forcing us to buy any 20W PD 3rd part...\\nREAD MORE',\n",
       " \"Just go for it.\\nThis phone is really amazing. I ordered it for my wife and we click photos on this thing which are better than dslr. I own OnePlus 6t but it's camera sucks. iPhone is really amazing when it comes to camera. It's worth spending 50k on this. Cons- only display is lcd. While using u don't feel it but if u compare with other phone then u can see difference quite easily.\\nChanging from Android to iphone is bit difficult coz most of things u don't know but I liked it. Some of the a...\\nREAD MORE\",\n",
       " 'Everything is perfect pictures come out so clearly and at first I wasn’t sure when I got it then when I started to use it and get the hang of it it was amazing!! I can’t wait to see what the next future phones will be like. The screen display on this bad boy are unbelievable they are so clear and never fail me. The performance is super cool there is a lot of cool features as well I like this phone because I feel that it is easy to use and one of my favorite things about this phone is the Face...\\nREAD MORE',\n",
       " \"I've used this phone for over a month now and here are my takeaways.\\nI would like to first talk about the best things about this phone and then the cons of it.\\n\\nPros:\\nThis phone is a performance beast. It handles large games and applications effortlessly and you won't find any stutters or lags while playing graphic intensive games like pubg, cod , mortal kombat and asphalt.\\n\\nThis phone has only 4gb ram and yet the ram management is amazing, it can keep 3 heavy games in memory without reload...\\nREAD MORE\",\n",
       " 'Excellent camera 📸 And Display touching very Nice And Smooth and very improvement against\\nI phone 11 and new processor is very fast',\n",
       " 'Thanks Flipkart For this amazing deal! I had a dream of owning a iphone since i had known about.\\nIm very happy with my purchase & it is totally worth it.\\nAmazing experience all over !!\\n\\nAnyone who’s thinking of buying it in 2021, i would simply say go for it without any second thoughts ❤️',\n",
       " 'A perfect phone and a good battery super camera and the sound is dynamic overall the phone is perfect for upgrading from lower iPhone model to iPhone 11',\n",
       " 'Undoubtedly Iphone 11 is the most successful model till now and its performance is extraordinary and the security features are very impressive, display is more vibrant sound quality Camera Quality 5*****, but Iphone should add accessories too and act like scrooge.',\n",
       " 'I purchased the iPhone 11 a month back. I must say Apple has impressed me yet again . I have been an Apple user for past 5 years . The phone is power packed with amazing features . What impressed me the most was the battery backup the phone offers . Battery can easily run upto 1.5 days in single charge with moderate to\\nHeavy usage . If you’re looking for a value for money device , I don’t see any other phone in the price range which can match the iPhone 11 .\\nOne thing I didn’t like was that ...\\nREAD MORE',\n",
       " 'A wort full value for money decision it’s . Simply go for it in 2021 its still a good decision . Awesome camera , Super smothered performance, Heck of build quality. And Most important it protects your privacy.',\n",
       " 'The ultimate performance\\nCamera is superb\\nThe battery backup also very good i never saw iphone gives this much of battery backup\\nIf any one wana buy iphone 11 definitely i will recommend this mobile\\nIt has the better battery and powerfull processer peak performance glorious camera and the display also 100% high quality lcd display if u had money for for 12 if u dont wana invest much money on that then go for iphone 11 it has maximum same specs only main difference between the 12 and 11 is...\\nREAD MORE',\n",
       " \"Camera is excellent just lack of telephoto mode frankly dose not needed either night mode is just 🙏🙏 12 12 12 mp (2back 1 front) camera lover just don't miss the deal\\nDisplay lcd but feel like super amoled\\nAt46999 with no cost EMI just a best deal\",\n",
       " 'I use a Note10+ and have been using both iOS and Android devices.\\n\\nCamera has really good features and portraits are super good, better than Samsung flagship. Overall camera setup can still be enhanced and hopeful for better upgrades on software in next release\\n\\nOperating system is quite a breeze and user experience of daily usage is very high as compared to Android. I moved to iOS very swiftly in 2 days for all my office work from Note10+\\n\\nBattery holds up quite well with 4 hrs of call and ...\\nREAD MORE',\n",
       " 'The phone is completely good\\nAs far as camera Apple is king of it\\nAnd its a beast in performance\\nAnd the battery is pretty good too',\n",
       " 'Everything u ll like it when u use this iPhone. Simple changes only not many to lower models but it’s nice to use. Little heavy compared to previous models like 7,8',\n",
       " 'Nice value for money good and best price I phone mind blowing camera processor very fast other android mobile I am happy India top selling phone 2020']"
      ]
     },
     "execution_count": 31,
     "metadata": {},
     "output_type": "execute_result"
    }
   ],
   "source": [
    "#scraping data of iphone full review\n",
    "full_rev=[] #empty list\n",
    "for i in page_url:\n",
    "    driver.get(i)\n",
    "    fure_tags=driver.find_elements_by_xpath(\"//div[@class='t-ZTKy']\")\n",
    "    for i in fure_tags:\n",
    "        full_rev.append(i.text)\n",
    "full_rev[:100]"
   ]
  },
  {
   "cell_type": "markdown",
   "id": "3376fab0",
   "metadata": {},
   "source": [
    "# Data Framing:"
   ]
  },
  {
   "cell_type": "code",
   "execution_count": 33,
   "id": "e6a777d3",
   "metadata": {},
   "outputs": [
    {
     "data": {
      "text/html": [
       "<div>\n",
       "<style scoped>\n",
       "    .dataframe tbody tr th:only-of-type {\n",
       "        vertical-align: middle;\n",
       "    }\n",
       "\n",
       "    .dataframe tbody tr th {\n",
       "        vertical-align: top;\n",
       "    }\n",
       "\n",
       "    .dataframe thead th {\n",
       "        text-align: right;\n",
       "    }\n",
       "</style>\n",
       "<table border=\"1\" class=\"dataframe\">\n",
       "  <thead>\n",
       "    <tr style=\"text-align: right;\">\n",
       "      <th></th>\n",
       "      <th>Ratings</th>\n",
       "      <th>Review summary</th>\n",
       "      <th>Full review</th>\n",
       "    </tr>\n",
       "  </thead>\n",
       "  <tbody>\n",
       "    <tr>\n",
       "      <th>0</th>\n",
       "      <td>5</td>\n",
       "      <td>Brilliant</td>\n",
       "      <td>The Best Phone for the Money\\n\\nThe iPhone 11 ...</td>\n",
       "    </tr>\n",
       "    <tr>\n",
       "      <th>1</th>\n",
       "      <td>5</td>\n",
       "      <td>Simply awesome</td>\n",
       "      <td>Really satisfied with the Product I received.....</td>\n",
       "    </tr>\n",
       "    <tr>\n",
       "      <th>2</th>\n",
       "      <td>5</td>\n",
       "      <td>Best in the market!</td>\n",
       "      <td>Great iPhone very snappy experience as apple k...</td>\n",
       "    </tr>\n",
       "    <tr>\n",
       "      <th>3</th>\n",
       "      <td>5</td>\n",
       "      <td>Perfect product!</td>\n",
       "      <td>Amazing phone with great cameras and better ba...</td>\n",
       "    </tr>\n",
       "    <tr>\n",
       "      <th>4</th>\n",
       "      <td>5</td>\n",
       "      <td>Worth every penny</td>\n",
       "      <td>Previously I was using one plus 3t it was a gr...</td>\n",
       "    </tr>\n",
       "    <tr>\n",
       "      <th>...</th>\n",
       "      <td>...</td>\n",
       "      <td>...</td>\n",
       "      <td>...</td>\n",
       "    </tr>\n",
       "    <tr>\n",
       "      <th>95</th>\n",
       "      <td>3</td>\n",
       "      <td>Must buy!</td>\n",
       "      <td>Camera is excellent just lack of telephoto mod...</td>\n",
       "    </tr>\n",
       "    <tr>\n",
       "      <th>96</th>\n",
       "      <td>5</td>\n",
       "      <td>Terrific purchase</td>\n",
       "      <td>I use a Note10+ and have been using both iOS a...</td>\n",
       "    </tr>\n",
       "    <tr>\n",
       "      <th>97</th>\n",
       "      <td>5</td>\n",
       "      <td>Awesome</td>\n",
       "      <td>The phone is completely good\\nAs far as camera...</td>\n",
       "    </tr>\n",
       "    <tr>\n",
       "      <th>98</th>\n",
       "      <td>5</td>\n",
       "      <td>Decent product</td>\n",
       "      <td>Everything u ll like it when u use this iPhone...</td>\n",
       "    </tr>\n",
       "    <tr>\n",
       "      <th>99</th>\n",
       "      <td>5</td>\n",
       "      <td>Wonderful</td>\n",
       "      <td>Nice value for money good and best price I pho...</td>\n",
       "    </tr>\n",
       "  </tbody>\n",
       "</table>\n",
       "<p>100 rows × 3 columns</p>\n",
       "</div>"
      ],
      "text/plain": [
       "   Ratings       Review summary  \\\n",
       "0        5            Brilliant   \n",
       "1        5       Simply awesome   \n",
       "2        5  Best in the market!   \n",
       "3        5     Perfect product!   \n",
       "4        5    Worth every penny   \n",
       "..     ...                  ...   \n",
       "95       3            Must buy!   \n",
       "96       5    Terrific purchase   \n",
       "97       5              Awesome   \n",
       "98       5       Decent product   \n",
       "99       5            Wonderful   \n",
       "\n",
       "                                          Full review  \n",
       "0   The Best Phone for the Money\\n\\nThe iPhone 11 ...  \n",
       "1   Really satisfied with the Product I received.....  \n",
       "2   Great iPhone very snappy experience as apple k...  \n",
       "3   Amazing phone with great cameras and better ba...  \n",
       "4   Previously I was using one plus 3t it was a gr...  \n",
       "..                                                ...  \n",
       "95  Camera is excellent just lack of telephoto mod...  \n",
       "96  I use a Note10+ and have been using both iOS a...  \n",
       "97  The phone is completely good\\nAs far as camera...  \n",
       "98  Everything u ll like it when u use this iPhone...  \n",
       "99  Nice value for money good and best price I pho...  \n",
       "\n",
       "[100 rows x 3 columns]"
      ]
     },
     "execution_count": 33,
     "metadata": {},
     "output_type": "execute_result"
    }
   ],
   "source": [
    "#Creating data frame for scraped data\n",
    "iphone_11=pd.DataFrame({})\n",
    "iphone_11['Ratings']=iphone_rating[:100]\n",
    "iphone_11['Review summary']=review_sum[:100]\n",
    "iphone_11['Full review']=full_rev[:100]\n",
    "iphone_11"
   ]
  },
  {
   "cell_type": "markdown",
   "id": "a0664540",
   "metadata": {},
   "source": [
    "# Q6: Scrape data for first 100 sneakers you find when you visit flipkart.com and search for “sneakers” in the search field.You have to scrape 4 attributes of each sneaker :\n",
    "1.Brand\n",
    "\n",
    "2.Product Description\n",
    "\n",
    "3.Price\n",
    "\n",
    "4.discount %\n"
   ]
  },
  {
   "cell_type": "code",
   "execution_count": 34,
   "id": "f3ed57c3",
   "metadata": {},
   "outputs": [],
   "source": [
    "driver=webdriver.Chrome('chromedriver.exe')"
   ]
  },
  {
   "cell_type": "code",
   "execution_count": 35,
   "id": "beafd5d1",
   "metadata": {},
   "outputs": [],
   "source": [
    "url='https://www.flipkart.com/'\n",
    "driver.get(url)"
   ]
  },
  {
   "cell_type": "markdown",
   "id": "eb67359a",
   "metadata": {},
   "source": [
    "This is the web page from which i have to scrap data."
   ]
  },
  {
   "cell_type": "code",
   "execution_count": 36,
   "id": "2a66e175",
   "metadata": {},
   "outputs": [
    {
     "data": {
      "text/plain": [
       "<selenium.webdriver.remote.webelement.WebElement (session=\"c28710312cfe55b4e92b8368576943aa\", element=\"e364740f-c3a6-4ffd-80e0-196e3eb7ed35\")>"
      ]
     },
     "execution_count": 36,
     "metadata": {},
     "output_type": "execute_result"
    }
   ],
   "source": [
    "#finding web element for search item using absolute xpath\n",
    "search_item=driver.find_element_by_xpath('/html/body/div[1]/div/div[1]/div[1]/div[2]/div[2]/form/div/div/input')\n",
    "search_item"
   ]
  },
  {
   "cell_type": "code",
   "execution_count": 37,
   "id": "20e14ee4",
   "metadata": {},
   "outputs": [],
   "source": [
    "#finding web element for sneaker bar\n",
    "search_item.send_keys('Sneakers')"
   ]
  },
  {
   "cell_type": "code",
   "execution_count": 38,
   "id": "0157f7ec",
   "metadata": {},
   "outputs": [],
   "source": [
    "#Clicking on search button using absolute xpath\n",
    "search_btn=driver.find_element_by_xpath('//button[@class=\"L0Z3Pu\"]')\n",
    "search_btn.click()"
   ]
  },
  {
   "cell_type": "code",
   "execution_count": 41,
   "id": "360de247",
   "metadata": {},
   "outputs": [
    {
     "data": {
      "text/plain": [
       "['https://www.flipkart.com/search?q=Sneakers&otracker=search&otracker1=search&marketplace=FLIPKART&as-show=on&as=off&page=1',\n",
       " 'https://www.flipkart.com/search?q=Sneakers&otracker=search&otracker1=search&marketplace=FLIPKART&as-show=on&as=off&page=2',\n",
       " 'https://www.flipkart.com/search?q=Sneakers&otracker=search&otracker1=search&marketplace=FLIPKART&as-show=on&as=off&page=3',\n",
       " 'https://www.flipkart.com/search?q=Sneakers&otracker=search&otracker1=search&marketplace=FLIPKART&as-show=on&as=off&page=4',\n",
       " 'https://www.flipkart.com/search?q=Sneakers&otracker=search&otracker1=search&marketplace=FLIPKART&as-show=on&as=off&page=5',\n",
       " 'https://www.flipkart.com/search?q=Sneakers&otracker=search&otracker1=search&marketplace=FLIPKART&as-show=on&as=off&page=6',\n",
       " 'https://www.flipkart.com/search?q=Sneakers&otracker=search&otracker1=search&marketplace=FLIPKART&as-show=on&as=off&page=7',\n",
       " 'https://www.flipkart.com/search?q=Sneakers&otracker=search&otracker1=search&marketplace=FLIPKART&as-show=on&as=off&page=8',\n",
       " 'https://www.flipkart.com/search?q=Sneakers&otracker=search&otracker1=search&marketplace=FLIPKART&as-show=on&as=off&page=9',\n",
       " 'https://www.flipkart.com/search?q=Sneakers&otracker=search&otracker1=search&marketplace=FLIPKART&as-show=on&as=off&page=10',\n",
       " 'https://www.flipkart.com/search?q=Sneakers&otracker=search&otracker1=search&marketplace=FLIPKART&as-show=on&as=off&page=2']"
      ]
     },
     "execution_count": 41,
     "metadata": {},
     "output_type": "execute_result"
    }
   ],
   "source": [
    "#scraping all urls from flipkart web page.\n",
    "page_url=[] #empty list\n",
    "url=driver.find_elements_by_xpath(\"//nav[@class='yFHi8N']//a\")\n",
    "for i in url:\n",
    "    page_url.append(i.get_attribute(\"href\"))\n",
    "page_url"
   ]
  },
  {
   "cell_type": "code",
   "execution_count": 43,
   "id": "ef18f76f",
   "metadata": {},
   "outputs": [
    {
     "data": {
      "text/plain": [
       "['PUMA',\n",
       " 'PUMA',\n",
       " 'BRUTON',\n",
       " 'Magnolia',\n",
       " 'luxury fashion',\n",
       " 'URBANBOX',\n",
       " 'SCATCHITE',\n",
       " 'PUMA',\n",
       " 'RapidBox',\n",
       " 'Extoes',\n",
       " 'Stefano Rads',\n",
       " 'D-SNEAKERZ',\n",
       " 'HOTSTYLE',\n",
       " 'BRUTON',\n",
       " 'ASTEROID',\n",
       " 'Rzisbo',\n",
       " 'Numenzo',\n",
       " 'Shoes Bank',\n",
       " 'Lee Won',\n",
       " 'Kreverse',\n",
       " 'Kraasa',\n",
       " 'ganpati traders',\n",
       " 'Labbin',\n",
       " 'aadi',\n",
       " 'Numenzo',\n",
       " 'Robbie jones',\n",
       " 'luxury fashion',\n",
       " 'BIRDE',\n",
       " 'Clymb',\n",
       " 'Kraasa',\n",
       " 'Kraasa',\n",
       " 'Zorth',\n",
       " 'SPARX',\n",
       " 'Echor',\n",
       " 'Zorth',\n",
       " 'Robbie jones',\n",
       " 'Echor',\n",
       " 'PUMA',\n",
       " 'DUNKASTON',\n",
       " 'CALCADOS',\n",
       " 'BIRDE',\n",
       " 'bluemaker',\n",
       " 'BIRDE',\n",
       " 'PUMA',\n",
       " 'BIRDE',\n",
       " 'Strollin',\n",
       " 'Zorth',\n",
       " 'PUMA',\n",
       " 'ASTEROID',\n",
       " 'STRANGER BROTHERS',\n",
       " 'aadi',\n",
       " 'PUMA',\n",
       " 'Echor',\n",
       " 'RODDICK SHOES',\n",
       " 'RapidBox',\n",
       " 'Rzisbo',\n",
       " 'Trendmode',\n",
       " 'Edoeviv',\n",
       " 'D-SNEAKERZ',\n",
       " 'Robbie jones',\n",
       " 'India hub',\n",
       " 'SPARX',\n",
       " 'ASIAN',\n",
       " 'aadi',\n",
       " 'Rzisbo',\n",
       " 'RapidBox',\n",
       " 'Robbie jones',\n",
       " 'T-ROCK',\n",
       " 'World Wear Footwear',\n",
       " 'Airland',\n",
       " 'Ktiz',\n",
       " 'Dizzler',\n",
       " 'KANEGGYE',\n",
       " 'Xtoon',\n",
       " 'BRUTON',\n",
       " 'Robbie jones',\n",
       " 'PUMA',\n",
       " 'World Wear Footwear',\n",
       " 'Zorth',\n",
       " 'WELDONE',\n",
       " 'Chevit',\n",
       " 'Airland',\n",
       " 'World Wear Footwear',\n",
       " 'PUMA',\n",
       " 'BIRDE',\n",
       " 'VZAZZY',\n",
       " 'believe',\n",
       " 'PUMA',\n",
       " 'India hub',\n",
       " 'Pieds',\n",
       " 'Robbie jones',\n",
       " 'PUMA',\n",
       " 'Chevit',\n",
       " 'SCATCHITE',\n",
       " 'Bonexy',\n",
       " 'PUMA',\n",
       " 'BIRDE',\n",
       " 'SPARX',\n",
       " 'BRUTON',\n",
       " 'aadi']"
      ]
     },
     "execution_count": 43,
     "metadata": {},
     "output_type": "execute_result"
    }
   ],
   "source": [
    "sneakers_brand=[]\n",
    "for i in page_url:\n",
    "    driver.get(i)\n",
    "    brand_tags=driver.find_elements_by_xpath('//div[@class=\"_2WkVRV\"]')\n",
    "    for i in brand_tags:\n",
    "        sneakers_brand.append(i.text)\n",
    "sneakers_brand[:100]"
   ]
  },
  {
   "cell_type": "code",
   "execution_count": 45,
   "id": "64ecafd2",
   "metadata": {},
   "outputs": [
    {
     "data": {
      "text/plain": [
       "['Mirage Sport AS Sneakers For Men',\n",
       " 'Seawalk Sneakers For Men',\n",
       " 'Modern & Trendy Collection Combo Pack of 02 Shoes for M...',\n",
       " 'Sneakers For Men',\n",
       " 'Luxury Fashionable casual shoes Sneakers For Men',\n",
       " 'Sneakers Sneakers For Men',\n",
       " 'Pacer Pro V3 Sneakers For Men',\n",
       " 'Modern Trendy Shoes Combo pack of 4 Sneakers For Men',\n",
       " \"Casual , Partywear Sneakers Shoes For Men's And Boys Wh...\",\n",
       " 'Sneakers For Men',\n",
       " 'Modern Trendy Sneakers Shoes Sneakers For Men',\n",
       " \"Original Luxury Branded Fashionable Men's Casual Walkin...\",\n",
       " 'Sneakers For Men',\n",
       " '411 Casual Sneakers For Men',\n",
       " \"White Sneaker For Men's/Boy's Sneakers For Men\",\n",
       " 'Sneakers For Men',\n",
       " 'Shark-41 Sneakers For Men',\n",
       " 'Sneakers For Men',\n",
       " 'Sneakers For Men',\n",
       " 'White Sneaker For Men Sneakers For Men',\n",
       " 'Casual Sneakers Black Shoes For Men Sneakers For Men',\n",
       " 'Luxury Fashionable casual sneaker shoes Sneakers For Me...',\n",
       " 'Sports Running Shoes Sneakers For Men',\n",
       " 'Sneakers For Men',\n",
       " 'Shark-41 Sneakers For Men',\n",
       " 'Series 7 Sneakers For Men',\n",
       " 'Sneakers For Men',\n",
       " 'Men White Sneakers Sneakers For Men',\n",
       " \"Men's Sneakers Fashion Lightweight Running Shoes Tennis...\",\n",
       " 'New Fashion Outdoor Trendy Lightweight Casual,Canvas St...',\n",
       " 'Sneakers For Men',\n",
       " \"Echor Men's Sneakers Fashion Lightweight Running Shoes ...\",\n",
       " 'Acrux V1 Sneakers For Men',\n",
       " 'Sneakers For Men',\n",
       " 'Trendy Fashion Combo Pack of 2 Sneakers For Men',\n",
       " 'Combo Pack of 5 Casual Shoes Sneakers For Men',\n",
       " 'casual for men (blue 06) Sneakers For Men',\n",
       " 'Combo Pack of 2 Casual Shoes Sneakers For Men',\n",
       " 'Seawalk Sneakers For Men',\n",
       " 'Combo Pack of 2 Casual Shoes Sneakers For Men',\n",
       " 'Sneakers For Men',\n",
       " 'Sneakers For Men',\n",
       " 'Mirage Sport AS Sneakers For Men',\n",
       " \"Original Luxury Branded Fashionable Men's Casual Walkin...\",\n",
       " 'Sneakers For Men',\n",
       " 'Sneakers For Men',\n",
       " 'Pacer Pro V3 Sneakers For Men',\n",
       " \"Men's Canvas Low Top Sneakers Lace-up Classic Casual Sn...\",\n",
       " 'Fashion Outdoor Canvas Casual Light Weight Lace-up Even...',\n",
       " 'Sneakers For Men',\n",
       " 'Sneakers For Men',\n",
       " \"Luxury Branded Fashionable Men's Casual Walking Partywe...\",\n",
       " \"Casual , Partywear Sneakers Shoes For Men's And Boys Wh...\",\n",
       " 'Casual Sneakers White Shoes For Men Sneakers For Men',\n",
       " 'SM-322 Sneakers For Men',\n",
       " 'Skypy-31 Walking Shoes,Training Shoes,Sneakers,Loafers,...',\n",
       " 'Sneakers For Men',\n",
       " 'Sneakers For Men',\n",
       " 'Sneakers For Men',\n",
       " 'Synthetic Leather Casual Partywear Wedding Sneakers Sho...',\n",
       " 'Latest Collection-1216 Stylish Casual Sports Sneakers F...',\n",
       " 'sneaker men red 1258 - 6 Sneakers For Men',\n",
       " 'Sneakers For Men',\n",
       " 'Sneakers For Men',\n",
       " \"white Casual shoes,Sneakers for men's Sneakers For Men\",\n",
       " 'Lattest Sneakers Shoe Sneakers For Men',\n",
       " 'Casual Sneakers Shoes For Men Sneakers For Men',\n",
       " 'Future Rider Retro Sneakers For Men',\n",
       " 'Sneakers For Men',\n",
       " 'Sneakers For Men',\n",
       " 'Fashion Sneakers For Men',\n",
       " 'Super Stylish & Trendy Combo Pack of 02 Pairs Sneakers ...',\n",
       " 'Sneakers Shoes For Men Black Sneakers For Men',\n",
       " 'Combo Pack of 4 Latest Collection Stylish Casual Loafer...',\n",
       " 'Mirage Sport AS Sneakers For Men',\n",
       " 'Combo Pack of 2 Casual Shoes Sneakers For Men',\n",
       " 'Sneakers for men(black_6) Sneakers For Men',\n",
       " 'Seawalk Sneakers For Men',\n",
       " 'luxury fashionable casual sneaker shoes Sneakers For Me...',\n",
       " 'Sneakers For Men',\n",
       " 'Pacer Pro V3 Sneakers For Men',\n",
       " \"Men's Combo Pack of 02 Shoes for Men Casual Sneakers Ou...\",\n",
       " 'Sneakers For Men',\n",
       " 'Sneakers For Men',\n",
       " 'Puma Smash Vulc Sneakers For Men',\n",
       " 'Casual Shoes Sneakers For Men',\n",
       " 'SM-162 Sneakers For Men',\n",
       " 'Modern & Trendy Collection Combo Pack of 02 Shoes for M...',\n",
       " 'Sneakers For Men',\n",
       " \"Original Luxury Branded Fashionable Men's Casual Walkin...\",\n",
       " 'Future Rider Neon Sneakers For Men',\n",
       " 'Casual shoes Sneakers For Men',\n",
       " 'Sneakers For Men',\n",
       " 'casual for men Sneakers For Men',\n",
       " 'Combo Pack Of 2 Latest Stylish Casual Shoes for Men Lac...',\n",
       " 'Combo Pack of 2 Casual Shoes Sneakers For Men',\n",
       " 'Fashion Sneakers Sneakers For Men',\n",
       " 'Sneakers For Men',\n",
       " 'Sneakers For Men',\n",
       " \"Men's Sneakers Fashion Lightweight Running Shoes Tennis...\"]"
      ]
     },
     "execution_count": 45,
     "metadata": {},
     "output_type": "execute_result"
    }
   ],
   "source": [
    "#scraping data of sneakers product description\n",
    "product_description=[] #empty list\n",
    "for i in page_url:\n",
    "    driver.get(i)\n",
    "    desc_tags=driver.find_elements_by_xpath(\"//a[@class='IRpwTa']\")\n",
    "    for i in desc_tags:\n",
    "        product_description.append(i.text)\n",
    "product_description[:100]"
   ]
  },
  {
   "cell_type": "code",
   "execution_count": 47,
   "id": "bcd6c3b6",
   "metadata": {},
   "outputs": [
    {
     "data": {
      "text/plain": [
       "['₹4,499',\n",
       " '₹1,799',\n",
       " '₹499',\n",
       " '₹398',\n",
       " '₹429',\n",
       " '₹220',\n",
       " '₹398',\n",
       " '₹1,799',\n",
       " '₹680',\n",
       " '₹898',\n",
       " '₹242',\n",
       " '₹348',\n",
       " '₹298',\n",
       " '₹299',\n",
       " '₹474',\n",
       " '₹549',\n",
       " '₹426',\n",
       " '₹331',\n",
       " '₹299',\n",
       " '₹245',\n",
       " '₹555',\n",
       " '₹189',\n",
       " '₹499',\n",
       " '₹549',\n",
       " '₹407',\n",
       " '₹451',\n",
       " '₹449',\n",
       " '₹299',\n",
       " '₹499',\n",
       " '₹649',\n",
       " '₹499',\n",
       " '₹499',\n",
       " '₹679',\n",
       " '₹499',\n",
       " '₹499',\n",
       " '₹474',\n",
       " '₹569',\n",
       " '₹1,860',\n",
       " '₹429',\n",
       " '₹498',\n",
       " '₹799',\n",
       " '₹598',\n",
       " '₹499',\n",
       " '₹4,499',\n",
       " '₹524',\n",
       " '₹449',\n",
       " '₹499',\n",
       " '₹1,799',\n",
       " '₹474',\n",
       " '₹459',\n",
       " '₹386',\n",
       " '₹1,799',\n",
       " '₹399',\n",
       " '₹499',\n",
       " '₹640',\n",
       " '₹599',\n",
       " '₹259',\n",
       " '₹499',\n",
       " '₹384',\n",
       " '₹426',\n",
       " '₹474',\n",
       " '₹891',\n",
       " '₹499',\n",
       " '₹549',\n",
       " '₹599',\n",
       " '₹630',\n",
       " '₹499',\n",
       " '₹399',\n",
       " '₹199',\n",
       " '₹237',\n",
       " '₹479',\n",
       " '₹399',\n",
       " '₹549',\n",
       " '₹499',\n",
       " '₹299',\n",
       " '₹449',\n",
       " '₹2,942',\n",
       " '₹259',\n",
       " '₹499',\n",
       " '₹299',\n",
       " '₹525',\n",
       " '₹449',\n",
       " '₹549',\n",
       " '₹1,799',\n",
       " '₹474',\n",
       " '₹599',\n",
       " '₹499',\n",
       " '₹1,799',\n",
       " '₹190',\n",
       " '₹410',\n",
       " '₹499',\n",
       " '₹4,499',\n",
       " '₹499',\n",
       " '₹398',\n",
       " '₹2,159',\n",
       " '₹348',\n",
       " '₹498',\n",
       " '₹850',\n",
       " '₹527',\n",
       " '₹399']"
      ]
     },
     "execution_count": 47,
     "metadata": {},
     "output_type": "execute_result"
    }
   ],
   "source": [
    "#scraping data of sneakers price\n",
    "price=[] #empty list\n",
    "for i in page_url:\n",
    "    driver.get(i)\n",
    "    pri_tags=driver.find_elements_by_xpath(\"//div[@class='_30jeq3']\")\n",
    "    for i in pri_tags:\n",
    "        price.append(i.text)\n",
    "price[:100]"
   ]
  },
  {
   "cell_type": "code",
   "execution_count": 48,
   "id": "35eb9cc7",
   "metadata": {},
   "outputs": [
    {
     "data": {
      "text/plain": [
       "['55% off',\n",
       " '60% off',\n",
       " '80% off',\n",
       " '60% off',\n",
       " '66% off',\n",
       " '77% off',\n",
       " '60% off',\n",
       " '50% off',\n",
       " '31% off',\n",
       " '40% off',\n",
       " '65% off',\n",
       " '47% off',\n",
       " '70% off',\n",
       " '76% off',\n",
       " '52% off',\n",
       " '45% off',\n",
       " '78% off',\n",
       " '66% off',\n",
       " '40% off',\n",
       " '75% off',\n",
       " '44% off',\n",
       " '62% off',\n",
       " '50% off',\n",
       " '72% off',\n",
       " '68% off',\n",
       " '54% off',\n",
       " '85% off',\n",
       " '40% off',\n",
       " '50% off',\n",
       " '56% off',\n",
       " '50% off',\n",
       " '50% off',\n",
       " '15% off',\n",
       " '50% off',\n",
       " '50% off',\n",
       " '52% off',\n",
       " '62% off',\n",
       " '53% off',\n",
       " '71% off',\n",
       " '50% off',\n",
       " '68% off',\n",
       " '60% off',\n",
       " '50% off',\n",
       " '50% off',\n",
       " '47% off',\n",
       " '55% off',\n",
       " '50% off',\n",
       " '55% off',\n",
       " '76% off',\n",
       " '54% off',\n",
       " '74% off',\n",
       " '60% off',\n",
       " '60% off',\n",
       " '50% off',\n",
       " '35% off',\n",
       " '40% off',\n",
       " '74% off',\n",
       " '37% off',\n",
       " '61% off',\n",
       " '78% off',\n",
       " '52% off',\n",
       " '15% off',\n",
       " '37% off',\n",
       " '72% off',\n",
       " '40% off',\n",
       " '36% off',\n",
       " '50% off',\n",
       " '60% off',\n",
       " '60% off',\n",
       " '52% off',\n",
       " '33% off',\n",
       " '20% off',\n",
       " '45% off',\n",
       " '66% off',\n",
       " '76% off',\n",
       " '55% off',\n",
       " '57% off',\n",
       " '48% off',\n",
       " '50% off',\n",
       " '40% off',\n",
       " '47% off',\n",
       " '55% off',\n",
       " '75% off',\n",
       " '50% off',\n",
       " '52% off',\n",
       " '70% off',\n",
       " '61% off',\n",
       " '55% off',\n",
       " '61% off',\n",
       " '58% off',\n",
       " '50% off',\n",
       " '60% off',\n",
       " '50% off',\n",
       " '60% off',\n",
       " '43% off',\n",
       " '65% off',\n",
       " '50% off',\n",
       " '14% off',\n",
       " '78% off',\n",
       " '80% off']"
      ]
     },
     "execution_count": 48,
     "metadata": {},
     "output_type": "execute_result"
    }
   ],
   "source": [
    "#scraping data of sneakers discount\n",
    "discount=[] #empty list\n",
    "for i in page_url:\n",
    "    driver.get(i)\n",
    "    dis_tags=driver.find_elements_by_xpath(\"//div[@class='_3Ay6Sb']//span\")\n",
    "    for i in dis_tags:\n",
    "        discount.append(i.text)\n",
    "discount[:100]"
   ]
  },
  {
   "cell_type": "markdown",
   "id": "18592edf",
   "metadata": {},
   "source": [
    "# Data Framing"
   ]
  },
  {
   "cell_type": "code",
   "execution_count": 51,
   "id": "a1d1f441",
   "metadata": {},
   "outputs": [
    {
     "data": {
      "text/html": [
       "<div>\n",
       "<style scoped>\n",
       "    .dataframe tbody tr th:only-of-type {\n",
       "        vertical-align: middle;\n",
       "    }\n",
       "\n",
       "    .dataframe tbody tr th {\n",
       "        vertical-align: top;\n",
       "    }\n",
       "\n",
       "    .dataframe thead th {\n",
       "        text-align: right;\n",
       "    }\n",
       "</style>\n",
       "<table border=\"1\" class=\"dataframe\">\n",
       "  <thead>\n",
       "    <tr style=\"text-align: right;\">\n",
       "      <th></th>\n",
       "      <th>Brand</th>\n",
       "      <th>Product description</th>\n",
       "      <th>Price</th>\n",
       "      <th>Discount</th>\n",
       "    </tr>\n",
       "  </thead>\n",
       "  <tbody>\n",
       "    <tr>\n",
       "      <th>0</th>\n",
       "      <td>PUMA</td>\n",
       "      <td>Mirage Sport AS Sneakers For Men</td>\n",
       "      <td>₹4,499</td>\n",
       "      <td>55% off</td>\n",
       "    </tr>\n",
       "    <tr>\n",
       "      <th>1</th>\n",
       "      <td>PUMA</td>\n",
       "      <td>Seawalk Sneakers For Men</td>\n",
       "      <td>₹1,799</td>\n",
       "      <td>60% off</td>\n",
       "    </tr>\n",
       "    <tr>\n",
       "      <th>2</th>\n",
       "      <td>BRUTON</td>\n",
       "      <td>Modern &amp; Trendy Collection Combo Pack of 02 Sh...</td>\n",
       "      <td>₹499</td>\n",
       "      <td>80% off</td>\n",
       "    </tr>\n",
       "    <tr>\n",
       "      <th>3</th>\n",
       "      <td>Magnolia</td>\n",
       "      <td>Sneakers For Men</td>\n",
       "      <td>₹398</td>\n",
       "      <td>60% off</td>\n",
       "    </tr>\n",
       "    <tr>\n",
       "      <th>4</th>\n",
       "      <td>luxury fashion</td>\n",
       "      <td>Luxury Fashionable casual shoes Sneakers For Men</td>\n",
       "      <td>₹429</td>\n",
       "      <td>66% off</td>\n",
       "    </tr>\n",
       "    <tr>\n",
       "      <th>...</th>\n",
       "      <td>...</td>\n",
       "      <td>...</td>\n",
       "      <td>...</td>\n",
       "      <td>...</td>\n",
       "    </tr>\n",
       "    <tr>\n",
       "      <th>95</th>\n",
       "      <td>PUMA</td>\n",
       "      <td>Combo Pack of 2 Casual Shoes Sneakers For Men</td>\n",
       "      <td>₹348</td>\n",
       "      <td>65% off</td>\n",
       "    </tr>\n",
       "    <tr>\n",
       "      <th>96</th>\n",
       "      <td>BIRDE</td>\n",
       "      <td>Fashion Sneakers Sneakers For Men</td>\n",
       "      <td>₹498</td>\n",
       "      <td>50% off</td>\n",
       "    </tr>\n",
       "    <tr>\n",
       "      <th>97</th>\n",
       "      <td>SPARX</td>\n",
       "      <td>Sneakers For Men</td>\n",
       "      <td>₹850</td>\n",
       "      <td>14% off</td>\n",
       "    </tr>\n",
       "    <tr>\n",
       "      <th>98</th>\n",
       "      <td>BRUTON</td>\n",
       "      <td>Sneakers For Men</td>\n",
       "      <td>₹527</td>\n",
       "      <td>78% off</td>\n",
       "    </tr>\n",
       "    <tr>\n",
       "      <th>99</th>\n",
       "      <td>aadi</td>\n",
       "      <td>Men's Sneakers Fashion Lightweight Running Sho...</td>\n",
       "      <td>₹399</td>\n",
       "      <td>80% off</td>\n",
       "    </tr>\n",
       "  </tbody>\n",
       "</table>\n",
       "<p>100 rows × 4 columns</p>\n",
       "</div>"
      ],
      "text/plain": [
       "             Brand                                Product description   Price  \\\n",
       "0             PUMA                   Mirage Sport AS Sneakers For Men  ₹4,499   \n",
       "1             PUMA                           Seawalk Sneakers For Men  ₹1,799   \n",
       "2           BRUTON  Modern & Trendy Collection Combo Pack of 02 Sh...    ₹499   \n",
       "3         Magnolia                                   Sneakers For Men    ₹398   \n",
       "4   luxury fashion   Luxury Fashionable casual shoes Sneakers For Men    ₹429   \n",
       "..             ...                                                ...     ...   \n",
       "95            PUMA      Combo Pack of 2 Casual Shoes Sneakers For Men    ₹348   \n",
       "96           BIRDE                  Fashion Sneakers Sneakers For Men    ₹498   \n",
       "97           SPARX                                   Sneakers For Men    ₹850   \n",
       "98          BRUTON                                   Sneakers For Men    ₹527   \n",
       "99            aadi  Men's Sneakers Fashion Lightweight Running Sho...    ₹399   \n",
       "\n",
       "   Discount  \n",
       "0   55% off  \n",
       "1   60% off  \n",
       "2   80% off  \n",
       "3   60% off  \n",
       "4   66% off  \n",
       "..      ...  \n",
       "95  65% off  \n",
       "96  50% off  \n",
       "97  14% off  \n",
       "98  78% off  \n",
       "99  80% off  \n",
       "\n",
       "[100 rows x 4 columns]"
      ]
     },
     "execution_count": 51,
     "metadata": {},
     "output_type": "execute_result"
    }
   ],
   "source": [
    "#Creating data frame for scraped data\n",
    "sneakers=pd.DataFrame({})\n",
    "sneakers['Brand']=sneakers_brand[:100]\n",
    "sneakers['Product description']=product_description[:100]\n",
    "sneakers['Price']=price[:100]\n",
    "sneakers['Discount']=discount[:100]\n",
    "sneakers"
   ]
  },
  {
   "cell_type": "markdown",
   "id": "69c030f9",
   "metadata": {},
   "source": [
    "# Q7: Go to the link - https://www.myntra.com/shoes Set Price filter to “Rs. 7149 to Rs. 14099” , Color filter to “Black”.And then scrape First 100 shoes data you get. The data should include “Brand” of the shoes , Short Shoe description, price of the shoe."
   ]
  },
  {
   "cell_type": "code",
   "execution_count": 2,
   "id": "b56d97d1",
   "metadata": {},
   "outputs": [],
   "source": [
    "driver=webdriver.Chrome('chromedriver.exe')"
   ]
  },
  {
   "cell_type": "code",
   "execution_count": 3,
   "id": "bf9828d8",
   "metadata": {},
   "outputs": [],
   "source": [
    "url='https://www.myntra.com/shoes'\n",
    "driver.get(url)"
   ]
  },
  {
   "cell_type": "code",
   "execution_count": 5,
   "id": "b8dabb62",
   "metadata": {},
   "outputs": [],
   "source": [
    "price_filter=driver.find_element_by_xpath('/html/body/div[2]/div/div[1]/main/div[3]/div[1]/section/div/div[5]')\n",
    "price_filter.click()"
   ]
  },
  {
   "cell_type": "code",
   "execution_count": 6,
   "id": "4a9faaee",
   "metadata": {},
   "outputs": [],
   "source": [
    "#adding color filter\n",
    "color_filter=driver.find_element_by_xpath('/html/body/div[2]/div/div[1]/main/div[3]/div[1]/section/div/div[6]/ul/li[1]/label/div')\n",
    "color_filter.click()"
   ]
  },
  {
   "cell_type": "code",
   "execution_count": 7,
   "id": "ed837668",
   "metadata": {},
   "outputs": [],
   "source": [
    "br=driver.find_elements_by_xpath(\"//h3[@class='product-brand']\")"
   ]
  },
  {
   "cell_type": "code",
   "execution_count": 8,
   "id": "6f1f6bf4",
   "metadata": {},
   "outputs": [],
   "source": [
    "brand=[] #empty list\n",
    "for i in range(1,4):\n",
    "    for j in br:\n",
    "        brand.append(j.text)\n",
    "    next_button=driver.find_element_by_xpath(\"//li[@class='pagination-next']/a\")\n",
    "    next_button.click"
   ]
  },
  {
   "cell_type": "code",
   "execution_count": 9,
   "id": "cbb90358",
   "metadata": {},
   "outputs": [
    {
     "data": {
      "text/plain": [
       "['Puma',\n",
       " 'Puma',\n",
       " 'Hush Puppies',\n",
       " 'Saint G',\n",
       " 'RARE RABBIT',\n",
       " 'ASICS',\n",
       " 'Bugatti',\n",
       " 'Bugatti',\n",
       " 'Bugatti',\n",
       " 'MANGO',\n",
       " 'ROSSO BRUNELLO',\n",
       " 'DAVINCHI',\n",
       " 'Nautica',\n",
       " 'Saint G',\n",
       " 'Saint G',\n",
       " 'ROSSO BRUNELLO',\n",
       " 'Saint G',\n",
       " 'Geox',\n",
       " 'J.FONTINI',\n",
       " 'Heel & Buckle London',\n",
       " 'UNDER ARMOUR',\n",
       " 'Geox',\n",
       " 'MANGO',\n",
       " 'Saint G',\n",
       " 'Geox',\n",
       " 'Puma',\n",
       " 'Puma',\n",
       " 'UNDER ARMOUR',\n",
       " 'Columbia',\n",
       " 'Tommy Hilfiger',\n",
       " 'Cole Haan',\n",
       " 'J.FONTINI',\n",
       " 'Clarks',\n",
       " 'Xtep',\n",
       " 'RARE RABBIT',\n",
       " 'J.FONTINI',\n",
       " 'Geox',\n",
       " 'DAVINCHI',\n",
       " 'Geox',\n",
       " 'Geox',\n",
       " 'DAVINCHI',\n",
       " 'Pavers England',\n",
       " 'DAVINCHI',\n",
       " 'Pavers England',\n",
       " 'DAVINCHI',\n",
       " 'Cole Haan',\n",
       " 'Geox',\n",
       " 'Cole Haan',\n",
       " 'Geox',\n",
       " 'ROSSO BRUNELLO',\n",
       " 'Puma',\n",
       " 'Puma',\n",
       " 'Hush Puppies',\n",
       " 'Saint G',\n",
       " 'RARE RABBIT',\n",
       " 'ASICS',\n",
       " 'Bugatti',\n",
       " 'Bugatti',\n",
       " 'Bugatti',\n",
       " 'MANGO',\n",
       " 'ROSSO BRUNELLO',\n",
       " 'DAVINCHI',\n",
       " 'Nautica',\n",
       " 'Saint G',\n",
       " 'Saint G',\n",
       " 'ROSSO BRUNELLO',\n",
       " 'Saint G',\n",
       " 'Geox',\n",
       " 'J.FONTINI',\n",
       " 'Heel & Buckle London',\n",
       " 'UNDER ARMOUR',\n",
       " 'Geox',\n",
       " 'MANGO',\n",
       " 'Saint G',\n",
       " 'Geox',\n",
       " 'Puma',\n",
       " 'Puma',\n",
       " 'UNDER ARMOUR',\n",
       " 'Columbia',\n",
       " 'Tommy Hilfiger',\n",
       " 'Cole Haan',\n",
       " 'J.FONTINI',\n",
       " 'Clarks',\n",
       " 'Xtep',\n",
       " 'RARE RABBIT',\n",
       " 'J.FONTINI',\n",
       " 'Geox',\n",
       " 'DAVINCHI',\n",
       " 'Geox',\n",
       " 'Geox',\n",
       " 'DAVINCHI',\n",
       " 'Pavers England',\n",
       " 'DAVINCHI',\n",
       " 'Pavers England',\n",
       " 'DAVINCHI',\n",
       " 'Cole Haan',\n",
       " 'Geox',\n",
       " 'Cole Haan',\n",
       " 'Geox',\n",
       " 'ROSSO BRUNELLO']"
      ]
     },
     "execution_count": 9,
     "metadata": {},
     "output_type": "execute_result"
    }
   ],
   "source": [
    "brand[:100]"
   ]
  },
  {
   "cell_type": "code",
   "execution_count": 13,
   "id": "f4849e8e",
   "metadata": {},
   "outputs": [],
   "source": [
    "des=driver.find_elements_by_xpath(\"//h4[@class='product-product']\")"
   ]
  },
  {
   "cell_type": "code",
   "execution_count": 14,
   "id": "c746985e",
   "metadata": {},
   "outputs": [],
   "source": [
    "description=[]\n",
    "for i in range(1,4):\n",
    "    for j in des:\n",
    "        description.append(j.text)\n",
    "    next_button=driver.find_element_by_xpath('//li[@class=\"pagination-next\"]/a')\n",
    "    next_button.click\n",
    "    "
   ]
  },
  {
   "cell_type": "code",
   "execution_count": 15,
   "id": "228c9cd1",
   "metadata": {},
   "outputs": [
    {
     "data": {
      "text/plain": [
       "['Men Running Shoes',\n",
       " 'Men Magnify Nitro Running',\n",
       " 'Men Solid Leather Formal Slip-Ons',\n",
       " 'Men Mid-Top Chelsea Boots',\n",
       " 'Men Leather Flat Boots',\n",
       " 'Men Colourblocked PU Sneakers',\n",
       " 'Men Running Shoes',\n",
       " 'Men Textured Leather High-Top Flat Boots',\n",
       " 'Men Black Walking Shoes',\n",
       " 'Women WovenDesign Sports Shoes',\n",
       " 'Men Textured Leather Driving Shoes',\n",
       " 'Men Solid Leather Formal Derbys',\n",
       " 'High-Top Block Heeled Boots',\n",
       " 'Women Leather Heeled Boots',\n",
       " 'Suede High-Top Flatform Heeled Boots',\n",
       " 'Men Textured Leather Loafers',\n",
       " 'Men Leather Chelsea Boots',\n",
       " 'Men Leather Flat Boots',\n",
       " 'Men Textured Leather Loafers',\n",
       " 'Men Formal Leather Derby',\n",
       " 'Women Charged Breathe CLR SFT',\n",
       " 'Women Leather High-Top Flat Boots',\n",
       " 'Women Leather Penny Loafers',\n",
       " 'Leather Platform Heeled Boots',\n",
       " 'Women Leather Pumps',\n",
       " 'Women Velocity NITRO Runners',\n",
       " 'Women Magnify Nitro Shoes',\n",
       " 'Women Charged Impulse Shft',\n",
       " 'PEAKFREAK OUTDRY Trekking Shoe',\n",
       " 'Women Hybrid Leather Sneakers',\n",
       " 'Men GENERATION ZEROGRAND STITCHLITE',\n",
       " 'Men Textured Leather Loafers',\n",
       " 'Men Solid Formal Leather Derbys',\n",
       " 'Men Running Shoes',\n",
       " 'Men Textured Leather Loafers',\n",
       " 'Men Black Leather Loafers',\n",
       " 'Men Leather Loafers',\n",
       " 'Ustraa black',\n",
       " 'Women Solid Leather Pumps',\n",
       " 'Women Solid Leather Pumps',\n",
       " 'Men Formal Leather Slip-Ons',\n",
       " 'Men Leather Driving Shoes',\n",
       " 'Men Textured Formal Leather Loafers',\n",
       " 'Men Textured Leather Loafers',\n",
       " 'Men Textured Formal Leather Loafers',\n",
       " 'Women Open Toe Flats',\n",
       " 'Women Solid Leather Ballerinas',\n",
       " 'Women Solid Leather Ballerinas',\n",
       " 'Men Leather Formal Derbys',\n",
       " 'Men Textured Formal Loafers',\n",
       " 'Men Running Shoes',\n",
       " 'Men Magnify Nitro Running',\n",
       " 'Men Solid Leather Formal Slip-Ons',\n",
       " 'Men Mid-Top Chelsea Boots',\n",
       " 'Men Leather Flat Boots',\n",
       " 'Men Colourblocked PU Sneakers',\n",
       " 'Men Running Shoes',\n",
       " 'Men Textured Leather High-Top Flat Boots',\n",
       " 'Men Black Walking Shoes',\n",
       " 'Women WovenDesign Sports Shoes',\n",
       " 'Men Textured Leather Driving Shoes',\n",
       " 'Men Solid Leather Formal Derbys',\n",
       " 'High-Top Block Heeled Boots',\n",
       " 'Women Leather Heeled Boots',\n",
       " 'Suede High-Top Flatform Heeled Boots',\n",
       " 'Men Textured Leather Loafers',\n",
       " 'Men Leather Chelsea Boots',\n",
       " 'Men Leather Flat Boots',\n",
       " 'Men Textured Leather Loafers',\n",
       " 'Men Formal Leather Derby',\n",
       " 'Women Charged Breathe CLR SFT',\n",
       " 'Women Leather High-Top Flat Boots',\n",
       " 'Women Leather Penny Loafers',\n",
       " 'Leather Platform Heeled Boots',\n",
       " 'Women Leather Pumps',\n",
       " 'Women Velocity NITRO Runners',\n",
       " 'Women Magnify Nitro Shoes',\n",
       " 'Women Charged Impulse Shft',\n",
       " 'PEAKFREAK OUTDRY Trekking Shoe',\n",
       " 'Women Hybrid Leather Sneakers',\n",
       " 'Men GENERATION ZEROGRAND STITCHLITE',\n",
       " 'Men Textured Leather Loafers',\n",
       " 'Men Solid Formal Leather Derbys',\n",
       " 'Men Running Shoes',\n",
       " 'Men Textured Leather Loafers',\n",
       " 'Men Black Leather Loafers',\n",
       " 'Men Leather Loafers',\n",
       " 'Ustraa black',\n",
       " 'Women Solid Leather Pumps',\n",
       " 'Women Solid Leather Pumps',\n",
       " 'Men Formal Leather Slip-Ons',\n",
       " 'Men Leather Driving Shoes',\n",
       " 'Men Textured Formal Leather Loafers',\n",
       " 'Men Textured Leather Loafers',\n",
       " 'Men Textured Formal Leather Loafers',\n",
       " 'Women Open Toe Flats',\n",
       " 'Women Solid Leather Ballerinas',\n",
       " 'Women Solid Leather Ballerinas',\n",
       " 'Men Leather Formal Derbys',\n",
       " 'Men Textured Formal Loafers']"
      ]
     },
     "execution_count": 15,
     "metadata": {},
     "output_type": "execute_result"
    }
   ],
   "source": [
    "description[:100]"
   ]
  },
  {
   "cell_type": "code",
   "execution_count": 23,
   "id": "1b0b48d9",
   "metadata": {},
   "outputs": [],
   "source": [
    "pri_tags=driver.find_elements_by_xpath(\"//div[@class='product-price']\")"
   ]
  },
  {
   "cell_type": "code",
   "execution_count": 24,
   "id": "4a432f4c",
   "metadata": {},
   "outputs": [],
   "source": [
    "price=[] #empty list\n",
    "for i in range(1,4):\n",
    "    for j in pri_tags:\n",
    "        price.append(j.text)\n",
    "    next_button=driver.find_element_by_xpath(\"//li[@class='pagination-next']/a\")\n",
    "    next_button.click"
   ]
  },
  {
   "cell_type": "code",
   "execution_count": 25,
   "id": "5a034c0c",
   "metadata": {},
   "outputs": [
    {
     "data": {
      "text/plain": [
       "['Rs. 8449Rs. 12999(35% OFF)',\n",
       " 'Rs. 8449Rs. 12999(35% OFF)',\n",
       " 'Rs. 8999',\n",
       " 'Rs. 9810Rs. 10900(10% OFF)',\n",
       " 'Rs. 7999Rs. 9999(20% OFF)',\n",
       " 'Rs. 9999',\n",
       " 'Rs. 7999Rs. 9999(20% OFF)',\n",
       " 'Rs. 8399Rs. 11999(30% OFF)',\n",
       " 'Rs. 7199Rs. 8999(20% OFF)',\n",
       " 'Rs. 7191Rs. 7990(10% OFF)',\n",
       " 'Rs. 7199Rs. 11999(40% OFF)',\n",
       " 'Rs. 8990',\n",
       " 'Rs. 8699',\n",
       " 'Rs. 13410Rs. 14900(10% OFF)',\n",
       " 'Rs. 12150Rs. 13500(10% OFF)',\n",
       " 'Rs. 10999',\n",
       " 'Rs. 10710Rs. 11900(10% OFF)',\n",
       " 'Rs. 8399Rs. 11999(30% OFF)',\n",
       " 'Rs. 7990',\n",
       " 'Rs. 7990',\n",
       " 'Rs. 7999',\n",
       " 'Rs. 10499Rs. 14999(30% OFF)',\n",
       " 'Rs. 7191Rs. 7990(10% OFF)',\n",
       " 'Rs. 9810Rs. 10900(10% OFF)',\n",
       " 'Rs. 8999',\n",
       " 'Rs. 7699Rs. 10999(30% OFF)',\n",
       " 'Rs. 8449Rs. 12999(35% OFF)',\n",
       " 'Rs. 7499',\n",
       " 'Rs. 9999',\n",
       " 'Rs. 7999',\n",
       " 'Rs. 11999',\n",
       " 'Rs. 7990',\n",
       " 'Rs. 9999',\n",
       " 'Rs. 7699',\n",
       " 'Rs. 7149Rs. 10999(35% OFF)',\n",
       " 'Rs. 8490',\n",
       " 'Rs. 9999',\n",
       " 'Rs. 8990',\n",
       " 'Rs. 7999',\n",
       " 'Rs. 10990',\n",
       " 'Rs. 8990',\n",
       " 'Rs. 7499',\n",
       " 'Rs. 8990',\n",
       " 'Rs. 10999',\n",
       " 'Rs. 8990',\n",
       " 'Rs. 11999',\n",
       " 'Rs. 8999',\n",
       " 'Rs. 13999',\n",
       " 'Rs. 8399Rs. 11999(30% OFF)',\n",
       " 'Rs. 10999',\n",
       " 'Rs. 8449Rs. 12999(35% OFF)',\n",
       " 'Rs. 8449Rs. 12999(35% OFF)',\n",
       " 'Rs. 8999',\n",
       " 'Rs. 9810Rs. 10900(10% OFF)',\n",
       " 'Rs. 7999Rs. 9999(20% OFF)',\n",
       " 'Rs. 9999',\n",
       " 'Rs. 7999Rs. 9999(20% OFF)',\n",
       " 'Rs. 8399Rs. 11999(30% OFF)',\n",
       " 'Rs. 7199Rs. 8999(20% OFF)',\n",
       " 'Rs. 7191Rs. 7990(10% OFF)',\n",
       " 'Rs. 7199Rs. 11999(40% OFF)',\n",
       " 'Rs. 8990',\n",
       " 'Rs. 8699',\n",
       " 'Rs. 13410Rs. 14900(10% OFF)',\n",
       " 'Rs. 12150Rs. 13500(10% OFF)',\n",
       " 'Rs. 10999',\n",
       " 'Rs. 10710Rs. 11900(10% OFF)',\n",
       " 'Rs. 8399Rs. 11999(30% OFF)',\n",
       " 'Rs. 7990',\n",
       " 'Rs. 7990',\n",
       " 'Rs. 7999',\n",
       " 'Rs. 10499Rs. 14999(30% OFF)',\n",
       " 'Rs. 7191Rs. 7990(10% OFF)',\n",
       " 'Rs. 9810Rs. 10900(10% OFF)',\n",
       " 'Rs. 8999',\n",
       " 'Rs. 7699Rs. 10999(30% OFF)',\n",
       " 'Rs. 8449Rs. 12999(35% OFF)',\n",
       " 'Rs. 7499',\n",
       " 'Rs. 9999',\n",
       " 'Rs. 7999',\n",
       " 'Rs. 11999',\n",
       " 'Rs. 7990',\n",
       " 'Rs. 9999',\n",
       " 'Rs. 7699',\n",
       " 'Rs. 7149Rs. 10999(35% OFF)',\n",
       " 'Rs. 8490',\n",
       " 'Rs. 9999',\n",
       " 'Rs. 8990',\n",
       " 'Rs. 7999',\n",
       " 'Rs. 10990',\n",
       " 'Rs. 8990',\n",
       " 'Rs. 7499',\n",
       " 'Rs. 8990',\n",
       " 'Rs. 10999',\n",
       " 'Rs. 8990',\n",
       " 'Rs. 11999',\n",
       " 'Rs. 8999',\n",
       " 'Rs. 13999',\n",
       " 'Rs. 8399Rs. 11999(30% OFF)',\n",
       " 'Rs. 10999']"
      ]
     },
     "execution_count": 25,
     "metadata": {},
     "output_type": "execute_result"
    }
   ],
   "source": [
    "price[:100]"
   ]
  },
  {
   "cell_type": "markdown",
   "id": "ab6fcb87",
   "metadata": {},
   "source": [
    "# Data Framing"
   ]
  },
  {
   "cell_type": "code",
   "execution_count": 26,
   "id": "8fe8733b",
   "metadata": {},
   "outputs": [
    {
     "data": {
      "text/html": [
       "<div>\n",
       "<style scoped>\n",
       "    .dataframe tbody tr th:only-of-type {\n",
       "        vertical-align: middle;\n",
       "    }\n",
       "\n",
       "    .dataframe tbody tr th {\n",
       "        vertical-align: top;\n",
       "    }\n",
       "\n",
       "    .dataframe thead th {\n",
       "        text-align: right;\n",
       "    }\n",
       "</style>\n",
       "<table border=\"1\" class=\"dataframe\">\n",
       "  <thead>\n",
       "    <tr style=\"text-align: right;\">\n",
       "      <th></th>\n",
       "      <th>Brand</th>\n",
       "      <th>Short description</th>\n",
       "      <th>Price</th>\n",
       "    </tr>\n",
       "  </thead>\n",
       "  <tbody>\n",
       "    <tr>\n",
       "      <th>0</th>\n",
       "      <td>Puma</td>\n",
       "      <td>Men Running Shoes</td>\n",
       "      <td>Rs. 8449Rs. 12999(35% OFF)</td>\n",
       "    </tr>\n",
       "    <tr>\n",
       "      <th>1</th>\n",
       "      <td>Puma</td>\n",
       "      <td>Men Magnify Nitro Running</td>\n",
       "      <td>Rs. 8449Rs. 12999(35% OFF)</td>\n",
       "    </tr>\n",
       "    <tr>\n",
       "      <th>2</th>\n",
       "      <td>Hush Puppies</td>\n",
       "      <td>Men Solid Leather Formal Slip-Ons</td>\n",
       "      <td>Rs. 8999</td>\n",
       "    </tr>\n",
       "    <tr>\n",
       "      <th>3</th>\n",
       "      <td>Saint G</td>\n",
       "      <td>Men Mid-Top Chelsea Boots</td>\n",
       "      <td>Rs. 9810Rs. 10900(10% OFF)</td>\n",
       "    </tr>\n",
       "    <tr>\n",
       "      <th>4</th>\n",
       "      <td>RARE RABBIT</td>\n",
       "      <td>Men Leather Flat Boots</td>\n",
       "      <td>Rs. 7999Rs. 9999(20% OFF)</td>\n",
       "    </tr>\n",
       "    <tr>\n",
       "      <th>...</th>\n",
       "      <td>...</td>\n",
       "      <td>...</td>\n",
       "      <td>...</td>\n",
       "    </tr>\n",
       "    <tr>\n",
       "      <th>95</th>\n",
       "      <td>Cole Haan</td>\n",
       "      <td>Women Open Toe Flats</td>\n",
       "      <td>Rs. 11999</td>\n",
       "    </tr>\n",
       "    <tr>\n",
       "      <th>96</th>\n",
       "      <td>Geox</td>\n",
       "      <td>Women Solid Leather Ballerinas</td>\n",
       "      <td>Rs. 8999</td>\n",
       "    </tr>\n",
       "    <tr>\n",
       "      <th>97</th>\n",
       "      <td>Cole Haan</td>\n",
       "      <td>Women Solid Leather Ballerinas</td>\n",
       "      <td>Rs. 13999</td>\n",
       "    </tr>\n",
       "    <tr>\n",
       "      <th>98</th>\n",
       "      <td>Geox</td>\n",
       "      <td>Men Leather Formal Derbys</td>\n",
       "      <td>Rs. 8399Rs. 11999(30% OFF)</td>\n",
       "    </tr>\n",
       "    <tr>\n",
       "      <th>99</th>\n",
       "      <td>ROSSO BRUNELLO</td>\n",
       "      <td>Men Textured Formal Loafers</td>\n",
       "      <td>Rs. 10999</td>\n",
       "    </tr>\n",
       "  </tbody>\n",
       "</table>\n",
       "<p>100 rows × 3 columns</p>\n",
       "</div>"
      ],
      "text/plain": [
       "             Brand                  Short description  \\\n",
       "0             Puma                  Men Running Shoes   \n",
       "1             Puma          Men Magnify Nitro Running   \n",
       "2     Hush Puppies  Men Solid Leather Formal Slip-Ons   \n",
       "3          Saint G          Men Mid-Top Chelsea Boots   \n",
       "4      RARE RABBIT             Men Leather Flat Boots   \n",
       "..             ...                                ...   \n",
       "95       Cole Haan               Women Open Toe Flats   \n",
       "96            Geox     Women Solid Leather Ballerinas   \n",
       "97       Cole Haan     Women Solid Leather Ballerinas   \n",
       "98            Geox          Men Leather Formal Derbys   \n",
       "99  ROSSO BRUNELLO        Men Textured Formal Loafers   \n",
       "\n",
       "                         Price  \n",
       "0   Rs. 8449Rs. 12999(35% OFF)  \n",
       "1   Rs. 8449Rs. 12999(35% OFF)  \n",
       "2                     Rs. 8999  \n",
       "3   Rs. 9810Rs. 10900(10% OFF)  \n",
       "4    Rs. 7999Rs. 9999(20% OFF)  \n",
       "..                         ...  \n",
       "95                   Rs. 11999  \n",
       "96                    Rs. 8999  \n",
       "97                   Rs. 13999  \n",
       "98  Rs. 8399Rs. 11999(30% OFF)  \n",
       "99                   Rs. 10999  \n",
       "\n",
       "[100 rows x 3 columns]"
      ]
     },
     "execution_count": 26,
     "metadata": {},
     "output_type": "execute_result"
    }
   ],
   "source": [
    "#Creating data frame for scraped data\n",
    "shoes=pd.DataFrame({})\n",
    "shoes['Brand']=brand[:100]\n",
    "shoes['Short description']=description[:100]\n",
    "shoes['Price']=price[:100]\n",
    "shoes"
   ]
  },
  {
   "cell_type": "markdown",
   "id": "c5faf67b",
   "metadata": {},
   "source": [
    "# Go to webpage https://www.amazon.in/\n",
    "Scrape first 10 laptops data. You have to scrape\n",
    "\n",
    "1. title\n",
    "\n",
    "2. Ratings\n",
    "\n",
    "3. Price"
   ]
  },
  {
   "cell_type": "code",
   "execution_count": 64,
   "id": "9d902134",
   "metadata": {},
   "outputs": [],
   "source": [
    "driver = webdriver.Chrome('chromedriver.exe')"
   ]
  },
  {
   "cell_type": "code",
   "execution_count": 65,
   "id": "492ace5d",
   "metadata": {},
   "outputs": [],
   "source": [
    "url='https://www.amazon.in/'\n",
    "driver.get(url)"
   ]
  },
  {
   "cell_type": "code",
   "execution_count": 66,
   "id": "85a2c9c2",
   "metadata": {},
   "outputs": [
    {
     "data": {
      "text/plain": [
       "<selenium.webdriver.remote.webelement.WebElement (session=\"f80d7c622f2af4add7937991351e4b68\", element=\"7a4feffb-b98b-4791-971d-b6524f5ec912\")>"
      ]
     },
     "execution_count": 66,
     "metadata": {},
     "output_type": "execute_result"
    }
   ],
   "source": [
    "search_item=driver.find_element_by_xpath('/html/body/div[1]/header/div/div[1]/div[2]/div/form/div[2]/div[1]/input')\n",
    "search_item"
   ]
  },
  {
   "cell_type": "code",
   "execution_count": 67,
   "id": "1d660cb3",
   "metadata": {},
   "outputs": [],
   "source": [
    "search_item.send_keys('Laptop')"
   ]
  },
  {
   "cell_type": "code",
   "execution_count": 68,
   "id": "368e9541",
   "metadata": {},
   "outputs": [],
   "source": [
    "#Clicking on search button\n",
    "search_btn=driver.find_element_by_xpath('/html/body/div[1]/header/div/div[1]/div[2]/div/form/div[3]/div/span/input')\n",
    "search_btn.click()"
   ]
  },
  {
   "cell_type": "code",
   "execution_count": 69,
   "id": "7cbbc3ee",
   "metadata": {},
   "outputs": [],
   "source": [
    "#Adding cpu filters\n",
    "cpu_filter=driver.find_element_by_xpath('/html/body/div[1]/div[2]/div[1]/div[2]/div/div[3]/span/div[1]/span/div/div/div[6]/div/div/div[1]/h3/span')\n",
    "cpu_filter.click()\n",
    "time.sleep(2)"
   ]
  },
  {
   "cell_type": "code",
   "execution_count": 71,
   "id": "87f2d8cb",
   "metadata": {},
   "outputs": [],
   "source": [
    "# Setting CPU Type filter to \"Intel Core i7\"\n",
    "intel_i7 = driver.find_element_by_xpath(\"/html/body/div[1]/div[2]/div[1]/div[2]/div/div[3]/span/div[1]/span/div/div/div[6]/div/div/div[1]/div/span[1]/a[11]/div/span\")\n",
    "intel_i7.click()"
   ]
  },
  {
   "cell_type": "code",
   "execution_count": 72,
   "id": "0f20c2d7",
   "metadata": {},
   "outputs": [],
   "source": [
    "# Setting CPU Type filter to \"Intel Core i9\"\n",
    "intel_i9 = driver.find_element_by_xpath(\"/html/body/div[1]/div[2]/div[1]/div[2]/div/div[3]/span/div[1]/span/div/div/div[6]/div/div/div[1]/div/span[1]/a[12]/div/span\")\n",
    "intel_i9.click()"
   ]
  },
  {
   "cell_type": "code",
   "execution_count": 73,
   "id": "6d9783c0",
   "metadata": {},
   "outputs": [
    {
     "data": {
      "text/plain": [
       "['ASUS TUF Gaming F15 (2021), 15.6\" (39.62 cms) FHD 240Hz, Intel Core i9-11900H 11th Gen, GeForce RTX 3060 6GB Graphics, Gaming Laptop(16GB/1TB SSD/Office 2019/Windows 10/Gray/2.3 Kg), FX566HM-AZ096TS',\n",
       " 'ASUS TUF Gaming F15 (2021), 15.6-inch (39.62 cms) FHD 240Hz/3ms, Intel Core i9-11900H 11th Gen, RTX 3060 6GB Graphics Gaming Laptop (16GB/1TB SSD/Office 2019/Windows 10/Black/2.3 kg), FX506HM-AZ099TS',\n",
       " 'ASUS TUF Gaming F15 (2021), 15.6-inch (39.62 cms) FHD 144Hz, Intel Core i9-11900H 11th Gen, RTX 3060 6GB Graphics Gaming Laptop (16GB RAM/1TB SSD/Office 2019/Windows 10/Gray/2.3 kg), FX566HM-HN097TS',\n",
       " 'Lenovo Legion 7 10th Gen Intel Core i9 15.6 inch Full HD Gaming Laptop (16GB/1TB SSD/Windows 10/MS Office 2019/144 Hz/NVIDIA RTX 2080 8GB GDDR6 Graphics/Slate Grey/2.25Kg), 81YU006HIN',\n",
       " 'Dell Precision 5550 || i9 -10885H || 16GB || 1TB NVMe || T2000 4 GB || Win 10 Pro (Free Upgrade Win 11Pro) / 15.6 FHD+ / 3 Year ADP',\n",
       " 'ASUS ROG Strix Scar III G531GW 15.6\" FHD 240Hz Gaming Laptop RTX 2070 8GB Graphics (Core i9-9880H 9th Gen/32GB RAM/1TB PCIe SSD/Windows 10/Scar Gunmetal/2.57 Kg), G531GW-AZ113T',\n",
       " '(Renewed) Dell G7 7500 15.6inch FHD 300 Hz Display Gaming Laptop (10th Gen i9-10885H / 16 GB / 1TB SSD / NVIDIA RTX 2070 8GB Graphics / 1Yr Premium Warranty / Win 10 + MS Office H&S 2019) D560233WIN9B, Black',\n",
       " 'HP ZBOOK Power G8/ Intel core i9-11900H 8 Core/32GB DDR4 3200 RAM/1TB PCIe NVMe TLC SSD /15.6” FHD /Nvidia Quadro T1200 Dedicated Graphics 4GB DDR6 /Windows 10 Pro / 3 Year Warranty',\n",
       " 'Z2 G5 Workstation 700W /Core i9-10900 (2.8GHz 10C) /16GB RAM/512GB SSD+1TB SATA/Nvidia RTX 3070 8GB Graphics/DVDRW/Windows 10 Pro/3 Year Warranty',\n",
       " 'BZ MB WS ZB/Power G8/DSC i9-11900H/32GB/SSD1TB/NVQ A2000/400FHD/IR/Win10 Pro']"
      ]
     },
     "execution_count": 73,
     "metadata": {},
     "output_type": "execute_result"
    }
   ],
   "source": [
    "# Scraping data for laptop titles\n",
    "titles = driver.find_elements_by_xpath(\"//h2[@class='a-size-mini a-spacing-none a-color-base s-line-clamp-2']\")\n",
    "\n",
    "laptop_titles = []  #empty list\n",
    "for i in titles:\n",
    "        laptop_titles.append(i.text)\n",
    "laptop_titles =laptop_titles[:10]\n",
    "laptop_titles"
   ]
  },
  {
   "cell_type": "code",
   "execution_count": 74,
   "id": "0d26ef12",
   "metadata": {},
   "outputs": [
    {
     "data": {
      "text/plain": [
       "['1,44,990',\n",
       " '1,43,990',\n",
       " '1,39,990',\n",
       " '2,65,999',\n",
       " '2,00,000',\n",
       " '1,89,000',\n",
       " '2,25,000',\n",
       " '2,45,000',\n",
       " '2,39,000',\n",
       " '2,57,729']"
      ]
     },
     "execution_count": 74,
     "metadata": {},
     "output_type": "execute_result"
    }
   ],
   "source": [
    "# Scraping data for laptop price\n",
    "price = driver.find_elements_by_xpath(\"//span[@class='a-price-whole']\")\n",
    "\n",
    "laptop_price= []  #empty list\n",
    "for i in price:\n",
    "    laptop_price.append(i.text)\n",
    "laptop_price =laptop_price[:10]\n",
    "laptop_price"
   ]
  },
  {
   "cell_type": "code",
   "execution_count": 77,
   "id": "400b3c31",
   "metadata": {},
   "outputs": [],
   "source": [
    "#Fetching all the URLs\n",
    "url = driver.find_elements_by_xpath(\"//a[@class='a-link-normal a-text-normal']\")\n",
    "\n",
    "urls = []  #empty list\n",
    "for i in url[0:20]:\n",
    "    urls.append(i.get_attribute('href'))"
   ]
  },
  {
   "cell_type": "code",
   "execution_count": 78,
   "id": "ca0f191f",
   "metadata": {},
   "outputs": [
    {
     "data": {
      "text/plain": [
       "['4.1 out of 5',\n",
       " '-',\n",
       " '-',\n",
       " '4.4 out of 5',\n",
       " '4.4 out of 5',\n",
       " '4.1 out of 5',\n",
       " '4.1 out of 5',\n",
       " '4.4 out of 5',\n",
       " '4.4 out of 5',\n",
       " '4.2 out of 5']"
      ]
     },
     "execution_count": 78,
     "metadata": {},
     "output_type": "execute_result"
    }
   ],
   "source": [
    "# Scraping data for laptop ratings\n",
    "laptop_ratings= []  #empty list\n",
    "for i in urls:\n",
    "    driver.get(i)\n",
    "    try:\n",
    "        driver.find_element_by_xpath(\"//span[@id='acrCustomerReviewText']\").click()\n",
    "        ratings = driver.find_element_by_xpath(\"//span[@class='a-size-medium a-color-base']\")\n",
    "        laptop_ratings.append(ratings.text)\n",
    "    except NoSuchElementException as e :\n",
    "        laptop_ratings.append('-')\n",
    "laptop_ratings =laptop_ratings[:10]\n",
    "laptop_ratings"
   ]
  },
  {
   "cell_type": "code",
   "execution_count": 79,
   "id": "30449c37",
   "metadata": {},
   "outputs": [
    {
     "data": {
      "text/html": [
       "<div>\n",
       "<style scoped>\n",
       "    .dataframe tbody tr th:only-of-type {\n",
       "        vertical-align: middle;\n",
       "    }\n",
       "\n",
       "    .dataframe tbody tr th {\n",
       "        vertical-align: top;\n",
       "    }\n",
       "\n",
       "    .dataframe thead th {\n",
       "        text-align: right;\n",
       "    }\n",
       "</style>\n",
       "<table border=\"1\" class=\"dataframe\">\n",
       "  <thead>\n",
       "    <tr style=\"text-align: right;\">\n",
       "      <th></th>\n",
       "      <th>Laptop Title</th>\n",
       "      <th>Laptop Ratings</th>\n",
       "      <th>Laptop Price</th>\n",
       "    </tr>\n",
       "  </thead>\n",
       "  <tbody>\n",
       "    <tr>\n",
       "      <th>0</th>\n",
       "      <td>ASUS TUF Gaming F15 (2021), 15.6\" (39.62 cms) ...</td>\n",
       "      <td>4.1 out of 5</td>\n",
       "      <td>1,44,990</td>\n",
       "    </tr>\n",
       "    <tr>\n",
       "      <th>1</th>\n",
       "      <td>ASUS TUF Gaming F15 (2021), 15.6-inch (39.62 c...</td>\n",
       "      <td>-</td>\n",
       "      <td>1,43,990</td>\n",
       "    </tr>\n",
       "    <tr>\n",
       "      <th>2</th>\n",
       "      <td>ASUS TUF Gaming F15 (2021), 15.6-inch (39.62 c...</td>\n",
       "      <td>-</td>\n",
       "      <td>1,39,990</td>\n",
       "    </tr>\n",
       "    <tr>\n",
       "      <th>3</th>\n",
       "      <td>Lenovo Legion 7 10th Gen Intel Core i9 15.6 in...</td>\n",
       "      <td>4.4 out of 5</td>\n",
       "      <td>2,65,999</td>\n",
       "    </tr>\n",
       "    <tr>\n",
       "      <th>4</th>\n",
       "      <td>Dell Precision 5550 || i9 -10885H || 16GB || 1...</td>\n",
       "      <td>4.4 out of 5</td>\n",
       "      <td>2,00,000</td>\n",
       "    </tr>\n",
       "    <tr>\n",
       "      <th>5</th>\n",
       "      <td>ASUS ROG Strix Scar III G531GW 15.6\" FHD 240Hz...</td>\n",
       "      <td>4.1 out of 5</td>\n",
       "      <td>1,89,000</td>\n",
       "    </tr>\n",
       "    <tr>\n",
       "      <th>6</th>\n",
       "      <td>(Renewed) Dell G7 7500 15.6inch FHD 300 Hz Dis...</td>\n",
       "      <td>4.1 out of 5</td>\n",
       "      <td>2,25,000</td>\n",
       "    </tr>\n",
       "    <tr>\n",
       "      <th>7</th>\n",
       "      <td>HP ZBOOK Power G8/ Intel core i9-11900H 8 Core...</td>\n",
       "      <td>4.4 out of 5</td>\n",
       "      <td>2,45,000</td>\n",
       "    </tr>\n",
       "    <tr>\n",
       "      <th>8</th>\n",
       "      <td>Z2 G5 Workstation 700W /Core i9-10900 (2.8GHz ...</td>\n",
       "      <td>4.4 out of 5</td>\n",
       "      <td>2,39,000</td>\n",
       "    </tr>\n",
       "    <tr>\n",
       "      <th>9</th>\n",
       "      <td>BZ MB WS ZB/Power G8/DSC i9-11900H/32GB/SSD1TB...</td>\n",
       "      <td>4.2 out of 5</td>\n",
       "      <td>2,57,729</td>\n",
       "    </tr>\n",
       "  </tbody>\n",
       "</table>\n",
       "</div>"
      ],
      "text/plain": [
       "                                        Laptop Title Laptop Ratings  \\\n",
       "0  ASUS TUF Gaming F15 (2021), 15.6\" (39.62 cms) ...   4.1 out of 5   \n",
       "1  ASUS TUF Gaming F15 (2021), 15.6-inch (39.62 c...              -   \n",
       "2  ASUS TUF Gaming F15 (2021), 15.6-inch (39.62 c...              -   \n",
       "3  Lenovo Legion 7 10th Gen Intel Core i9 15.6 in...   4.4 out of 5   \n",
       "4  Dell Precision 5550 || i9 -10885H || 16GB || 1...   4.4 out of 5   \n",
       "5  ASUS ROG Strix Scar III G531GW 15.6\" FHD 240Hz...   4.1 out of 5   \n",
       "6  (Renewed) Dell G7 7500 15.6inch FHD 300 Hz Dis...   4.1 out of 5   \n",
       "7  HP ZBOOK Power G8/ Intel core i9-11900H 8 Core...   4.4 out of 5   \n",
       "8  Z2 G5 Workstation 700W /Core i9-10900 (2.8GHz ...   4.4 out of 5   \n",
       "9  BZ MB WS ZB/Power G8/DSC i9-11900H/32GB/SSD1TB...   4.2 out of 5   \n",
       "\n",
       "  Laptop Price  \n",
       "0     1,44,990  \n",
       "1     1,43,990  \n",
       "2     1,39,990  \n",
       "3     2,65,999  \n",
       "4     2,00,000  \n",
       "5     1,89,000  \n",
       "6     2,25,000  \n",
       "7     2,45,000  \n",
       "8     2,39,000  \n",
       "9     2,57,729  "
      ]
     },
     "execution_count": 79,
     "metadata": {},
     "output_type": "execute_result"
    }
   ],
   "source": [
    "# Creating DataFrame for the scraped data\n",
    "laptops = pd.DataFrame({})\n",
    "laptops[\"Laptop Title\"] = laptop_titles\n",
    "laptops[\"Laptop Ratings\"] = laptop_ratings\n",
    "laptops[\"Laptop Price\"] = laptop_price\n",
    "laptops"
   ]
  },
  {
   "cell_type": "markdown",
   "id": "c9131905",
   "metadata": {},
   "source": [
    "# Q9: Write a python program to scrape data for first 10 job results for Data scientist Designation in Noida location. You have to scrape company_name, No. of days ago when job was posted, Rating of the company."
   ]
  },
  {
   "cell_type": "code",
   "execution_count": 8,
   "id": "4185f932",
   "metadata": {},
   "outputs": [],
   "source": [
    "driver=webdriver.Chrome('chromedriver.exe')"
   ]
  },
  {
   "cell_type": "code",
   "execution_count": 9,
   "id": "b09170f3",
   "metadata": {},
   "outputs": [],
   "source": [
    "url='http://www.ambitionbox.com/'\n",
    "driver.get(url)"
   ]
  },
  {
   "cell_type": "code",
   "execution_count": 10,
   "id": "a23af684",
   "metadata": {},
   "outputs": [],
   "source": [
    "#finding web element for search bar\n",
    "search_job_element = driver.find_element_by_xpath('/html/body/div[1]/nav/nav/a[6]')\n",
    "search_job_element.click()"
   ]
  },
  {
   "cell_type": "code",
   "execution_count": 11,
   "id": "5607b9bb",
   "metadata": {},
   "outputs": [],
   "source": [
    "#clicking on job header\n",
    "search_job=driver.find_element_by_xpath('/html/body/div/div/div/div[2]/div[1]/div/div/div/div/span/input')"
   ]
  },
  {
   "cell_type": "code",
   "execution_count": 12,
   "id": "5e50d147",
   "metadata": {},
   "outputs": [
    {
     "data": {
      "text/plain": [
       "<selenium.webdriver.remote.webelement.WebElement (session=\"151ca1bec2d01947b1ac6f057545695d\", element=\"6d430f4f-6d59-4af9-803f-37fdf5706982\")>"
      ]
     },
     "execution_count": 12,
     "metadata": {},
     "output_type": "execute_result"
    }
   ],
   "source": [
    "search_job_title=driver.find_element_by_xpath('/html/body/div/div/div/div[2]/div[1]/div/div/div/div/span/input')\n",
    "search_job_title"
   ]
  },
  {
   "cell_type": "code",
   "execution_count": 13,
   "id": "17e0215f",
   "metadata": {},
   "outputs": [],
   "source": [
    "search_job.send_keys(\"Data Scientist\")"
   ]
  },
  {
   "cell_type": "code",
   "execution_count": 16,
   "id": "d3dea016",
   "metadata": {},
   "outputs": [],
   "source": [
    "search_btn=driver.find_element_by_xpath('/html/body/div/div/div/div[2]/div[1]/div/div/div/button/span')\n",
    "search_btn.click()"
   ]
  },
  {
   "cell_type": "code",
   "execution_count": 23,
   "id": "1f0cf165",
   "metadata": {},
   "outputs": [
    {
     "data": {
      "text/plain": [
       "<selenium.webdriver.remote.webelement.WebElement (session=\"151ca1bec2d01947b1ac6f057545695d\", element=\"abde428a-9951-4408-90ac-0ccc0753fc19\")>"
      ]
     },
     "execution_count": 23,
     "metadata": {},
     "output_type": "execute_result"
    }
   ],
   "source": [
    "search_locn=driver.find_element_by_xpath('/html/body/div/div/div/div[2]/div[2]/div[1]/div/div/div/div[2]/div[2]/div/div[2]/input')\n",
    "search_locn"
   ]
  },
  {
   "cell_type": "code",
   "execution_count": 24,
   "id": "201d8d29",
   "metadata": {},
   "outputs": [],
   "source": [
    "#finding web element for search location bar using absolute xpath\n",
    "search_locn.send_keys(\"Noida\")"
   ]
  },
  {
   "cell_type": "code",
   "execution_count": 25,
   "id": "9ee04130",
   "metadata": {},
   "outputs": [
    {
     "data": {
      "text/plain": [
       "<selenium.webdriver.remote.webelement.WebElement (session=\"151ca1bec2d01947b1ac6f057545695d\", element=\"226d2604-9a38-4d82-9844-b07b567c57d0\")>"
      ]
     },
     "execution_count": 25,
     "metadata": {},
     "output_type": "execute_result"
    }
   ],
   "source": [
    "search_btn=driver.find_element_by_xpath('/html/body/div/div/div/div[2]/div[2]/div[1]/div/div/div/div[2]/div[2]/div/div[3]/div[1]/div[1]/div/label')\n",
    "search_btn"
   ]
  },
  {
   "cell_type": "code",
   "execution_count": 26,
   "id": "ca0fe2c8",
   "metadata": {},
   "outputs": [],
   "source": [
    "#clicking using absolute xpath\n",
    "search_btn.click()"
   ]
  },
  {
   "cell_type": "code",
   "execution_count": 27,
   "id": "1a06ccca",
   "metadata": {},
   "outputs": [
    {
     "data": {
      "text/plain": [
       "[<selenium.webdriver.remote.webelement.WebElement (session=\"151ca1bec2d01947b1ac6f057545695d\", element=\"94677c40-b4ca-4a26-bfd6-de9044fa660b\")>,\n",
       " <selenium.webdriver.remote.webelement.WebElement (session=\"151ca1bec2d01947b1ac6f057545695d\", element=\"74c1110d-4ccf-447b-8f43-a93eef14ae41\")>,\n",
       " <selenium.webdriver.remote.webelement.WebElement (session=\"151ca1bec2d01947b1ac6f057545695d\", element=\"2af17bb4-4a94-4475-bb15-0418786a56fc\")>,\n",
       " <selenium.webdriver.remote.webelement.WebElement (session=\"151ca1bec2d01947b1ac6f057545695d\", element=\"be0850e6-a7b1-4184-973e-3612a553afcb\")>,\n",
       " <selenium.webdriver.remote.webelement.WebElement (session=\"151ca1bec2d01947b1ac6f057545695d\", element=\"94d5eef3-e95c-4da3-ae34-3a9956767582\")>,\n",
       " <selenium.webdriver.remote.webelement.WebElement (session=\"151ca1bec2d01947b1ac6f057545695d\", element=\"6d841e4f-58a2-4f62-a6d8-ddc25e109c9c\")>,\n",
       " <selenium.webdriver.remote.webelement.WebElement (session=\"151ca1bec2d01947b1ac6f057545695d\", element=\"8d3cdb78-4c0b-4fbd-969c-ba37eaec6699\")>,\n",
       " <selenium.webdriver.remote.webelement.WebElement (session=\"151ca1bec2d01947b1ac6f057545695d\", element=\"9476c425-dcb9-4374-8806-e887c430e7dc\")>,\n",
       " <selenium.webdriver.remote.webelement.WebElement (session=\"151ca1bec2d01947b1ac6f057545695d\", element=\"b6c8a1d7-8158-42b8-ac41-30e7bf1463c9\")>,\n",
       " <selenium.webdriver.remote.webelement.WebElement (session=\"151ca1bec2d01947b1ac6f057545695d\", element=\"a9a33f7a-6d18-4ffc-9709-7b7b4cf9052a\")>]"
      ]
     },
     "execution_count": 27,
     "metadata": {},
     "output_type": "execute_result"
    }
   ],
   "source": [
    "#lets extract the required web element having company titles\n",
    "company_tags=driver.find_elements_by_xpath('//p[@class=\"company body-medium\"]')\n",
    "company_tags[:10]"
   ]
  },
  {
   "cell_type": "code",
   "execution_count": 61,
   "id": "890fc28f",
   "metadata": {},
   "outputs": [
    {
     "data": {
      "text/plain": [
       "['Nokia Solutions and Networks India (P)Ltd.',\n",
       " 'Paytm',\n",
       " 'Jubilant Foodworks Limited',\n",
       " 'CHT Sapiense',\n",
       " 'CHT Sapiense',\n",
       " 'GI Group',\n",
       " 'GI Group',\n",
       " 'GI Group',\n",
       " 'RMS Risk Management Solutions',\n",
       " 'Paytm']"
      ]
     },
     "execution_count": 61,
     "metadata": {},
     "output_type": "execute_result"
    }
   ],
   "source": [
    "company_names=[]\n",
    "for i in company_tags:\n",
    "    company_names.append(i.text)\n",
    "company_names=company_names[:10]\n",
    "company_names"
   ]
  },
  {
   "cell_type": "code",
   "execution_count": 33,
   "id": "e0249d72",
   "metadata": {},
   "outputs": [
    {
     "data": {
      "text/plain": [
       "[<selenium.webdriver.remote.webelement.WebElement (session=\"151ca1bec2d01947b1ac6f057545695d\", element=\"7e8e4118-a401-4ada-9af4-16446c0a2ac5\")>,\n",
       " <selenium.webdriver.remote.webelement.WebElement (session=\"151ca1bec2d01947b1ac6f057545695d\", element=\"51fbeedd-876e-40f5-9b08-c74e2af9da36\")>,\n",
       " <selenium.webdriver.remote.webelement.WebElement (session=\"151ca1bec2d01947b1ac6f057545695d\", element=\"ef4cb0ab-a565-4010-870e-b3a17d4c7fe4\")>,\n",
       " <selenium.webdriver.remote.webelement.WebElement (session=\"151ca1bec2d01947b1ac6f057545695d\", element=\"1a359d71-65bb-4360-bb33-e3c2b73f3c5f\")>,\n",
       " <selenium.webdriver.remote.webelement.WebElement (session=\"151ca1bec2d01947b1ac6f057545695d\", element=\"3876b69f-1c5b-4627-a2ff-66cc9d22088a\")>,\n",
       " <selenium.webdriver.remote.webelement.WebElement (session=\"151ca1bec2d01947b1ac6f057545695d\", element=\"75419b5d-6044-4318-a89f-d5c94b06e74e\")>,\n",
       " <selenium.webdriver.remote.webelement.WebElement (session=\"151ca1bec2d01947b1ac6f057545695d\", element=\"13ce570a-912c-4aea-8dad-ae9b723e68ef\")>,\n",
       " <selenium.webdriver.remote.webelement.WebElement (session=\"151ca1bec2d01947b1ac6f057545695d\", element=\"593adf84-b0da-4a5a-aac7-ce934343b60c\")>,\n",
       " <selenium.webdriver.remote.webelement.WebElement (session=\"151ca1bec2d01947b1ac6f057545695d\", element=\"1e218d81-f9c3-4343-9919-2630682e385a\")>,\n",
       " <selenium.webdriver.remote.webelement.WebElement (session=\"151ca1bec2d01947b1ac6f057545695d\", element=\"91800a03-4d8e-4e36-801c-7354988b1f67\")>]"
      ]
     },
     "execution_count": 33,
     "metadata": {},
     "output_type": "execute_result"
    }
   ],
   "source": [
    "#scraping data for No. of days ago when the post was posted.\n",
    "days_ago=driver.find_elements_by_xpath('//span[@class=\"body-small-l\"]')\n",
    "days_ago[:10]"
   ]
  },
  {
   "cell_type": "code",
   "execution_count": 36,
   "id": "6fa9aed5",
   "metadata": {},
   "outputs": [
    {
     "data": {
      "text/plain": [
       "['12d ago',\n",
       " '6d ago',\n",
       " '23d ago',\n",
       " '7d ago',\n",
       " '8d ago',\n",
       " '19d ago',\n",
       " '19d ago',\n",
       " '19d ago',\n",
       " '1d ago',\n",
       " '27d ago']"
      ]
     },
     "execution_count": 36,
     "metadata": {},
     "output_type": "execute_result"
    }
   ],
   "source": [
    "job_posted=[]\n",
    "for i in range(0,len(days_ago),2):\n",
    "    job_posted.append(days_ago[i].text)\n",
    "job_posted=job_posted[:10]\n",
    "job_posted"
   ]
  },
  {
   "cell_type": "code",
   "execution_count": 56,
   "id": "ab50e915",
   "metadata": {},
   "outputs": [
    {
     "data": {
      "text/plain": [
       "[<selenium.webdriver.remote.webelement.WebElement (session=\"151ca1bec2d01947b1ac6f057545695d\", element=\"fa85cd69-6a8f-4031-ac34-5398411654e1\")>,\n",
       " <selenium.webdriver.remote.webelement.WebElement (session=\"151ca1bec2d01947b1ac6f057545695d\", element=\"100f9a6e-390f-49d4-8578-ffe41e00d3f7\")>,\n",
       " <selenium.webdriver.remote.webelement.WebElement (session=\"151ca1bec2d01947b1ac6f057545695d\", element=\"74d42aab-8c3e-48d2-a73c-458532c09b60\")>,\n",
       " <selenium.webdriver.remote.webelement.WebElement (session=\"151ca1bec2d01947b1ac6f057545695d\", element=\"91449243-f251-4e64-8903-666ed4f03b6b\")>,\n",
       " <selenium.webdriver.remote.webelement.WebElement (session=\"151ca1bec2d01947b1ac6f057545695d\", element=\"6d3f5b60-e598-4cec-a749-a4e0391ffeb8\")>,\n",
       " <selenium.webdriver.remote.webelement.WebElement (session=\"151ca1bec2d01947b1ac6f057545695d\", element=\"69831b9c-2cd5-4f04-9bd1-ff85dcd4c120\")>,\n",
       " <selenium.webdriver.remote.webelement.WebElement (session=\"151ca1bec2d01947b1ac6f057545695d\", element=\"f03d674c-45a0-46f3-a2ca-36bbe42a6a73\")>,\n",
       " <selenium.webdriver.remote.webelement.WebElement (session=\"151ca1bec2d01947b1ac6f057545695d\", element=\"c7020a27-4c52-4dac-8cec-346048e1310b\")>,\n",
       " <selenium.webdriver.remote.webelement.WebElement (session=\"151ca1bec2d01947b1ac6f057545695d\", element=\"cc786f74-232b-45e5-822b-a783f253a80d\")>,\n",
       " <selenium.webdriver.remote.webelement.WebElement (session=\"151ca1bec2d01947b1ac6f057545695d\", element=\"12b1b308-b750-49e7-a362-3a14c560a597\")>]"
      ]
     },
     "execution_count": 56,
     "metadata": {},
     "output_type": "execute_result"
    }
   ],
   "source": [
    "rating_titles=driver.find_elements_by_xpath('//div[@class=\"rating-wrapper\"]/a')\n",
    "rating_titles[:10]"
   ]
  },
  {
   "cell_type": "code",
   "execution_count": 59,
   "id": "c5341794",
   "metadata": {},
   "outputs": [
    {
     "data": {
      "text/plain": [
       "['4.3', '4.3', '3.7', '3.9', '3.7', '3.7', '4.1', '4.1', '4.1', '3.5']"
      ]
     },
     "execution_count": 59,
     "metadata": {},
     "output_type": "execute_result"
    }
   ],
   "source": [
    "ratings=[]\n",
    "for i in range(0,len(rating_titles),2):\n",
    "    ratings.append(rating_titles[i].text)\n",
    "ratings=ratings[:10]\n",
    "ratings"
   ]
  },
  {
   "cell_type": "markdown",
   "id": "b8e343c0",
   "metadata": {},
   "source": [
    "# Data Frame"
   ]
  },
  {
   "cell_type": "code",
   "execution_count": 64,
   "id": "e74c3f06",
   "metadata": {},
   "outputs": [
    {
     "data": {
      "text/html": [
       "<div>\n",
       "<style scoped>\n",
       "    .dataframe tbody tr th:only-of-type {\n",
       "        vertical-align: middle;\n",
       "    }\n",
       "\n",
       "    .dataframe tbody tr th {\n",
       "        vertical-align: top;\n",
       "    }\n",
       "\n",
       "    .dataframe thead th {\n",
       "        text-align: right;\n",
       "    }\n",
       "</style>\n",
       "<table border=\"1\" class=\"dataframe\">\n",
       "  <thead>\n",
       "    <tr style=\"text-align: right;\">\n",
       "      <th></th>\n",
       "      <th>Company Name</th>\n",
       "      <th>Job posted</th>\n",
       "      <th>Ratings</th>\n",
       "    </tr>\n",
       "  </thead>\n",
       "  <tbody>\n",
       "    <tr>\n",
       "      <th>0</th>\n",
       "      <td>Nokia Solutions and Networks India (P)Ltd.</td>\n",
       "      <td>12d ago</td>\n",
       "      <td>4.3</td>\n",
       "    </tr>\n",
       "    <tr>\n",
       "      <th>1</th>\n",
       "      <td>Paytm</td>\n",
       "      <td>6d ago</td>\n",
       "      <td>4.3</td>\n",
       "    </tr>\n",
       "    <tr>\n",
       "      <th>2</th>\n",
       "      <td>Jubilant Foodworks Limited</td>\n",
       "      <td>23d ago</td>\n",
       "      <td>3.7</td>\n",
       "    </tr>\n",
       "    <tr>\n",
       "      <th>3</th>\n",
       "      <td>CHT Sapiense</td>\n",
       "      <td>7d ago</td>\n",
       "      <td>3.9</td>\n",
       "    </tr>\n",
       "    <tr>\n",
       "      <th>4</th>\n",
       "      <td>CHT Sapiense</td>\n",
       "      <td>8d ago</td>\n",
       "      <td>3.7</td>\n",
       "    </tr>\n",
       "    <tr>\n",
       "      <th>5</th>\n",
       "      <td>GI Group</td>\n",
       "      <td>19d ago</td>\n",
       "      <td>3.7</td>\n",
       "    </tr>\n",
       "    <tr>\n",
       "      <th>6</th>\n",
       "      <td>GI Group</td>\n",
       "      <td>19d ago</td>\n",
       "      <td>4.1</td>\n",
       "    </tr>\n",
       "    <tr>\n",
       "      <th>7</th>\n",
       "      <td>GI Group</td>\n",
       "      <td>19d ago</td>\n",
       "      <td>4.1</td>\n",
       "    </tr>\n",
       "    <tr>\n",
       "      <th>8</th>\n",
       "      <td>RMS Risk Management Solutions</td>\n",
       "      <td>1d ago</td>\n",
       "      <td>4.1</td>\n",
       "    </tr>\n",
       "    <tr>\n",
       "      <th>9</th>\n",
       "      <td>Paytm</td>\n",
       "      <td>27d ago</td>\n",
       "      <td>3.5</td>\n",
       "    </tr>\n",
       "  </tbody>\n",
       "</table>\n",
       "</div>"
      ],
      "text/plain": [
       "                                 Company Name Job posted Ratings\n",
       "0  Nokia Solutions and Networks India (P)Ltd.    12d ago     4.3\n",
       "1                                       Paytm     6d ago     4.3\n",
       "2                  Jubilant Foodworks Limited    23d ago     3.7\n",
       "3                                CHT Sapiense     7d ago     3.9\n",
       "4                                CHT Sapiense     8d ago     3.7\n",
       "5                                    GI Group    19d ago     3.7\n",
       "6                                    GI Group    19d ago     4.1\n",
       "7                                    GI Group    19d ago     4.1\n",
       "8               RMS Risk Management Solutions     1d ago     4.1\n",
       "9                                       Paytm    27d ago     3.5"
      ]
     },
     "execution_count": 64,
     "metadata": {},
     "output_type": "execute_result"
    }
   ],
   "source": [
    "Noida_jobs=pd.DataFrame()\n",
    "Noida_jobs['Company Name']=company_names\n",
    "Noida_jobs['Job posted']=job_posted\n",
    "Noida_jobs['Ratings']=ratings\n",
    "Noida_jobs"
   ]
  },
  {
   "cell_type": "markdown",
   "id": "674dcd29",
   "metadata": {},
   "source": [
    "# Q10: Write a python program to scrape the salary data for Data Scientist designation.\n",
    "You have to scrape Company name, Number of salaries, Average salary, Minsalary, Max Salary."
   ]
  },
  {
   "cell_type": "code",
   "execution_count": 1,
   "id": "5f6f6a91",
   "metadata": {},
   "outputs": [],
   "source": [
    "import selenium\n",
    "from selenium import webdriver\n",
    "import pandas as pd\n",
    "import warnings\n",
    "warnings.filterwarnings('ignore')"
   ]
  },
  {
   "cell_type": "code",
   "execution_count": 2,
   "id": "6de64afc",
   "metadata": {},
   "outputs": [],
   "source": [
    "driver=webdriver.Chrome('chromedriver.exe')"
   ]
  },
  {
   "cell_type": "code",
   "execution_count": 3,
   "id": "59b92ec9",
   "metadata": {},
   "outputs": [],
   "source": [
    "url='http://www.ambitionbox.com/'\n",
    "driver.get(url)"
   ]
  },
  {
   "cell_type": "code",
   "execution_count": 4,
   "id": "32e82897",
   "metadata": {},
   "outputs": [],
   "source": [
    "salary_link=driver.find_element_by_xpath('/html/body/div[1]/nav/nav/a[4]')\n",
    "salary_link.click()"
   ]
  },
  {
   "cell_type": "code",
   "execution_count": 5,
   "id": "aacfd7b0",
   "metadata": {},
   "outputs": [
    {
     "data": {
      "text/plain": [
       "<selenium.webdriver.remote.webelement.WebElement (session=\"979a4e52ade1ec279da93c56db739dce\", element=\"138e042f-1d19-4748-8898-1f4d8fc485af\")>"
      ]
     },
     "execution_count": 5,
     "metadata": {},
     "output_type": "execute_result"
    }
   ],
   "source": [
    "#finding web element for job search\n",
    "job_search=driver.find_element_by_xpath('/html/body/div/div/div/main/section[1]/div[2]/div[1]/span/input')\n",
    "job_search"
   ]
  },
  {
   "cell_type": "code",
   "execution_count": 6,
   "id": "c55a9f91",
   "metadata": {},
   "outputs": [],
   "source": [
    "job_search.send_keys(\"Data Scientist\")"
   ]
  },
  {
   "cell_type": "code",
   "execution_count": 7,
   "id": "a23497fe",
   "metadata": {},
   "outputs": [],
   "source": [
    "#searching the job title\n",
    "Title_search=driver.find_element_by_xpath('/html/body/div/div/div/main/section[1]/div[2]/div[1]/i[1]')\n",
    "Title_search.click()"
   ]
  },
  {
   "cell_type": "markdown",
   "id": "c1e30ce3",
   "metadata": {},
   "source": [
    "# Extracting company Names¶"
   ]
  },
  {
   "cell_type": "code",
   "execution_count": 25,
   "id": "81e03e3b",
   "metadata": {},
   "outputs": [
    {
     "data": {
      "text/plain": [
       "[<selenium.webdriver.remote.webelement.WebElement (session=\"979a4e52ade1ec279da93c56db739dce\", element=\"22cbbb3f-e81b-492e-8e60-45b83830d649\")>,\n",
       " <selenium.webdriver.remote.webelement.WebElement (session=\"979a4e52ade1ec279da93c56db739dce\", element=\"04bb7399-e9a1-47fc-a232-bfc2e37ad1b1\")>,\n",
       " <selenium.webdriver.remote.webelement.WebElement (session=\"979a4e52ade1ec279da93c56db739dce\", element=\"f8c1de77-95f6-4ef0-8a79-f8bd5759a37d\")>,\n",
       " <selenium.webdriver.remote.webelement.WebElement (session=\"979a4e52ade1ec279da93c56db739dce\", element=\"c38afaf9-09c7-412d-8e3e-64d9c02b83f2\")>,\n",
       " <selenium.webdriver.remote.webelement.WebElement (session=\"979a4e52ade1ec279da93c56db739dce\", element=\"da35076f-447f-4efc-b35e-3e4e092e3d13\")>,\n",
       " <selenium.webdriver.remote.webelement.WebElement (session=\"979a4e52ade1ec279da93c56db739dce\", element=\"61905b38-4861-4327-a3dd-6c4dcf660af4\")>,\n",
       " <selenium.webdriver.remote.webelement.WebElement (session=\"979a4e52ade1ec279da93c56db739dce\", element=\"a0184b30-16fc-47e7-b0d3-7d1655f0877a\")>,\n",
       " <selenium.webdriver.remote.webelement.WebElement (session=\"979a4e52ade1ec279da93c56db739dce\", element=\"bb3ad15e-98c5-408e-b83c-01c43f8bf037\")>,\n",
       " <selenium.webdriver.remote.webelement.WebElement (session=\"979a4e52ade1ec279da93c56db739dce\", element=\"1c33b802-2557-4b31-a6dc-04014e8f6ad5\")>,\n",
       " <selenium.webdriver.remote.webelement.WebElement (session=\"979a4e52ade1ec279da93c56db739dce\", element=\"091d7368-9583-4c6d-a06e-a84817e7ba96\")>]"
      ]
     },
     "execution_count": 25,
     "metadata": {},
     "output_type": "execute_result"
    }
   ],
   "source": [
    "company_tags=driver.find_elements_by_xpath('//div[@class=\"name\"]/a')\n",
    "company_tags"
   ]
  },
  {
   "cell_type": "code",
   "execution_count": 26,
   "id": "d2e197d3",
   "metadata": {},
   "outputs": [
    {
     "data": {
      "text/plain": [
       "['Tekion',\n",
       " 'Microsoft Corporation',\n",
       " 'Goldman Sachs',\n",
       " 'Flipkart',\n",
       " 'Amazon',\n",
       " 'Arcesium',\n",
       " 'PayPal',\n",
       " 'Servicenow Software Development India',\n",
       " 'Walmart',\n",
       " 'ServiceNow']"
      ]
     },
     "execution_count": 26,
     "metadata": {},
     "output_type": "execute_result"
    }
   ],
   "source": [
    "company_names=[]\n",
    "for i in company_tags:\n",
    "    company_names.append(i.text)\n",
    "company_names=company_names[:10]\n",
    "company_names"
   ]
  },
  {
   "cell_type": "markdown",
   "id": "8e0ada53",
   "metadata": {},
   "source": [
    "# Extracting Total salary record"
   ]
  },
  {
   "cell_type": "code",
   "execution_count": 27,
   "id": "935d9c7b",
   "metadata": {},
   "outputs": [
    {
     "data": {
      "text/plain": [
       "[<selenium.webdriver.remote.webelement.WebElement (session=\"979a4e52ade1ec279da93c56db739dce\", element=\"531b5237-120c-44b2-b4d7-fba497421fe4\")>,\n",
       " <selenium.webdriver.remote.webelement.WebElement (session=\"979a4e52ade1ec279da93c56db739dce\", element=\"0b582d9b-d750-4da9-8f7e-f8a3686fb37d\")>,\n",
       " <selenium.webdriver.remote.webelement.WebElement (session=\"979a4e52ade1ec279da93c56db739dce\", element=\"1035d4f9-1de2-40c8-9623-75c248b78ed8\")>,\n",
       " <selenium.webdriver.remote.webelement.WebElement (session=\"979a4e52ade1ec279da93c56db739dce\", element=\"00f6e694-75df-4656-aa98-dbacb13b3e84\")>,\n",
       " <selenium.webdriver.remote.webelement.WebElement (session=\"979a4e52ade1ec279da93c56db739dce\", element=\"83ee791c-1a35-4dce-b9a9-0b01136391fa\")>,\n",
       " <selenium.webdriver.remote.webelement.WebElement (session=\"979a4e52ade1ec279da93c56db739dce\", element=\"9bf88ae6-e32e-46ac-9d42-bf138915cc13\")>,\n",
       " <selenium.webdriver.remote.webelement.WebElement (session=\"979a4e52ade1ec279da93c56db739dce\", element=\"411383e6-c152-406f-b0c7-edb386ac573f\")>,\n",
       " <selenium.webdriver.remote.webelement.WebElement (session=\"979a4e52ade1ec279da93c56db739dce\", element=\"692cac2a-caf5-4216-95a4-fb0fafbee27d\")>,\n",
       " <selenium.webdriver.remote.webelement.WebElement (session=\"979a4e52ade1ec279da93c56db739dce\", element=\"2305751e-9fb2-4d82-80e3-bd72382910c7\")>,\n",
       " <selenium.webdriver.remote.webelement.WebElement (session=\"979a4e52ade1ec279da93c56db739dce\", element=\"cf031b0b-bacc-4f5f-80d4-980e57b51949\")>]"
      ]
     },
     "execution_count": 27,
     "metadata": {},
     "output_type": "execute_result"
    }
   ],
   "source": [
    "tot_salary=driver.find_elements_by_xpath('//div[@class=\"company-info\"]//span')\n",
    "tot_salary[:10]"
   ]
  },
  {
   "cell_type": "code",
   "execution_count": 28,
   "id": "d03b72e3",
   "metadata": {},
   "outputs": [
    {
     "data": {
      "text/plain": [
       "['based on 10 salaries',\n",
       " 'based on 224 salaries',\n",
       " 'based on 11 salaries',\n",
       " 'based on 54 salaries',\n",
       " 'based on 85 salaries',\n",
       " 'based on 37 salaries',\n",
       " 'based on 12 salaries',\n",
       " 'based on 27 salaries',\n",
       " 'based on 79 salaries',\n",
       " 'based on 16 salaries']"
      ]
     },
     "execution_count": 28,
     "metadata": {},
     "output_type": "execute_result"
    }
   ],
   "source": [
    "Total_salary=[]\n",
    "for i in range(0,len(tot_salary),2):\n",
    "    Total_salary.append(tot_salary[i].text)\n",
    "Total_salary=Total_salary[:10]\n",
    "Total_salary"
   ]
  },
  {
   "cell_type": "markdown",
   "id": "524eec30",
   "metadata": {},
   "source": [
    "# Extracting the Avg salary"
   ]
  },
  {
   "cell_type": "code",
   "execution_count": 29,
   "id": "0cfc27d7",
   "metadata": {},
   "outputs": [
    {
     "data": {
      "text/plain": [
       "[<selenium.webdriver.remote.webelement.WebElement (session=\"979a4e52ade1ec279da93c56db739dce\", element=\"778d878b-18c9-404b-871a-002e7577860a\")>,\n",
       " <selenium.webdriver.remote.webelement.WebElement (session=\"979a4e52ade1ec279da93c56db739dce\", element=\"d21f5cef-a00b-4e49-b909-ee8fc9008a40\")>,\n",
       " <selenium.webdriver.remote.webelement.WebElement (session=\"979a4e52ade1ec279da93c56db739dce\", element=\"dd3ff677-c88e-445a-94ec-4396112e0724\")>,\n",
       " <selenium.webdriver.remote.webelement.WebElement (session=\"979a4e52ade1ec279da93c56db739dce\", element=\"6d0216d3-6acc-449a-a43a-85295005f7f2\")>,\n",
       " <selenium.webdriver.remote.webelement.WebElement (session=\"979a4e52ade1ec279da93c56db739dce\", element=\"9ec3ff83-a0a0-476d-bc7a-6d1197dc5499\")>,\n",
       " <selenium.webdriver.remote.webelement.WebElement (session=\"979a4e52ade1ec279da93c56db739dce\", element=\"aece938b-01d2-4b72-9768-26625db28dcc\")>,\n",
       " <selenium.webdriver.remote.webelement.WebElement (session=\"979a4e52ade1ec279da93c56db739dce\", element=\"bd6112be-f40e-45d2-b69c-cc3fcb3eb74e\")>,\n",
       " <selenium.webdriver.remote.webelement.WebElement (session=\"979a4e52ade1ec279da93c56db739dce\", element=\"d38830c8-c667-4345-8ce3-a5d6c291a9a5\")>,\n",
       " <selenium.webdriver.remote.webelement.WebElement (session=\"979a4e52ade1ec279da93c56db739dce\", element=\"19c4048a-2402-4f93-bd5b-334103e510a6\")>,\n",
       " <selenium.webdriver.remote.webelement.WebElement (session=\"979a4e52ade1ec279da93c56db739dce\", element=\"dec46345-dac3-4ddc-adee-68cddc74b15c\")>]"
      ]
     },
     "execution_count": 29,
     "metadata": {},
     "output_type": "execute_result"
    }
   ],
   "source": [
    "avg_salary=driver.find_elements_by_xpath('//p[@class=\"averageCtc\"]')\n",
    "avg_salary"
   ]
  },
  {
   "cell_type": "code",
   "execution_count": 30,
   "id": "39241e73",
   "metadata": {},
   "outputs": [
    {
     "data": {
      "text/plain": [
       "['₹ 23.3L',\n",
       " '₹ 22.4L',\n",
       " '₹ 21.9L',\n",
       " '₹ 20.6L',\n",
       " '₹ 19.4L',\n",
       " '₹ 18.5L',\n",
       " '₹ 18.4L',\n",
       " '₹ 18.3L',\n",
       " '₹ 17.9L',\n",
       " '₹ 17.8L']"
      ]
     },
     "execution_count": 30,
     "metadata": {},
     "output_type": "execute_result"
    }
   ],
   "source": [
    "Average_Salary=[]\n",
    "for i in avg_salary:\n",
    "    Average_Salary.append(i.text)\n",
    "Average_Salary=Average_Salary[:10]\n",
    "Average_Salary"
   ]
  },
  {
   "cell_type": "markdown",
   "id": "b6630f6a",
   "metadata": {},
   "source": [
    "# Extracting Min. salary"
   ]
  },
  {
   "cell_type": "code",
   "execution_count": 31,
   "id": "f4f559c3",
   "metadata": {},
   "outputs": [
    {
     "data": {
      "text/plain": [
       "[<selenium.webdriver.remote.webelement.WebElement (session=\"979a4e52ade1ec279da93c56db739dce\", element=\"8b668ab5-57c1-4b39-a22f-1b7bd7869bda\")>,\n",
       " <selenium.webdriver.remote.webelement.WebElement (session=\"979a4e52ade1ec279da93c56db739dce\", element=\"c814f0c7-74b9-44f0-8c0a-483a852cf891\")>,\n",
       " <selenium.webdriver.remote.webelement.WebElement (session=\"979a4e52ade1ec279da93c56db739dce\", element=\"caa9e558-981d-43f0-91d3-27932c0d9e23\")>,\n",
       " <selenium.webdriver.remote.webelement.WebElement (session=\"979a4e52ade1ec279da93c56db739dce\", element=\"22ffdd5b-1d4a-40c8-9290-29badb119306\")>,\n",
       " <selenium.webdriver.remote.webelement.WebElement (session=\"979a4e52ade1ec279da93c56db739dce\", element=\"12957a17-f295-4e37-a9b1-b0e489c7f731\")>,\n",
       " <selenium.webdriver.remote.webelement.WebElement (session=\"979a4e52ade1ec279da93c56db739dce\", element=\"c0ea613e-0fcb-4c20-9cc5-6394d641af91\")>,\n",
       " <selenium.webdriver.remote.webelement.WebElement (session=\"979a4e52ade1ec279da93c56db739dce\", element=\"f8c7bce3-6ced-4691-aa9b-8addd18daf6a\")>,\n",
       " <selenium.webdriver.remote.webelement.WebElement (session=\"979a4e52ade1ec279da93c56db739dce\", element=\"99bb9967-2f21-45df-a19e-da8f315890cd\")>,\n",
       " <selenium.webdriver.remote.webelement.WebElement (session=\"979a4e52ade1ec279da93c56db739dce\", element=\"c2d2bd87-cf0e-4e8a-8e71-381aff342f97\")>,\n",
       " <selenium.webdriver.remote.webelement.WebElement (session=\"979a4e52ade1ec279da93c56db739dce\", element=\"e48a1f31-69ed-434a-8368-042394c84a81\")>]"
      ]
     },
     "execution_count": 31,
     "metadata": {},
     "output_type": "execute_result"
    }
   ],
   "source": [
    "min_salary=driver.find_elements_by_xpath('//div[@class=\"value body-medium\"]')\n",
    "min_salary[:10]"
   ]
  },
  {
   "cell_type": "code",
   "execution_count": 32,
   "id": "e161c7e1",
   "metadata": {},
   "outputs": [
    {
     "data": {
      "text/plain": [
       "['₹ 14.0L',\n",
       " '₹ 32.0L',\n",
       " '₹ 12.0L',\n",
       " '₹ 45.0L',\n",
       " '₹ 16.0L',\n",
       " '₹ 30.0L',\n",
       " '₹ 7.0L',\n",
       " '₹ 30.0L',\n",
       " '₹ 8.0L',\n",
       " '₹ 41.5L']"
      ]
     },
     "execution_count": 32,
     "metadata": {},
     "output_type": "execute_result"
    }
   ],
   "source": [
    "Min_Salary=[]\n",
    "for i in min_salary:\n",
    "    Min_Salary.append(i.text)\n",
    "Min_Salary=Min_Salary[:10]\n",
    "Min_Salary"
   ]
  },
  {
   "cell_type": "markdown",
   "id": "a0ca5b8c",
   "metadata": {},
   "source": [
    "# Extracting Max. salary¶"
   ]
  },
  {
   "cell_type": "code",
   "execution_count": 33,
   "id": "0147cd53",
   "metadata": {},
   "outputs": [
    {
     "data": {
      "text/plain": [
       "[<selenium.webdriver.remote.webelement.WebElement (session=\"979a4e52ade1ec279da93c56db739dce\", element=\"8b668ab5-57c1-4b39-a22f-1b7bd7869bda\")>,\n",
       " <selenium.webdriver.remote.webelement.WebElement (session=\"979a4e52ade1ec279da93c56db739dce\", element=\"c814f0c7-74b9-44f0-8c0a-483a852cf891\")>,\n",
       " <selenium.webdriver.remote.webelement.WebElement (session=\"979a4e52ade1ec279da93c56db739dce\", element=\"caa9e558-981d-43f0-91d3-27932c0d9e23\")>,\n",
       " <selenium.webdriver.remote.webelement.WebElement (session=\"979a4e52ade1ec279da93c56db739dce\", element=\"22ffdd5b-1d4a-40c8-9290-29badb119306\")>,\n",
       " <selenium.webdriver.remote.webelement.WebElement (session=\"979a4e52ade1ec279da93c56db739dce\", element=\"12957a17-f295-4e37-a9b1-b0e489c7f731\")>,\n",
       " <selenium.webdriver.remote.webelement.WebElement (session=\"979a4e52ade1ec279da93c56db739dce\", element=\"c0ea613e-0fcb-4c20-9cc5-6394d641af91\")>,\n",
       " <selenium.webdriver.remote.webelement.WebElement (session=\"979a4e52ade1ec279da93c56db739dce\", element=\"f8c7bce3-6ced-4691-aa9b-8addd18daf6a\")>,\n",
       " <selenium.webdriver.remote.webelement.WebElement (session=\"979a4e52ade1ec279da93c56db739dce\", element=\"99bb9967-2f21-45df-a19e-da8f315890cd\")>,\n",
       " <selenium.webdriver.remote.webelement.WebElement (session=\"979a4e52ade1ec279da93c56db739dce\", element=\"c2d2bd87-cf0e-4e8a-8e71-381aff342f97\")>,\n",
       " <selenium.webdriver.remote.webelement.WebElement (session=\"979a4e52ade1ec279da93c56db739dce\", element=\"e48a1f31-69ed-434a-8368-042394c84a81\")>]"
      ]
     },
     "execution_count": 33,
     "metadata": {},
     "output_type": "execute_result"
    }
   ],
   "source": [
    "max_salary=driver.find_elements_by_xpath('//div[@class=\"value body-medium\"]')\n",
    "max_salary[:10]"
   ]
  },
  {
   "cell_type": "code",
   "execution_count": 34,
   "id": "37df868a",
   "metadata": {},
   "outputs": [
    {
     "data": {
      "text/plain": [
       "['₹ 32.0L',\n",
       " '₹ 45.0L',\n",
       " '₹ 30.0L',\n",
       " '₹ 30.0L',\n",
       " '₹ 41.5L',\n",
       " '₹ 30.0L',\n",
       " '₹ 25.0L',\n",
       " '₹ 25.0L',\n",
       " '₹ 32.0L',\n",
       " '₹ 23.0L']"
      ]
     },
     "execution_count": 34,
     "metadata": {},
     "output_type": "execute_result"
    }
   ],
   "source": [
    "Max_Salary=[]\n",
    "for i in range(1,len(max_salary),2):\n",
    "    Max_Salary.append(max_salary[i].text)\n",
    "Max_Salary=Max_Salary[:10]\n",
    "Max_Salary"
   ]
  },
  {
   "cell_type": "markdown",
   "id": "a03705f7",
   "metadata": {},
   "source": [
    "# Extracting the Experience"
   ]
  },
  {
   "cell_type": "code",
   "execution_count": 35,
   "id": "e58bdf1e",
   "metadata": {},
   "outputs": [
    {
     "data": {
      "text/plain": [
       "[<selenium.webdriver.remote.webelement.WebElement (session=\"979a4e52ade1ec279da93c56db739dce\", element=\"7cca86ce-f743-478c-a615-20596faa6d73\")>,\n",
       " <selenium.webdriver.remote.webelement.WebElement (session=\"979a4e52ade1ec279da93c56db739dce\", element=\"0c488ed4-646a-40aa-a1dc-a359e9d6428c\")>,\n",
       " <selenium.webdriver.remote.webelement.WebElement (session=\"979a4e52ade1ec279da93c56db739dce\", element=\"f83aa0d8-d1e3-47d9-87c2-7d38b14e89fd\")>,\n",
       " <selenium.webdriver.remote.webelement.WebElement (session=\"979a4e52ade1ec279da93c56db739dce\", element=\"02655dc6-5dbf-4467-aa41-be48a0ee313f\")>,\n",
       " <selenium.webdriver.remote.webelement.WebElement (session=\"979a4e52ade1ec279da93c56db739dce\", element=\"77a5a1db-6fa1-4180-80e9-69a6757b4904\")>,\n",
       " <selenium.webdriver.remote.webelement.WebElement (session=\"979a4e52ade1ec279da93c56db739dce\", element=\"16bf2bbe-b4de-494f-a94f-b93deb741024\")>,\n",
       " <selenium.webdriver.remote.webelement.WebElement (session=\"979a4e52ade1ec279da93c56db739dce\", element=\"7f000492-feb1-4143-a70d-fd49e8452662\")>,\n",
       " <selenium.webdriver.remote.webelement.WebElement (session=\"979a4e52ade1ec279da93c56db739dce\", element=\"b9a0bb46-d356-48ba-8b86-4a64c37b79a2\")>,\n",
       " <selenium.webdriver.remote.webelement.WebElement (session=\"979a4e52ade1ec279da93c56db739dce\", element=\"a39147df-41f7-4bcb-a40e-f4fb4c632b2c\")>,\n",
       " <selenium.webdriver.remote.webelement.WebElement (session=\"979a4e52ade1ec279da93c56db739dce\", element=\"79d4d9d0-8e32-4ef9-98cc-bc316af33964\")>]"
      ]
     },
     "execution_count": 35,
     "metadata": {},
     "output_type": "execute_result"
    }
   ],
   "source": [
    "exp=driver.find_elements_by_xpath('//div[@class=\"salaries sbold-list-header\"]')\n",
    "exp"
   ]
  },
  {
   "cell_type": "code",
   "execution_count": 36,
   "id": "d568fbb9",
   "metadata": {},
   "outputs": [
    {
     "data": {
      "text/plain": [
       "['Software Engineer\\n . \\n4 yrs exp',\n",
       " 'Software Engineer\\n . \\n1-4 yrs exp',\n",
       " 'Software Engineer\\n . \\n2 yrs exp',\n",
       " 'Software Engineer\\n . \\n1-4 yrs exp',\n",
       " 'Software Engineer\\n . \\n1-4 yrs exp',\n",
       " 'Software Engineer\\n . \\n1 yr exp',\n",
       " 'Software Engineer\\n . \\n1 yr exp',\n",
       " 'Software Engineer\\n . \\n2-3 yrs exp',\n",
       " 'Software Engineer\\n . \\n1-4 yrs exp',\n",
       " 'Software Engineer\\n . \\n3 yrs exp']"
      ]
     },
     "execution_count": 36,
     "metadata": {},
     "output_type": "execute_result"
    }
   ],
   "source": [
    "Experience=[]\n",
    "for i in exp:\n",
    "    Experience.append(i.text)\n",
    "Experience=Experience[:10]\n",
    "Experience"
   ]
  },
  {
   "cell_type": "markdown",
   "id": "ac3ed56d",
   "metadata": {},
   "source": [
    "# Data Frame"
   ]
  },
  {
   "cell_type": "code",
   "execution_count": 37,
   "id": "f592815f",
   "metadata": {},
   "outputs": [],
   "source": [
    "Data_scientist_Designation=pd.DataFrame()"
   ]
  },
  {
   "cell_type": "code",
   "execution_count": 39,
   "id": "bcf22163",
   "metadata": {},
   "outputs": [
    {
     "data": {
      "text/html": [
       "<div>\n",
       "<style scoped>\n",
       "    .dataframe tbody tr th:only-of-type {\n",
       "        vertical-align: middle;\n",
       "    }\n",
       "\n",
       "    .dataframe tbody tr th {\n",
       "        vertical-align: top;\n",
       "    }\n",
       "\n",
       "    .dataframe thead th {\n",
       "        text-align: right;\n",
       "    }\n",
       "</style>\n",
       "<table border=\"1\" class=\"dataframe\">\n",
       "  <thead>\n",
       "    <tr style=\"text-align: right;\">\n",
       "      <th></th>\n",
       "      <th>Company Names</th>\n",
       "      <th>Total Salary</th>\n",
       "      <th>Avg Salary</th>\n",
       "      <th>Minium Salary</th>\n",
       "      <th>Maximum Salary</th>\n",
       "      <th>Experience</th>\n",
       "    </tr>\n",
       "  </thead>\n",
       "  <tbody>\n",
       "    <tr>\n",
       "      <th>0</th>\n",
       "      <td>Tekion</td>\n",
       "      <td>based on 10 salaries</td>\n",
       "      <td>₹ 23.3L</td>\n",
       "      <td>₹ 14.0L</td>\n",
       "      <td>₹ 32.0L</td>\n",
       "      <td>Software Engineer\\n . \\n4 yrs exp</td>\n",
       "    </tr>\n",
       "    <tr>\n",
       "      <th>1</th>\n",
       "      <td>Microsoft Corporation</td>\n",
       "      <td>based on 224 salaries</td>\n",
       "      <td>₹ 22.4L</td>\n",
       "      <td>₹ 32.0L</td>\n",
       "      <td>₹ 45.0L</td>\n",
       "      <td>Software Engineer\\n . \\n1-4 yrs exp</td>\n",
       "    </tr>\n",
       "    <tr>\n",
       "      <th>2</th>\n",
       "      <td>Goldman Sachs</td>\n",
       "      <td>based on 11 salaries</td>\n",
       "      <td>₹ 21.9L</td>\n",
       "      <td>₹ 12.0L</td>\n",
       "      <td>₹ 30.0L</td>\n",
       "      <td>Software Engineer\\n . \\n2 yrs exp</td>\n",
       "    </tr>\n",
       "    <tr>\n",
       "      <th>3</th>\n",
       "      <td>Flipkart</td>\n",
       "      <td>based on 54 salaries</td>\n",
       "      <td>₹ 20.6L</td>\n",
       "      <td>₹ 45.0L</td>\n",
       "      <td>₹ 30.0L</td>\n",
       "      <td>Software Engineer\\n . \\n1-4 yrs exp</td>\n",
       "    </tr>\n",
       "    <tr>\n",
       "      <th>4</th>\n",
       "      <td>Amazon</td>\n",
       "      <td>based on 85 salaries</td>\n",
       "      <td>₹ 19.4L</td>\n",
       "      <td>₹ 16.0L</td>\n",
       "      <td>₹ 41.5L</td>\n",
       "      <td>Software Engineer\\n . \\n1-4 yrs exp</td>\n",
       "    </tr>\n",
       "    <tr>\n",
       "      <th>5</th>\n",
       "      <td>Arcesium</td>\n",
       "      <td>based on 37 salaries</td>\n",
       "      <td>₹ 18.5L</td>\n",
       "      <td>₹ 30.0L</td>\n",
       "      <td>₹ 30.0L</td>\n",
       "      <td>Software Engineer\\n . \\n1 yr exp</td>\n",
       "    </tr>\n",
       "    <tr>\n",
       "      <th>6</th>\n",
       "      <td>PayPal</td>\n",
       "      <td>based on 12 salaries</td>\n",
       "      <td>₹ 18.4L</td>\n",
       "      <td>₹ 7.0L</td>\n",
       "      <td>₹ 25.0L</td>\n",
       "      <td>Software Engineer\\n . \\n1 yr exp</td>\n",
       "    </tr>\n",
       "    <tr>\n",
       "      <th>7</th>\n",
       "      <td>Servicenow Software Development India</td>\n",
       "      <td>based on 27 salaries</td>\n",
       "      <td>₹ 18.3L</td>\n",
       "      <td>₹ 30.0L</td>\n",
       "      <td>₹ 25.0L</td>\n",
       "      <td>Software Engineer\\n . \\n2-3 yrs exp</td>\n",
       "    </tr>\n",
       "    <tr>\n",
       "      <th>8</th>\n",
       "      <td>Walmart</td>\n",
       "      <td>based on 79 salaries</td>\n",
       "      <td>₹ 17.9L</td>\n",
       "      <td>₹ 8.0L</td>\n",
       "      <td>₹ 32.0L</td>\n",
       "      <td>Software Engineer\\n . \\n1-4 yrs exp</td>\n",
       "    </tr>\n",
       "    <tr>\n",
       "      <th>9</th>\n",
       "      <td>ServiceNow</td>\n",
       "      <td>based on 16 salaries</td>\n",
       "      <td>₹ 17.8L</td>\n",
       "      <td>₹ 41.5L</td>\n",
       "      <td>₹ 23.0L</td>\n",
       "      <td>Software Engineer\\n . \\n3 yrs exp</td>\n",
       "    </tr>\n",
       "  </tbody>\n",
       "</table>\n",
       "</div>"
      ],
      "text/plain": [
       "                           Company Names           Total Salary Avg Salary  \\\n",
       "0                                 Tekion   based on 10 salaries    ₹ 23.3L   \n",
       "1                  Microsoft Corporation  based on 224 salaries    ₹ 22.4L   \n",
       "2                          Goldman Sachs   based on 11 salaries    ₹ 21.9L   \n",
       "3                               Flipkart   based on 54 salaries    ₹ 20.6L   \n",
       "4                                 Amazon   based on 85 salaries    ₹ 19.4L   \n",
       "5                               Arcesium   based on 37 salaries    ₹ 18.5L   \n",
       "6                                 PayPal   based on 12 salaries    ₹ 18.4L   \n",
       "7  Servicenow Software Development India   based on 27 salaries    ₹ 18.3L   \n",
       "8                                Walmart   based on 79 salaries    ₹ 17.9L   \n",
       "9                             ServiceNow   based on 16 salaries    ₹ 17.8L   \n",
       "\n",
       "  Minium Salary Maximum Salary                           Experience  \n",
       "0       ₹ 14.0L        ₹ 32.0L    Software Engineer\\n . \\n4 yrs exp  \n",
       "1       ₹ 32.0L        ₹ 45.0L  Software Engineer\\n . \\n1-4 yrs exp  \n",
       "2       ₹ 12.0L        ₹ 30.0L    Software Engineer\\n . \\n2 yrs exp  \n",
       "3       ₹ 45.0L        ₹ 30.0L  Software Engineer\\n . \\n1-4 yrs exp  \n",
       "4       ₹ 16.0L        ₹ 41.5L  Software Engineer\\n . \\n1-4 yrs exp  \n",
       "5       ₹ 30.0L        ₹ 30.0L     Software Engineer\\n . \\n1 yr exp  \n",
       "6        ₹ 7.0L        ₹ 25.0L     Software Engineer\\n . \\n1 yr exp  \n",
       "7       ₹ 30.0L        ₹ 25.0L  Software Engineer\\n . \\n2-3 yrs exp  \n",
       "8        ₹ 8.0L        ₹ 32.0L  Software Engineer\\n . \\n1-4 yrs exp  \n",
       "9       ₹ 41.5L        ₹ 23.0L    Software Engineer\\n . \\n3 yrs exp  "
      ]
     },
     "execution_count": 39,
     "metadata": {},
     "output_type": "execute_result"
    }
   ],
   "source": [
    "Data_scientist_Designation['Company Names']=company_names\n",
    "Data_scientist_Designation['Total Salary']=Total_salary\n",
    "Data_scientist_Designation['Avg Salary']=Average_Salary\n",
    "Data_scientist_Designation['Minium Salary']=Min_Salary\n",
    "Data_scientist_Designation['Maximum Salary']=Max_Salary\n",
    "Data_scientist_Designation['Experience']=Experience\n",
    "Data_scientist_Designation"
   ]
  },
  {
   "cell_type": "code",
   "execution_count": null,
   "id": "5eb8adf5",
   "metadata": {},
   "outputs": [],
   "source": []
  }
 ],
 "metadata": {
  "kernelspec": {
   "display_name": "Python 3",
   "language": "python",
   "name": "python3"
  },
  "language_info": {
   "codemirror_mode": {
    "name": "ipython",
    "version": 3
   },
   "file_extension": ".py",
   "mimetype": "text/x-python",
   "name": "python",
   "nbconvert_exporter": "python",
   "pygments_lexer": "ipython3",
   "version": "3.8.8"
  }
 },
 "nbformat": 4,
 "nbformat_minor": 5
}
